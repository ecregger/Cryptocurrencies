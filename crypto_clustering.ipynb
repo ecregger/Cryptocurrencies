{
 "cells": [
  {
   "cell_type": "markdown",
   "metadata": {},
   "source": [
    "# Clustering Crypto"
   ]
  },
  {
   "cell_type": "code",
   "execution_count": 109,
   "metadata": {},
   "outputs": [],
   "source": [
    "# Initial imports\n",
    "import pandas as pd\n",
    "import hvplot.pandas\n",
    "from pathlib import Path\n",
    "import plotly.express as px\n",
    "from sklearn.preprocessing import StandardScaler, MinMaxScaler\n",
    "from sklearn.decomposition import PCA\n",
    "from sklearn.cluster import KMeans\n"
   ]
  },
  {
   "cell_type": "markdown",
   "metadata": {},
   "source": [
    "### Deliverable 1: Preprocessing the Data for PCA"
   ]
  },
  {
   "cell_type": "code",
   "execution_count": 110,
   "metadata": {},
   "outputs": [
    {
     "data": {
      "text/html": [
       "<div>\n",
       "<style scoped>\n",
       "    .dataframe tbody tr th:only-of-type {\n",
       "        vertical-align: middle;\n",
       "    }\n",
       "\n",
       "    .dataframe tbody tr th {\n",
       "        vertical-align: top;\n",
       "    }\n",
       "\n",
       "    .dataframe thead th {\n",
       "        text-align: right;\n",
       "    }\n",
       "</style>\n",
       "<table border=\"1\" class=\"dataframe\">\n",
       "  <thead>\n",
       "    <tr style=\"text-align: right;\">\n",
       "      <th></th>\n",
       "      <th>CoinName</th>\n",
       "      <th>Algorithm</th>\n",
       "      <th>IsTrading</th>\n",
       "      <th>ProofType</th>\n",
       "      <th>TotalCoinsMined</th>\n",
       "      <th>TotalCoinSupply</th>\n",
       "    </tr>\n",
       "  </thead>\n",
       "  <tbody>\n",
       "    <tr>\n",
       "      <th>42</th>\n",
       "      <td>42 Coin</td>\n",
       "      <td>Scrypt</td>\n",
       "      <td>True</td>\n",
       "      <td>PoW/PoS</td>\n",
       "      <td>4.199995e+01</td>\n",
       "      <td>42</td>\n",
       "    </tr>\n",
       "    <tr>\n",
       "      <th>365</th>\n",
       "      <td>365Coin</td>\n",
       "      <td>X11</td>\n",
       "      <td>True</td>\n",
       "      <td>PoW/PoS</td>\n",
       "      <td>NaN</td>\n",
       "      <td>2300000000</td>\n",
       "    </tr>\n",
       "    <tr>\n",
       "      <th>404</th>\n",
       "      <td>404Coin</td>\n",
       "      <td>Scrypt</td>\n",
       "      <td>True</td>\n",
       "      <td>PoW/PoS</td>\n",
       "      <td>1.055185e+09</td>\n",
       "      <td>532000000</td>\n",
       "    </tr>\n",
       "    <tr>\n",
       "      <th>611</th>\n",
       "      <td>SixEleven</td>\n",
       "      <td>SHA-256</td>\n",
       "      <td>True</td>\n",
       "      <td>PoW</td>\n",
       "      <td>NaN</td>\n",
       "      <td>611000</td>\n",
       "    </tr>\n",
       "    <tr>\n",
       "      <th>808</th>\n",
       "      <td>808</td>\n",
       "      <td>SHA-256</td>\n",
       "      <td>True</td>\n",
       "      <td>PoW/PoS</td>\n",
       "      <td>0.000000e+00</td>\n",
       "      <td>0</td>\n",
       "    </tr>\n",
       "  </tbody>\n",
       "</table>\n",
       "</div>"
      ],
      "text/plain": [
       "      CoinName Algorithm  IsTrading ProofType  TotalCoinsMined TotalCoinSupply\n",
       "42     42 Coin    Scrypt       True   PoW/PoS     4.199995e+01              42\n",
       "365    365Coin       X11       True   PoW/PoS              NaN      2300000000\n",
       "404    404Coin    Scrypt       True   PoW/PoS     1.055185e+09       532000000\n",
       "611  SixEleven   SHA-256       True       PoW              NaN          611000\n",
       "808        808   SHA-256       True   PoW/PoS     0.000000e+00               0"
      ]
     },
     "execution_count": 110,
     "metadata": {},
     "output_type": "execute_result"
    }
   ],
   "source": [
    "# Load the crypto_data.csv dataset.\n",
    "file_load = 'crypto_data.csv'\n",
    "dataload = pd.read_csv(file_load, index_col=0)\n",
    "df = pd.DataFrame(dataload)\n",
    "df.head()"
   ]
  },
  {
   "cell_type": "code",
   "execution_count": 111,
   "metadata": {},
   "outputs": [
    {
     "data": {
      "text/html": [
       "<div>\n",
       "<style scoped>\n",
       "    .dataframe tbody tr th:only-of-type {\n",
       "        vertical-align: middle;\n",
       "    }\n",
       "\n",
       "    .dataframe tbody tr th {\n",
       "        vertical-align: top;\n",
       "    }\n",
       "\n",
       "    .dataframe thead th {\n",
       "        text-align: right;\n",
       "    }\n",
       "</style>\n",
       "<table border=\"1\" class=\"dataframe\">\n",
       "  <thead>\n",
       "    <tr style=\"text-align: right;\">\n",
       "      <th></th>\n",
       "      <th>CoinName</th>\n",
       "      <th>Algorithm</th>\n",
       "      <th>IsTrading</th>\n",
       "      <th>ProofType</th>\n",
       "      <th>TotalCoinsMined</th>\n",
       "      <th>TotalCoinSupply</th>\n",
       "    </tr>\n",
       "  </thead>\n",
       "  <tbody>\n",
       "    <tr>\n",
       "      <th>42</th>\n",
       "      <td>42 Coin</td>\n",
       "      <td>Scrypt</td>\n",
       "      <td>True</td>\n",
       "      <td>PoW/PoS</td>\n",
       "      <td>4.199995e+01</td>\n",
       "      <td>42</td>\n",
       "    </tr>\n",
       "    <tr>\n",
       "      <th>365</th>\n",
       "      <td>365Coin</td>\n",
       "      <td>X11</td>\n",
       "      <td>True</td>\n",
       "      <td>PoW/PoS</td>\n",
       "      <td>NaN</td>\n",
       "      <td>2300000000</td>\n",
       "    </tr>\n",
       "    <tr>\n",
       "      <th>404</th>\n",
       "      <td>404Coin</td>\n",
       "      <td>Scrypt</td>\n",
       "      <td>True</td>\n",
       "      <td>PoW/PoS</td>\n",
       "      <td>1.055185e+09</td>\n",
       "      <td>532000000</td>\n",
       "    </tr>\n",
       "    <tr>\n",
       "      <th>611</th>\n",
       "      <td>SixEleven</td>\n",
       "      <td>SHA-256</td>\n",
       "      <td>True</td>\n",
       "      <td>PoW</td>\n",
       "      <td>NaN</td>\n",
       "      <td>611000</td>\n",
       "    </tr>\n",
       "    <tr>\n",
       "      <th>808</th>\n",
       "      <td>808</td>\n",
       "      <td>SHA-256</td>\n",
       "      <td>True</td>\n",
       "      <td>PoW/PoS</td>\n",
       "      <td>0.000000e+00</td>\n",
       "      <td>0</td>\n",
       "    </tr>\n",
       "    <tr>\n",
       "      <th>1337</th>\n",
       "      <td>EliteCoin</td>\n",
       "      <td>X13</td>\n",
       "      <td>True</td>\n",
       "      <td>PoW/PoS</td>\n",
       "      <td>2.927942e+10</td>\n",
       "      <td>314159265359</td>\n",
       "    </tr>\n",
       "    <tr>\n",
       "      <th>2015</th>\n",
       "      <td>2015 coin</td>\n",
       "      <td>X11</td>\n",
       "      <td>True</td>\n",
       "      <td>PoW/PoS</td>\n",
       "      <td>NaN</td>\n",
       "      <td>0</td>\n",
       "    </tr>\n",
       "    <tr>\n",
       "      <th>BTC</th>\n",
       "      <td>Bitcoin</td>\n",
       "      <td>SHA-256</td>\n",
       "      <td>True</td>\n",
       "      <td>PoW</td>\n",
       "      <td>1.792718e+07</td>\n",
       "      <td>21000000</td>\n",
       "    </tr>\n",
       "    <tr>\n",
       "      <th>ETH</th>\n",
       "      <td>Ethereum</td>\n",
       "      <td>Ethash</td>\n",
       "      <td>True</td>\n",
       "      <td>PoW</td>\n",
       "      <td>1.076842e+08</td>\n",
       "      <td>0</td>\n",
       "    </tr>\n",
       "    <tr>\n",
       "      <th>LTC</th>\n",
       "      <td>Litecoin</td>\n",
       "      <td>Scrypt</td>\n",
       "      <td>True</td>\n",
       "      <td>PoW</td>\n",
       "      <td>6.303924e+07</td>\n",
       "      <td>84000000</td>\n",
       "    </tr>\n",
       "    <tr>\n",
       "      <th>DASH</th>\n",
       "      <td>Dash</td>\n",
       "      <td>X11</td>\n",
       "      <td>True</td>\n",
       "      <td>PoW/PoS</td>\n",
       "      <td>9.031294e+06</td>\n",
       "      <td>22000000</td>\n",
       "    </tr>\n",
       "    <tr>\n",
       "      <th>XMR</th>\n",
       "      <td>Monero</td>\n",
       "      <td>CryptoNight-V7</td>\n",
       "      <td>True</td>\n",
       "      <td>PoW</td>\n",
       "      <td>1.720114e+07</td>\n",
       "      <td>0</td>\n",
       "    </tr>\n",
       "    <tr>\n",
       "      <th>ETC</th>\n",
       "      <td>Ethereum Classic</td>\n",
       "      <td>Ethash</td>\n",
       "      <td>True</td>\n",
       "      <td>PoW</td>\n",
       "      <td>1.133597e+08</td>\n",
       "      <td>210000000</td>\n",
       "    </tr>\n",
       "    <tr>\n",
       "      <th>ZEC</th>\n",
       "      <td>ZCash</td>\n",
       "      <td>Equihash</td>\n",
       "      <td>True</td>\n",
       "      <td>PoW</td>\n",
       "      <td>7.383056e+06</td>\n",
       "      <td>21000000</td>\n",
       "    </tr>\n",
       "    <tr>\n",
       "      <th>BTS</th>\n",
       "      <td>Bitshares</td>\n",
       "      <td>SHA-512</td>\n",
       "      <td>True</td>\n",
       "      <td>PoS</td>\n",
       "      <td>2.741570e+09</td>\n",
       "      <td>3600570502</td>\n",
       "    </tr>\n",
       "    <tr>\n",
       "      <th>DGB</th>\n",
       "      <td>DigiByte</td>\n",
       "      <td>Multiple</td>\n",
       "      <td>True</td>\n",
       "      <td>PoW</td>\n",
       "      <td>1.140622e+10</td>\n",
       "      <td>21000000000</td>\n",
       "    </tr>\n",
       "    <tr>\n",
       "      <th>BTCD</th>\n",
       "      <td>BitcoinDark</td>\n",
       "      <td>SHA-256</td>\n",
       "      <td>True</td>\n",
       "      <td>PoW/PoS</td>\n",
       "      <td>1.288862e+06</td>\n",
       "      <td>22000000</td>\n",
       "    </tr>\n",
       "    <tr>\n",
       "      <th>CRAIG</th>\n",
       "      <td>CraigsCoin</td>\n",
       "      <td>X11</td>\n",
       "      <td>True</td>\n",
       "      <td>PoS</td>\n",
       "      <td>NaN</td>\n",
       "      <td>30000000</td>\n",
       "    </tr>\n",
       "    <tr>\n",
       "      <th>XBS</th>\n",
       "      <td>Bitstake</td>\n",
       "      <td>X11</td>\n",
       "      <td>True</td>\n",
       "      <td>PoW/PoS</td>\n",
       "      <td>0.000000e+00</td>\n",
       "      <td>1300000</td>\n",
       "    </tr>\n",
       "    <tr>\n",
       "      <th>XPY</th>\n",
       "      <td>PayCoin</td>\n",
       "      <td>SHA-256</td>\n",
       "      <td>True</td>\n",
       "      <td>PoS</td>\n",
       "      <td>1.199533e+07</td>\n",
       "      <td>12500000</td>\n",
       "    </tr>\n",
       "    <tr>\n",
       "      <th>PRC</th>\n",
       "      <td>ProsperCoin</td>\n",
       "      <td>Scrypt</td>\n",
       "      <td>True</td>\n",
       "      <td>PoW</td>\n",
       "      <td>5.768310e+06</td>\n",
       "      <td>21000000</td>\n",
       "    </tr>\n",
       "    <tr>\n",
       "      <th>YBC</th>\n",
       "      <td>YbCoin</td>\n",
       "      <td>Multiple</td>\n",
       "      <td>True</td>\n",
       "      <td>PoS</td>\n",
       "      <td>NaN</td>\n",
       "      <td>200000000</td>\n",
       "    </tr>\n",
       "    <tr>\n",
       "      <th>DANK</th>\n",
       "      <td>DarkKush</td>\n",
       "      <td>X13</td>\n",
       "      <td>True</td>\n",
       "      <td>PoW/PoS</td>\n",
       "      <td>NaN</td>\n",
       "      <td>3000000</td>\n",
       "    </tr>\n",
       "    <tr>\n",
       "      <th>GIVE</th>\n",
       "      <td>GiveCoin</td>\n",
       "      <td>X11</td>\n",
       "      <td>True</td>\n",
       "      <td>PoW</td>\n",
       "      <td>NaN</td>\n",
       "      <td>500000000</td>\n",
       "    </tr>\n",
       "    <tr>\n",
       "      <th>KOBO</th>\n",
       "      <td>KoboCoin</td>\n",
       "      <td>X15</td>\n",
       "      <td>True</td>\n",
       "      <td>PoW/PoS</td>\n",
       "      <td>2.554254e+07</td>\n",
       "      <td>350000000</td>\n",
       "    </tr>\n",
       "    <tr>\n",
       "      <th>DT</th>\n",
       "      <td>DarkToken</td>\n",
       "      <td>NIST5</td>\n",
       "      <td>True</td>\n",
       "      <td>PoW/PoS</td>\n",
       "      <td>NaN</td>\n",
       "      <td>0</td>\n",
       "    </tr>\n",
       "    <tr>\n",
       "      <th>CETI</th>\n",
       "      <td>CETUS Coin</td>\n",
       "      <td>Scrypt</td>\n",
       "      <td>True</td>\n",
       "      <td>PoW/PoS</td>\n",
       "      <td>NaN</td>\n",
       "      <td>0</td>\n",
       "    </tr>\n",
       "    <tr>\n",
       "      <th>SPR</th>\n",
       "      <td>Spreadcoin</td>\n",
       "      <td>X11</td>\n",
       "      <td>True</td>\n",
       "      <td>PoW</td>\n",
       "      <td>1.114973e+07</td>\n",
       "      <td>20000000</td>\n",
       "    </tr>\n",
       "    <tr>\n",
       "      <th>WOLF</th>\n",
       "      <td>Insanity Coin</td>\n",
       "      <td>X11</td>\n",
       "      <td>True</td>\n",
       "      <td>PoW</td>\n",
       "      <td>NaN</td>\n",
       "      <td>50000000</td>\n",
       "    </tr>\n",
       "    <tr>\n",
       "      <th>ACOIN</th>\n",
       "      <td>ACoin</td>\n",
       "      <td>SHA-256</td>\n",
       "      <td>True</td>\n",
       "      <td>PoW</td>\n",
       "      <td>0.000000e+00</td>\n",
       "      <td>1600000</td>\n",
       "    </tr>\n",
       "  </tbody>\n",
       "</table>\n",
       "</div>"
      ],
      "text/plain": [
       "               CoinName       Algorithm  IsTrading ProofType  TotalCoinsMined  \\\n",
       "42              42 Coin          Scrypt       True   PoW/PoS     4.199995e+01   \n",
       "365             365Coin             X11       True   PoW/PoS              NaN   \n",
       "404             404Coin          Scrypt       True   PoW/PoS     1.055185e+09   \n",
       "611           SixEleven         SHA-256       True       PoW              NaN   \n",
       "808                 808         SHA-256       True   PoW/PoS     0.000000e+00   \n",
       "1337          EliteCoin             X13       True   PoW/PoS     2.927942e+10   \n",
       "2015          2015 coin             X11       True   PoW/PoS              NaN   \n",
       "BTC             Bitcoin         SHA-256       True       PoW     1.792718e+07   \n",
       "ETH            Ethereum          Ethash       True       PoW     1.076842e+08   \n",
       "LTC            Litecoin          Scrypt       True       PoW     6.303924e+07   \n",
       "DASH               Dash             X11       True   PoW/PoS     9.031294e+06   \n",
       "XMR              Monero  CryptoNight-V7       True       PoW     1.720114e+07   \n",
       "ETC    Ethereum Classic          Ethash       True       PoW     1.133597e+08   \n",
       "ZEC               ZCash        Equihash       True       PoW     7.383056e+06   \n",
       "BTS           Bitshares         SHA-512       True       PoS     2.741570e+09   \n",
       "DGB            DigiByte        Multiple       True       PoW     1.140622e+10   \n",
       "BTCD        BitcoinDark         SHA-256       True   PoW/PoS     1.288862e+06   \n",
       "CRAIG        CraigsCoin             X11       True       PoS              NaN   \n",
       "XBS            Bitstake             X11       True   PoW/PoS     0.000000e+00   \n",
       "XPY             PayCoin         SHA-256       True       PoS     1.199533e+07   \n",
       "PRC         ProsperCoin          Scrypt       True       PoW     5.768310e+06   \n",
       "YBC              YbCoin        Multiple       True       PoS              NaN   \n",
       "DANK           DarkKush             X13       True   PoW/PoS              NaN   \n",
       "GIVE           GiveCoin             X11       True       PoW              NaN   \n",
       "KOBO           KoboCoin             X15       True   PoW/PoS     2.554254e+07   \n",
       "DT            DarkToken           NIST5       True   PoW/PoS              NaN   \n",
       "CETI         CETUS Coin          Scrypt       True   PoW/PoS              NaN   \n",
       "SPR          Spreadcoin             X11       True       PoW     1.114973e+07   \n",
       "WOLF      Insanity Coin             X11       True       PoW              NaN   \n",
       "ACOIN             ACoin         SHA-256       True       PoW     0.000000e+00   \n",
       "\n",
       "      TotalCoinSupply  \n",
       "42                 42  \n",
       "365        2300000000  \n",
       "404         532000000  \n",
       "611            611000  \n",
       "808                 0  \n",
       "1337     314159265359  \n",
       "2015                0  \n",
       "BTC          21000000  \n",
       "ETH                 0  \n",
       "LTC          84000000  \n",
       "DASH         22000000  \n",
       "XMR                 0  \n",
       "ETC         210000000  \n",
       "ZEC          21000000  \n",
       "BTS        3600570502  \n",
       "DGB       21000000000  \n",
       "BTCD         22000000  \n",
       "CRAIG        30000000  \n",
       "XBS           1300000  \n",
       "XPY          12500000  \n",
       "PRC          21000000  \n",
       "YBC         200000000  \n",
       "DANK          3000000  \n",
       "GIVE        500000000  \n",
       "KOBO        350000000  \n",
       "DT                  0  \n",
       "CETI                0  \n",
       "SPR          20000000  \n",
       "WOLF         50000000  \n",
       "ACOIN         1600000  "
      ]
     },
     "execution_count": 111,
     "metadata": {},
     "output_type": "execute_result"
    }
   ],
   "source": [
    "# Keep all the cryptocurrencies that are being traded.\n",
    "df = df.loc[df['IsTrading']==True]\n",
    "df.head(30)"
   ]
  },
  {
   "cell_type": "code",
   "execution_count": 112,
   "metadata": {},
   "outputs": [
    {
     "data": {
      "text/plain": [
       "(1144, 5)"
      ]
     },
     "execution_count": 112,
     "metadata": {},
     "output_type": "execute_result"
    }
   ],
   "source": [
    "# Remove the \"IsTrading\" column. \n",
    "df = df.drop(columns='IsTrading')\n",
    "df.shape"
   ]
  },
  {
   "cell_type": "code",
   "execution_count": 113,
   "metadata": {},
   "outputs": [
    {
     "data": {
      "text/plain": [
       "(685, 5)"
      ]
     },
     "execution_count": 113,
     "metadata": {},
     "output_type": "execute_result"
    }
   ],
   "source": [
    "# Remove rows that have at least 1 null value.\n",
    "df = df.dropna()\n",
    "df.shape"
   ]
  },
  {
   "cell_type": "code",
   "execution_count": 114,
   "metadata": {},
   "outputs": [
    {
     "data": {
      "text/plain": [
       "(532, 5)"
      ]
     },
     "execution_count": 114,
     "metadata": {},
     "output_type": "execute_result"
    }
   ],
   "source": [
    "# Keep the rows where coins are mined.\n",
    "df = df.loc[df['TotalCoinsMined'] > 0]\n",
    "df.shape"
   ]
  },
  {
   "cell_type": "code",
   "execution_count": 115,
   "metadata": {},
   "outputs": [
    {
     "data": {
      "text/plain": [
       "(532,)"
      ]
     },
     "execution_count": 115,
     "metadata": {},
     "output_type": "execute_result"
    }
   ],
   "source": [
    "# Create a new DataFrame that holds only the cryptocurrencies names.\n",
    "df_crypto = df['CoinName']\n",
    "df_crypto.shape"
   ]
  },
  {
   "cell_type": "code",
   "execution_count": 116,
   "metadata": {},
   "outputs": [
    {
     "data": {
      "text/plain": [
       "(532, 4)"
      ]
     },
     "execution_count": 116,
     "metadata": {},
     "output_type": "execute_result"
    }
   ],
   "source": [
    "# Drop the 'CoinName' column since it's not going to be used on the clustering algorithm.\n",
    "df = df.drop('CoinName', axis=1)\n",
    "df.shape"
   ]
  },
  {
   "cell_type": "code",
   "execution_count": 117,
   "metadata": {},
   "outputs": [
    {
     "data": {
      "text/plain": [
       "(532, 98)"
      ]
     },
     "execution_count": 117,
     "metadata": {},
     "output_type": "execute_result"
    }
   ],
   "source": [
    "# Use get_dummies() to create variables for text features.\n",
    "df.dtypes\n",
    "df_encoded = pd.get_dummies(df, columns=['Algorithm', 'ProofType'])\n",
    "df_encoded.shape"
   ]
  },
  {
   "cell_type": "code",
   "execution_count": 118,
   "metadata": {},
   "outputs": [
    {
     "data": {
      "text/plain": [
       "array([[-0.11710817, -0.1528703 , -0.0433963 , ..., -0.0433963 ,\n",
       "        -0.0433963 , -0.0433963 ],\n",
       "       [-0.09396955, -0.145009  , -0.0433963 , ..., -0.0433963 ,\n",
       "        -0.0433963 , -0.0433963 ],\n",
       "       [ 0.52494561,  4.48942416, -0.0433963 , ..., -0.0433963 ,\n",
       "        -0.0433963 , -0.0433963 ],\n",
       "       ...,\n",
       "       [-0.09561336, -0.13217937, -0.0433963 , ..., -0.0433963 ,\n",
       "        -0.0433963 , -0.0433963 ],\n",
       "       [-0.11694817, -0.15255998, -0.0433963 , ..., -0.0433963 ,\n",
       "        -0.0433963 , -0.0433963 ],\n",
       "       [-0.11710536, -0.15285552, -0.0433963 , ..., -0.0433963 ,\n",
       "        -0.0433963 , -0.0433963 ]])"
      ]
     },
     "execution_count": 118,
     "metadata": {},
     "output_type": "execute_result"
    }
   ],
   "source": [
    "# Standardize the data with StandardScaler().\n",
    "df_scaled = StandardScaler().fit_transform(df_encoded)\n",
    "df_scaled"
   ]
  },
  {
   "cell_type": "markdown",
   "metadata": {},
   "source": [
    "### Deliverable 2: Reducing Data Dimensions Using PCA"
   ]
  },
  {
   "cell_type": "code",
   "execution_count": 119,
   "metadata": {},
   "outputs": [
    {
     "data": {
      "text/plain": [
       "array([[-0.33157282,  0.99826956, -0.57407482],\n",
       "       [-0.31496331,  0.9984039 , -0.57442105],\n",
       "       [ 2.30058236,  1.64899826, -0.66971   ],\n",
       "       ...,\n",
       "       [ 0.3264714 , -2.30457445,  0.38808029],\n",
       "       [-0.16701627, -2.01296347,  0.31615677],\n",
       "       [-0.29343626,  0.77009983, -0.26995743]])"
      ]
     },
     "execution_count": 119,
     "metadata": {},
     "output_type": "execute_result"
    }
   ],
   "source": [
    "# Using PCA to reduce dimension to three principal components.\n",
    "pca = PCA(n_components=3)\n",
    "df_pca = pca.fit_transform(df_scaled)\n",
    "df_pca"
   ]
  },
  {
   "cell_type": "code",
   "execution_count": 120,
   "metadata": {},
   "outputs": [
    {
     "data": {
      "text/html": [
       "<div>\n",
       "<style scoped>\n",
       "    .dataframe tbody tr th:only-of-type {\n",
       "        vertical-align: middle;\n",
       "    }\n",
       "\n",
       "    .dataframe tbody tr th {\n",
       "        vertical-align: top;\n",
       "    }\n",
       "\n",
       "    .dataframe thead th {\n",
       "        text-align: right;\n",
       "    }\n",
       "</style>\n",
       "<table border=\"1\" class=\"dataframe\">\n",
       "  <thead>\n",
       "    <tr style=\"text-align: right;\">\n",
       "      <th></th>\n",
       "      <th>PC1</th>\n",
       "      <th>PC2</th>\n",
       "      <th>PC3</th>\n",
       "    </tr>\n",
       "  </thead>\n",
       "  <tbody>\n",
       "    <tr>\n",
       "      <th>42</th>\n",
       "      <td>-0.331573</td>\n",
       "      <td>0.998270</td>\n",
       "      <td>-0.574075</td>\n",
       "    </tr>\n",
       "    <tr>\n",
       "      <th>404</th>\n",
       "      <td>-0.314963</td>\n",
       "      <td>0.998404</td>\n",
       "      <td>-0.574421</td>\n",
       "    </tr>\n",
       "    <tr>\n",
       "      <th>1337</th>\n",
       "      <td>2.300582</td>\n",
       "      <td>1.648998</td>\n",
       "      <td>-0.669710</td>\n",
       "    </tr>\n",
       "    <tr>\n",
       "      <th>BTC</th>\n",
       "      <td>-0.137804</td>\n",
       "      <td>-1.311972</td>\n",
       "      <td>0.199714</td>\n",
       "    </tr>\n",
       "    <tr>\n",
       "      <th>ETH</th>\n",
       "      <td>-0.157355</td>\n",
       "      <td>-1.960771</td>\n",
       "      <td>0.363505</td>\n",
       "    </tr>\n",
       "  </tbody>\n",
       "</table>\n",
       "</div>"
      ],
      "text/plain": [
       "           PC1       PC2       PC3\n",
       "42   -0.331573  0.998270 -0.574075\n",
       "404  -0.314963  0.998404 -0.574421\n",
       "1337  2.300582  1.648998 -0.669710\n",
       "BTC  -0.137804 -1.311972  0.199714\n",
       "ETH  -0.157355 -1.960771  0.363505"
      ]
     },
     "execution_count": 120,
     "metadata": {},
     "output_type": "execute_result"
    }
   ],
   "source": [
    "# Create a DataFrame with the three principal components.\n",
    "df_PC = pd.DataFrame(data=df_pca, columns=['PC1', 'PC2', 'PC3'],index=df.index)\n",
    "df_PC.head()"
   ]
  },
  {
   "cell_type": "markdown",
   "metadata": {},
   "source": [
    "### Deliverable 3: Clustering Crytocurrencies Using K-Means\n",
    "\n",
    "#### Finding the Best Value for `k` Using the Elbow Curve"
   ]
  },
  {
   "cell_type": "code",
   "execution_count": 121,
   "metadata": {},
   "outputs": [
    {
     "name": "stderr",
     "output_type": "stream",
     "text": [
      "C:\\Users\\ecreg\\anaconda3\\envs\\mlenv\\lib\\site-packages\\sklearn\\cluster\\_kmeans.py:1037: UserWarning:\n",
      "\n",
      "KMeans is known to have a memory leak on Windows with MKL, when there are less chunks than available threads. You can avoid it by setting the environment variable OMP_NUM_THREADS=3.\n",
      "\n"
     ]
    },
    {
     "data": {},
     "metadata": {},
     "output_type": "display_data"
    },
    {
     "data": {
      "application/vnd.holoviews_exec.v0+json": "",
      "text/html": [
       "<div id='1395'>\n",
       "  <div class=\"bk-root\" id=\"a47063f5-45cf-4ed3-93af-e6d26aed12e8\" data-root-id=\"1395\"></div>\n",
       "</div>\n",
       "<script type=\"application/javascript\">(function(root) {\n",
       "  function embed_document(root) {\n",
       "    var docs_json = {\"1d9c37bc-d7db-4e50-93dc-748b3b0c9c67\":{\"defs\":[{\"extends\":null,\"module\":null,\"name\":\"ReactiveHTML1\",\"overrides\":[],\"properties\":[]},{\"extends\":null,\"module\":null,\"name\":\"FlexBox1\",\"overrides\":[],\"properties\":[{\"default\":\"flex-start\",\"kind\":null,\"name\":\"align_content\"},{\"default\":\"flex-start\",\"kind\":null,\"name\":\"align_items\"},{\"default\":\"row\",\"kind\":null,\"name\":\"flex_direction\"},{\"default\":\"wrap\",\"kind\":null,\"name\":\"flex_wrap\"},{\"default\":\"flex-start\",\"kind\":null,\"name\":\"justify_content\"}]},{\"extends\":null,\"module\":null,\"name\":\"GridStack1\",\"overrides\":[],\"properties\":[{\"default\":\"warn\",\"kind\":null,\"name\":\"mode\"},{\"default\":null,\"kind\":null,\"name\":\"ncols\"},{\"default\":null,\"kind\":null,\"name\":\"nrows\"},{\"default\":true,\"kind\":null,\"name\":\"allow_resize\"},{\"default\":true,\"kind\":null,\"name\":\"allow_drag\"},{\"default\":[],\"kind\":null,\"name\":\"state\"}]},{\"extends\":null,\"module\":null,\"name\":\"click1\",\"overrides\":[],\"properties\":[{\"default\":\"\",\"kind\":null,\"name\":\"terminal_output\"},{\"default\":\"\",\"kind\":null,\"name\":\"debug_name\"},{\"default\":0,\"kind\":null,\"name\":\"clears\"}]},{\"extends\":null,\"module\":null,\"name\":\"NotificationAreaBase1\",\"overrides\":[],\"properties\":[{\"default\":\"bottom-right\",\"kind\":null,\"name\":\"position\"},{\"default\":0,\"kind\":null,\"name\":\"_clear\"}]},{\"extends\":null,\"module\":null,\"name\":\"NotificationArea1\",\"overrides\":[],\"properties\":[{\"default\":[],\"kind\":null,\"name\":\"notifications\"},{\"default\":\"bottom-right\",\"kind\":null,\"name\":\"position\"},{\"default\":0,\"kind\":null,\"name\":\"_clear\"},{\"default\":[{\"background\":\"#ffc107\",\"icon\":{\"className\":\"fas fa-exclamation-triangle\",\"color\":\"white\",\"tagName\":\"i\"},\"type\":\"warning\"},{\"background\":\"#007bff\",\"icon\":{\"className\":\"fas fa-info-circle\",\"color\":\"white\",\"tagName\":\"i\"},\"type\":\"info\"}],\"kind\":null,\"name\":\"types\"}]},{\"extends\":null,\"module\":null,\"name\":\"Notification\",\"overrides\":[],\"properties\":[{\"default\":null,\"kind\":null,\"name\":\"background\"},{\"default\":3000,\"kind\":null,\"name\":\"duration\"},{\"default\":null,\"kind\":null,\"name\":\"icon\"},{\"default\":\"\",\"kind\":null,\"name\":\"message\"},{\"default\":null,\"kind\":null,\"name\":\"notification_type\"},{\"default\":false,\"kind\":null,\"name\":\"_destroyed\"}]},{\"extends\":null,\"module\":null,\"name\":\"TemplateActions1\",\"overrides\":[],\"properties\":[{\"default\":0,\"kind\":null,\"name\":\"open_modal\"},{\"default\":0,\"kind\":null,\"name\":\"close_modal\"}]},{\"extends\":null,\"module\":null,\"name\":\"MaterialTemplateActions1\",\"overrides\":[],\"properties\":[{\"default\":0,\"kind\":null,\"name\":\"open_modal\"},{\"default\":0,\"kind\":null,\"name\":\"close_modal\"}]}],\"roots\":{\"references\":[{\"attributes\":{},\"id\":\"1454\",\"type\":\"UnionRenderers\"},{\"attributes\":{\"axis\":{\"id\":\"1409\"},\"coordinates\":null,\"grid_line_color\":null,\"group\":null,\"ticker\":null},\"id\":\"1412\",\"type\":\"Grid\"},{\"attributes\":{},\"id\":\"1414\",\"type\":\"BasicTicker\"},{\"attributes\":{\"margin\":[5,5,5,5],\"name\":\"HSpacer01259\",\"sizing_mode\":\"stretch_width\"},\"id\":\"1396\",\"type\":\"Spacer\"},{\"attributes\":{\"coordinates\":null,\"group\":null,\"text\":\"Elbow Curve\",\"text_color\":\"black\",\"text_font_size\":\"12pt\"},\"id\":\"1401\",\"type\":\"Title\"},{\"attributes\":{\"line_alpha\":0.2,\"line_color\":\"#30a2da\",\"line_width\":2,\"x\":{\"field\":\"k\"},\"y\":{\"field\":\"inertia\"}},\"id\":\"1435\",\"type\":\"Line\"},{\"attributes\":{\"callback\":null,\"renderers\":[{\"id\":\"1436\"}],\"tags\":[\"hv_created\"],\"tooltips\":[[\"k\",\"@{k}\"],[\"inertia\",\"@{inertia}\"]]},\"id\":\"1399\",\"type\":\"HoverTool\"},{\"attributes\":{},\"id\":\"1407\",\"type\":\"LinearScale\"},{\"attributes\":{\"axis_label\":\"inertia\",\"coordinates\":null,\"formatter\":{\"id\":\"1446\"},\"group\":null,\"major_label_policy\":{\"id\":\"1447\"},\"ticker\":{\"id\":\"1414\"}},\"id\":\"1413\",\"type\":\"LinearAxis\"},{\"attributes\":{\"ticks\":[1,2,3,4,5,6,7,8,9]},\"id\":\"1439\",\"type\":\"FixedTicker\"},{\"attributes\":{\"margin\":[5,5,5,5],\"name\":\"HSpacer01260\",\"sizing_mode\":\"stretch_width\"},\"id\":\"1457\",\"type\":\"Spacer\"},{\"attributes\":{\"axis_label\":\"k\",\"coordinates\":null,\"formatter\":{\"id\":\"1441\"},\"group\":null,\"major_label_policy\":{\"id\":\"1442\"},\"ticker\":{\"id\":\"1439\"}},\"id\":\"1409\",\"type\":\"LinearAxis\"},{\"attributes\":{\"end\":9.0,\"reset_end\":9.0,\"reset_start\":1.0,\"start\":1.0,\"tags\":[[[\"k\",\"k\",null]]]},\"id\":\"1397\",\"type\":\"Range1d\"},{\"attributes\":{},\"id\":\"1447\",\"type\":\"AllLabels\"},{\"attributes\":{},\"id\":\"1405\",\"type\":\"LinearScale\"},{\"attributes\":{},\"id\":\"1441\",\"type\":\"BasicTickFormatter\"},{\"attributes\":{\"axis\":{\"id\":\"1413\"},\"coordinates\":null,\"dimension\":1,\"grid_line_color\":null,\"group\":null,\"ticker\":null},\"id\":\"1416\",\"type\":\"Grid\"},{\"attributes\":{\"line_color\":\"#30a2da\",\"line_width\":2,\"x\":{\"field\":\"k\"},\"y\":{\"field\":\"inertia\"}},\"id\":\"1438\",\"type\":\"Line\"},{\"attributes\":{\"end\":3991.656935135337,\"reset_end\":3991.656935135337,\"reset_start\":-225.55665464187854,\"start\":-225.55665464187854,\"tags\":[[[\"inertia\",\"inertia\",null]]]},\"id\":\"1398\",\"type\":\"Range1d\"},{\"attributes\":{},\"id\":\"1431\",\"type\":\"Selection\"},{\"attributes\":{\"coordinates\":null,\"data_source\":{\"id\":\"1430\"},\"glyph\":{\"id\":\"1433\"},\"group\":null,\"hover_glyph\":null,\"muted_glyph\":{\"id\":\"1435\"},\"nonselection_glyph\":{\"id\":\"1434\"},\"selection_glyph\":{\"id\":\"1438\"},\"view\":{\"id\":\"1437\"}},\"id\":\"1436\",\"type\":\"GlyphRenderer\"},{\"attributes\":{\"below\":[{\"id\":\"1409\"}],\"center\":[{\"id\":\"1412\"},{\"id\":\"1416\"}],\"height\":300,\"left\":[{\"id\":\"1413\"}],\"margin\":[5,5,5,5],\"min_border_bottom\":10,\"min_border_left\":10,\"min_border_right\":10,\"min_border_top\":10,\"renderers\":[{\"id\":\"1436\"}],\"sizing_mode\":\"fixed\",\"title\":{\"id\":\"1401\"},\"toolbar\":{\"id\":\"1423\"},\"width\":700,\"x_range\":{\"id\":\"1397\"},\"x_scale\":{\"id\":\"1405\"},\"y_range\":{\"id\":\"1398\"},\"y_scale\":{\"id\":\"1407\"}},\"id\":\"1400\",\"subtype\":\"Figure\",\"type\":\"Plot\"},{\"attributes\":{\"line_color\":\"#30a2da\",\"line_width\":2,\"x\":{\"field\":\"k\"},\"y\":{\"field\":\"inertia\"}},\"id\":\"1433\",\"type\":\"Line\"},{\"attributes\":{\"source\":{\"id\":\"1430\"}},\"id\":\"1437\",\"type\":\"CDSView\"},{\"attributes\":{\"tools\":[{\"id\":\"1399\"},{\"id\":\"1417\"},{\"id\":\"1418\"},{\"id\":\"1419\"},{\"id\":\"1420\"},{\"id\":\"1421\"}]},\"id\":\"1423\",\"type\":\"Toolbar\"},{\"attributes\":{\"bottom_units\":\"screen\",\"coordinates\":null,\"fill_alpha\":0.5,\"fill_color\":\"lightgrey\",\"group\":null,\"left_units\":\"screen\",\"level\":\"overlay\",\"line_alpha\":1.0,\"line_color\":\"black\",\"line_dash\":[4,4],\"line_width\":2,\"right_units\":\"screen\",\"syncable\":false,\"top_units\":\"screen\"},\"id\":\"1422\",\"type\":\"BoxAnnotation\"},{\"attributes\":{\"data\":{\"inertia\":{\"__ndarray__\":\"arB/53FwrEAspps2E1+jQLYG2nwAWpdASOT1qaE1gEDNO5jJ5AB0QAFuildBQHBATs2OxF2OaUAg9J1SiLNjQOfn6Q4ueF9A\",\"dtype\":\"float64\",\"order\":\"little\",\"shape\":[9]},\"k\":[1,2,3,4,5,6,7,8,9]},\"selected\":{\"id\":\"1431\"},\"selection_policy\":{\"id\":\"1454\"}},\"id\":\"1430\",\"type\":\"ColumnDataSource\"},{\"attributes\":{},\"id\":\"1417\",\"type\":\"SaveTool\"},{\"attributes\":{},\"id\":\"1418\",\"type\":\"PanTool\"},{\"attributes\":{\"children\":[{\"id\":\"1396\"},{\"id\":\"1400\"},{\"id\":\"1457\"}],\"margin\":[0,0,0,0],\"name\":\"Row01255\",\"tags\":[\"embedded\"]},\"id\":\"1395\",\"type\":\"Row\"},{\"attributes\":{},\"id\":\"1421\",\"type\":\"ResetTool\"},{\"attributes\":{},\"id\":\"1446\",\"type\":\"BasicTickFormatter\"},{\"attributes\":{\"line_alpha\":0.1,\"line_color\":\"#30a2da\",\"line_width\":2,\"x\":{\"field\":\"k\"},\"y\":{\"field\":\"inertia\"}},\"id\":\"1434\",\"type\":\"Line\"},{\"attributes\":{},\"id\":\"1419\",\"type\":\"WheelZoomTool\"},{\"attributes\":{},\"id\":\"1442\",\"type\":\"AllLabels\"},{\"attributes\":{\"overlay\":{\"id\":\"1422\"}},\"id\":\"1420\",\"type\":\"BoxZoomTool\"}],\"root_ids\":[\"1395\"]},\"title\":\"Bokeh Application\",\"version\":\"2.4.3\"}};\n",
       "    var render_items = [{\"docid\":\"1d9c37bc-d7db-4e50-93dc-748b3b0c9c67\",\"root_ids\":[\"1395\"],\"roots\":{\"1395\":\"a47063f5-45cf-4ed3-93af-e6d26aed12e8\"}}];\n",
       "    root.Bokeh.embed.embed_items_notebook(docs_json, render_items);\n",
       "  }\n",
       "  if (root.Bokeh !== undefined && root.Bokeh.Panel !== undefined) {\n",
       "    embed_document(root);\n",
       "  } else {\n",
       "    var attempts = 0;\n",
       "    var timer = setInterval(function(root) {\n",
       "      if (root.Bokeh !== undefined && root.Bokeh.Panel !== undefined) {\n",
       "        clearInterval(timer);\n",
       "        embed_document(root);\n",
       "      } else if (document.readyState == \"complete\") {\n",
       "        attempts++;\n",
       "        if (attempts > 200) {\n",
       "          clearInterval(timer);\n",
       "          console.log(\"Bokeh: ERROR: Unable to run BokehJS code because BokehJS library is missing\");\n",
       "        }\n",
       "      }\n",
       "    }, 25, root)\n",
       "  }\n",
       "})(window);</script>"
      ],
      "text/plain": [
       ":Curve   [k]   (inertia)"
      ]
     },
     "execution_count": 121,
     "metadata": {
      "application/vnd.holoviews_exec.v0+json": {
       "id": "1395"
      }
     },
     "output_type": "execute_result"
    }
   ],
   "source": [
    "# Create an elbow curve to find the best value for K.\n",
    "inertia = []\n",
    "k = list(range(1,10))\n",
    "\n",
    "for i in k:\n",
    "    km = KMeans(n_clusters=i, random_state=0)\n",
    "    km.fit(df_PC)\n",
    "    inertia.append(km.inertia_)\n",
    "    \n",
    "elbow_data = {\"k\": k, \"inertia\": inertia}\n",
    "df_elbow = pd.DataFrame(elbow_data)\n",
    "df_elbow.hvplot.line(x=\"k\", y=\"inertia\", xticks=k, title=\"Elbow Curve\")"
   ]
  },
  {
   "cell_type": "markdown",
   "metadata": {},
   "source": [
    "Running K-Means with `k=4`"
   ]
  },
  {
   "cell_type": "code",
   "execution_count": 122,
   "metadata": {},
   "outputs": [
    {
     "data": {
      "text/plain": [
       "array([0, 0, 0, 1, 1, 1, 0, 1, 1, 1, 0, 1, 0, 0, 1, 0, 1, 1, 0, 0, 1, 1,\n",
       "       1, 1, 1, 0, 1, 1, 1, 0, 1, 0, 1, 1, 0, 0, 1, 1, 1, 1, 1, 1, 0, 0,\n",
       "       1, 1, 1, 1, 1, 0, 0, 1, 0, 1, 1, 1, 1, 0, 1, 1, 0, 1, 0, 0, 0, 1,\n",
       "       1, 1, 0, 0, 0, 0, 0, 1, 1, 1, 0, 0, 1, 0, 1, 0, 0, 1, 1, 1, 1, 0,\n",
       "       0, 1, 0, 1, 1, 0, 0, 1, 0, 0, 1, 1, 0, 0, 1, 0, 0, 1, 0, 1, 0, 1,\n",
       "       0, 1, 0, 0, 1, 1, 0, 1, 1, 1, 0, 1, 1, 1, 1, 1, 0, 0, 1, 1, 1, 0,\n",
       "       1, 0, 1, 1, 0, 1, 0, 1, 0, 0, 1, 1, 0, 1, 1, 0, 0, 1, 0, 1, 0, 0,\n",
       "       0, 1, 1, 1, 1, 0, 0, 0, 0, 0, 1, 1, 0, 0, 0, 0, 0, 1, 0, 0, 0, 0,\n",
       "       0, 1, 0, 1, 0, 0, 1, 0, 1, 0, 0, 1, 0, 1, 0, 1, 0, 1, 0, 0, 0, 0,\n",
       "       1, 0, 0, 0, 0, 0, 1, 1, 0, 0, 1, 1, 0, 0, 0, 0, 0, 1, 0, 0, 0, 0,\n",
       "       0, 0, 0, 0, 1, 0, 0, 0, 0, 0, 0, 1, 1, 1, 0, 0, 0, 0, 1, 0, 1, 0,\n",
       "       0, 1, 0, 1, 1, 0, 1, 1, 0, 1, 0, 0, 0, 1, 0, 0, 1, 0, 0, 0, 0, 0,\n",
       "       0, 0, 1, 0, 1, 0, 0, 0, 0, 1, 0, 1, 0, 1, 1, 1, 1, 0, 1, 0, 0, 1,\n",
       "       0, 1, 1, 1, 0, 1, 0, 1, 1, 1, 0, 1, 0, 1, 0, 0, 0, 1, 0, 1, 1, 1,\n",
       "       1, 1, 0, 0, 1, 0, 0, 0, 1, 0, 1, 0, 1, 0, 1, 0, 0, 0, 0, 1, 0, 0,\n",
       "       1, 0, 0, 0, 1, 1, 1, 1, 0, 0, 0, 0, 1, 0, 1, 1, 1, 0, 0, 1, 1, 0,\n",
       "       0, 1, 0, 1, 1, 1, 0, 1, 1, 0, 0, 0, 1, 1, 1, 0, 0, 0, 1, 1, 0, 1,\n",
       "       1, 1, 1, 0, 3, 3, 1, 1, 1, 0, 3, 0, 0, 0, 0, 1, 1, 1, 1, 0, 0, 0,\n",
       "       1, 0, 1, 0, 0, 0, 0, 1, 0, 0, 1, 0, 0, 1, 1, 0, 1, 0, 1, 1, 1, 1,\n",
       "       0, 0, 1, 0, 1, 0, 0, 0, 0, 0, 0, 1, 1, 1, 0, 0, 0, 0, 0, 0, 1, 0,\n",
       "       1, 1, 1, 1, 0, 0, 0, 0, 1, 0, 0, 1, 0, 0, 1, 3, 1, 0, 1, 1, 0, 0,\n",
       "       1, 0, 1, 1, 0, 1, 1, 0, 1, 0, 1, 0, 0, 1, 0, 0, 0, 0, 0, 1, 1, 1,\n",
       "       0, 0, 0, 1, 0, 1, 0, 1, 0, 0, 0, 0, 1, 0, 0, 0, 1, 0, 1, 0, 1, 0,\n",
       "       0, 0, 1, 1, 0, 0, 0, 0, 0, 0, 1, 0, 1, 0, 1, 0, 0, 3, 0, 2, 0, 0,\n",
       "       0, 1, 1, 0])"
      ]
     },
     "execution_count": 122,
     "metadata": {},
     "output_type": "execute_result"
    }
   ],
   "source": [
    "# Initialize the K-Means model.\n",
    "model = KMeans(n_clusters=4, random_state=0)\n",
    "# Fit the model\n",
    "model.fit(df_PC)\n",
    "# Predict clusters\n",
    "predictions = model.predict(df_PC)\n",
    "\n",
    "predictions"
   ]
  },
  {
   "cell_type": "code",
   "execution_count": 123,
   "metadata": {},
   "outputs": [
    {
     "name": "stdout",
     "output_type": "stream",
     "text": [
      "(532, 9)\n"
     ]
    },
    {
     "data": {
      "text/html": [
       "<div>\n",
       "<style scoped>\n",
       "    .dataframe tbody tr th:only-of-type {\n",
       "        vertical-align: middle;\n",
       "    }\n",
       "\n",
       "    .dataframe tbody tr th {\n",
       "        vertical-align: top;\n",
       "    }\n",
       "\n",
       "    .dataframe thead th {\n",
       "        text-align: right;\n",
       "    }\n",
       "</style>\n",
       "<table border=\"1\" class=\"dataframe\">\n",
       "  <thead>\n",
       "    <tr style=\"text-align: right;\">\n",
       "      <th></th>\n",
       "      <th>Algorithm</th>\n",
       "      <th>ProofType</th>\n",
       "      <th>TotalCoinsMined</th>\n",
       "      <th>TotalCoinSupply</th>\n",
       "      <th>PC1</th>\n",
       "      <th>PC2</th>\n",
       "      <th>PC3</th>\n",
       "      <th>CoinName</th>\n",
       "      <th>Class</th>\n",
       "    </tr>\n",
       "  </thead>\n",
       "  <tbody>\n",
       "    <tr>\n",
       "      <th>42</th>\n",
       "      <td>Scrypt</td>\n",
       "      <td>PoW/PoS</td>\n",
       "      <td>4.199995e+01</td>\n",
       "      <td>42</td>\n",
       "      <td>-0.331573</td>\n",
       "      <td>0.998270</td>\n",
       "      <td>-0.574075</td>\n",
       "      <td>42 Coin</td>\n",
       "      <td>0</td>\n",
       "    </tr>\n",
       "    <tr>\n",
       "      <th>404</th>\n",
       "      <td>Scrypt</td>\n",
       "      <td>PoW/PoS</td>\n",
       "      <td>1.055185e+09</td>\n",
       "      <td>532000000</td>\n",
       "      <td>-0.314963</td>\n",
       "      <td>0.998404</td>\n",
       "      <td>-0.574421</td>\n",
       "      <td>404Coin</td>\n",
       "      <td>0</td>\n",
       "    </tr>\n",
       "    <tr>\n",
       "      <th>1337</th>\n",
       "      <td>X13</td>\n",
       "      <td>PoW/PoS</td>\n",
       "      <td>2.927942e+10</td>\n",
       "      <td>314159265359</td>\n",
       "      <td>2.300582</td>\n",
       "      <td>1.648998</td>\n",
       "      <td>-0.669710</td>\n",
       "      <td>EliteCoin</td>\n",
       "      <td>0</td>\n",
       "    </tr>\n",
       "    <tr>\n",
       "      <th>BTC</th>\n",
       "      <td>SHA-256</td>\n",
       "      <td>PoW</td>\n",
       "      <td>1.792718e+07</td>\n",
       "      <td>21000000</td>\n",
       "      <td>-0.137804</td>\n",
       "      <td>-1.311972</td>\n",
       "      <td>0.199714</td>\n",
       "      <td>Bitcoin</td>\n",
       "      <td>1</td>\n",
       "    </tr>\n",
       "    <tr>\n",
       "      <th>ETH</th>\n",
       "      <td>Ethash</td>\n",
       "      <td>PoW</td>\n",
       "      <td>1.076842e+08</td>\n",
       "      <td>0</td>\n",
       "      <td>-0.157355</td>\n",
       "      <td>-1.960771</td>\n",
       "      <td>0.363505</td>\n",
       "      <td>Ethereum</td>\n",
       "      <td>1</td>\n",
       "    </tr>\n",
       "    <tr>\n",
       "      <th>LTC</th>\n",
       "      <td>Scrypt</td>\n",
       "      <td>PoW</td>\n",
       "      <td>6.303924e+07</td>\n",
       "      <td>84000000</td>\n",
       "      <td>-0.164371</td>\n",
       "      <td>-1.149985</td>\n",
       "      <td>-0.019856</td>\n",
       "      <td>Litecoin</td>\n",
       "      <td>1</td>\n",
       "    </tr>\n",
       "    <tr>\n",
       "      <th>DASH</th>\n",
       "      <td>X11</td>\n",
       "      <td>PoW/PoS</td>\n",
       "      <td>9.031294e+06</td>\n",
       "      <td>22000000</td>\n",
       "      <td>-0.401081</td>\n",
       "      <td>1.253369</td>\n",
       "      <td>-0.483995</td>\n",
       "      <td>Dash</td>\n",
       "      <td>0</td>\n",
       "    </tr>\n",
       "    <tr>\n",
       "      <th>XMR</th>\n",
       "      <td>CryptoNight-V7</td>\n",
       "      <td>PoW</td>\n",
       "      <td>1.720114e+07</td>\n",
       "      <td>0</td>\n",
       "      <td>-0.158663</td>\n",
       "      <td>-2.209238</td>\n",
       "      <td>0.410835</td>\n",
       "      <td>Monero</td>\n",
       "      <td>1</td>\n",
       "    </tr>\n",
       "    <tr>\n",
       "      <th>ETC</th>\n",
       "      <td>Ethash</td>\n",
       "      <td>PoW</td>\n",
       "      <td>1.133597e+08</td>\n",
       "      <td>210000000</td>\n",
       "      <td>-0.155801</td>\n",
       "      <td>-1.960873</td>\n",
       "      <td>0.363487</td>\n",
       "      <td>Ethereum Classic</td>\n",
       "      <td>1</td>\n",
       "    </tr>\n",
       "    <tr>\n",
       "      <th>ZEC</th>\n",
       "      <td>Equihash</td>\n",
       "      <td>PoW</td>\n",
       "      <td>7.383056e+06</td>\n",
       "      <td>21000000</td>\n",
       "      <td>-0.167015</td>\n",
       "      <td>-2.012963</td>\n",
       "      <td>0.316157</td>\n",
       "      <td>ZCash</td>\n",
       "      <td>1</td>\n",
       "    </tr>\n",
       "  </tbody>\n",
       "</table>\n",
       "</div>"
      ],
      "text/plain": [
       "           Algorithm ProofType  TotalCoinsMined TotalCoinSupply       PC1  \\\n",
       "42            Scrypt   PoW/PoS     4.199995e+01              42 -0.331573   \n",
       "404           Scrypt   PoW/PoS     1.055185e+09       532000000 -0.314963   \n",
       "1337             X13   PoW/PoS     2.927942e+10    314159265359  2.300582   \n",
       "BTC          SHA-256       PoW     1.792718e+07        21000000 -0.137804   \n",
       "ETH           Ethash       PoW     1.076842e+08               0 -0.157355   \n",
       "LTC           Scrypt       PoW     6.303924e+07        84000000 -0.164371   \n",
       "DASH             X11   PoW/PoS     9.031294e+06        22000000 -0.401081   \n",
       "XMR   CryptoNight-V7       PoW     1.720114e+07               0 -0.158663   \n",
       "ETC           Ethash       PoW     1.133597e+08       210000000 -0.155801   \n",
       "ZEC         Equihash       PoW     7.383056e+06        21000000 -0.167015   \n",
       "\n",
       "           PC2       PC3          CoinName  Class  \n",
       "42    0.998270 -0.574075           42 Coin      0  \n",
       "404   0.998404 -0.574421           404Coin      0  \n",
       "1337  1.648998 -0.669710         EliteCoin      0  \n",
       "BTC  -1.311972  0.199714           Bitcoin      1  \n",
       "ETH  -1.960771  0.363505          Ethereum      1  \n",
       "LTC  -1.149985 -0.019856          Litecoin      1  \n",
       "DASH  1.253369 -0.483995              Dash      0  \n",
       "XMR  -2.209238  0.410835            Monero      1  \n",
       "ETC  -1.960873  0.363487  Ethereum Classic      1  \n",
       "ZEC  -2.012963  0.316157             ZCash      1  "
      ]
     },
     "execution_count": 123,
     "metadata": {},
     "output_type": "execute_result"
    }
   ],
   "source": [
    "# Create a new DataFrame including predicted clusters and cryptocurrencies features.\n",
    "# Concatentate the crypto_df and pcs_df DataFrames on the same columns.\n",
    "clustered_df = df.join(df_PC, how='inner')\n",
    "clustered_df = clustered_df.join(df_crypto, how='inner')\n",
    "clustered_df['Class'] = predictions\n",
    "\n",
    "print(clustered_df.shape)\n",
    "clustered_df.head(10)"
   ]
  },
  {
   "cell_type": "markdown",
   "metadata": {},
   "source": [
    "### Deliverable 4: Visualizing Cryptocurrencies Results\n",
    "\n",
    "#### 3D-Scatter with Clusters"
   ]
  },
  {
   "cell_type": "code",
   "execution_count": 124,
   "metadata": {},
   "outputs": [
    {
     "data": {
      "application/vnd.plotly.v1+json": {
       "config": {
        "plotlyServerURL": "https://plot.ly"
       },
       "data": [
        {
         "customdata": [
          [
           "Scrypt"
          ],
          [
           "Scrypt"
          ],
          [
           "X13"
          ],
          [
           "X11"
          ],
          [
           "SHA-512"
          ],
          [
           "SHA-256"
          ],
          [
           "SHA-256"
          ],
          [
           "X15"
          ],
          [
           "Scrypt"
          ],
          [
           "Scrypt"
          ],
          [
           "Scrypt"
          ],
          [
           "Scrypt"
          ],
          [
           "Scrypt"
          ],
          [
           "Scrypt"
          ],
          [
           "Groestl"
          ],
          [
           "PoS"
          ],
          [
           "Scrypt"
          ],
          [
           "Scrypt"
          ],
          [
           "X11"
          ],
          [
           "X11"
          ],
          [
           "SHA3"
          ],
          [
           "Scrypt"
          ],
          [
           "SHA-256"
          ],
          [
           "Scrypt"
          ],
          [
           "X13"
          ],
          [
           "X13"
          ],
          [
           "NeoScrypt"
          ],
          [
           "Scrypt"
          ],
          [
           "Scrypt"
          ],
          [
           "Scrypt"
          ],
          [
           "X11"
          ],
          [
           "X11"
          ],
          [
           "Multiple"
          ],
          [
           "PHI1612"
          ],
          [
           "X11"
          ],
          [
           "Scrypt"
          ],
          [
           "Scrypt"
          ],
          [
           "Scrypt"
          ],
          [
           "X11"
          ],
          [
           "Multiple"
          ],
          [
           "X13"
          ],
          [
           "Scrypt"
          ],
          [
           "Shabal256"
          ],
          [
           "Counterparty"
          ],
          [
           "SHA-256"
          ],
          [
           "Groestl"
          ],
          [
           "Scrypt"
          ],
          [
           "X13"
          ],
          [
           "Scrypt"
          ],
          [
           "Scrypt"
          ],
          [
           "X13"
          ],
          [
           "X11"
          ],
          [
           "Scrypt"
          ],
          [
           "X11"
          ],
          [
           "SHA3"
          ],
          [
           "QUAIT"
          ],
          [
           "X11"
          ],
          [
           "Scrypt"
          ],
          [
           "X13"
          ],
          [
           "SHA-256"
          ],
          [
           "X15"
          ],
          [
           "BLAKE256"
          ],
          [
           "SHA-256"
          ],
          [
           "X11"
          ],
          [
           "SHA-256"
          ],
          [
           "NIST5"
          ],
          [
           "Scrypt"
          ],
          [
           "Scrypt"
          ],
          [
           "X11"
          ],
          [
           "Scrypt"
          ],
          [
           "SHA-256"
          ],
          [
           "Scrypt"
          ],
          [
           "PoS"
          ],
          [
           "X11"
          ],
          [
           "SHA-256"
          ],
          [
           "SHA-256"
          ],
          [
           "NIST5"
          ],
          [
           "X11"
          ],
          [
           "POS 3.0"
          ],
          [
           "Scrypt"
          ],
          [
           "Scrypt"
          ],
          [
           "Scrypt"
          ],
          [
           "X13"
          ],
          [
           "X11"
          ],
          [
           "X11"
          ],
          [
           "Scrypt"
          ],
          [
           "SHA-256"
          ],
          [
           "X11"
          ],
          [
           "Scrypt"
          ],
          [
           "Scrypt"
          ],
          [
           "Scrypt"
          ],
          [
           "Scrypt"
          ],
          [
           "SHA-256D"
          ],
          [
           "PoS"
          ],
          [
           "Scrypt"
          ],
          [
           "X11"
          ],
          [
           "PoS"
          ],
          [
           "X13"
          ],
          [
           "X14"
          ],
          [
           "PoS"
          ],
          [
           "SHA-256D"
          ],
          [
           "DPoS"
          ],
          [
           "X11"
          ],
          [
           "X13"
          ],
          [
           "X11"
          ],
          [
           "PoS"
          ],
          [
           "Scrypt"
          ],
          [
           "Scrypt"
          ],
          [
           "PoS"
          ],
          [
           "X11"
          ],
          [
           "SHA-256"
          ],
          [
           "Scrypt"
          ],
          [
           "X11"
          ],
          [
           "Scrypt"
          ],
          [
           "Scrypt"
          ],
          [
           "X11"
          ],
          [
           "Scrypt"
          ],
          [
           "Scrypt"
          ],
          [
           "Scrypt"
          ],
          [
           "Scrypt"
          ],
          [
           "Quark"
          ],
          [
           "QuBit"
          ],
          [
           "Scrypt"
          ],
          [
           "SHA-256"
          ],
          [
           "X11"
          ],
          [
           "Scrypt"
          ],
          [
           "Scrypt"
          ],
          [
           "Scrypt"
          ],
          [
           "Scrypt"
          ],
          [
           "X13"
          ],
          [
           "Scrypt"
          ],
          [
           "Scrypt"
          ],
          [
           "X11"
          ],
          [
           "Blake2S"
          ],
          [
           "X11"
          ],
          [
           "PoS"
          ],
          [
           "X11"
          ],
          [
           "PoS"
          ],
          [
           "X11"
          ],
          [
           "Scrypt"
          ],
          [
           "Scrypt"
          ],
          [
           "Scrypt"
          ],
          [
           "SHA-256"
          ],
          [
           "X11"
          ],
          [
           "Scrypt"
          ],
          [
           "PoS"
          ],
          [
           "Scrypt"
          ],
          [
           "X15"
          ],
          [
           "SHA-256"
          ],
          [
           "POS 3.0"
          ],
          [
           "536"
          ],
          [
           "NIST5"
          ],
          [
           "NIST5"
          ],
          [
           "Skein"
          ],
          [
           "X13"
          ],
          [
           "Scrypt"
          ],
          [
           "X13"
          ],
          [
           "SkunkHash v2 Raptor"
          ],
          [
           "Skein"
          ],
          [
           "X11"
          ],
          [
           "Scrypt"
          ],
          [
           "VeChainThor Authority"
          ],
          [
           "PoS"
          ],
          [
           "Scrypt"
          ],
          [
           "Scrypt"
          ],
          [
           "SHA-512"
          ],
          [
           "Ouroboros"
          ],
          [
           "X11"
          ],
          [
           "NeoScrypt"
          ],
          [
           "Scrypt"
          ],
          [
           "Lyra2REv2"
          ],
          [
           "Scrypt"
          ],
          [
           "SHA-256"
          ],
          [
           "NIST5"
          ],
          [
           "PHI1612"
          ],
          [
           "Scrypt"
          ],
          [
           "Quark"
          ],
          [
           "POS 2.0"
          ],
          [
           "Scrypt"
          ],
          [
           "SHA-256"
          ],
          [
           "X11"
          ],
          [
           "DPoS"
          ],
          [
           "NIST5"
          ],
          [
           "X13"
          ],
          [
           "Scrypt"
          ],
          [
           "NIST5"
          ],
          [
           "Quark"
          ],
          [
           "Scrypt"
          ],
          [
           "Scrypt"
          ],
          [
           "X11"
          ],
          [
           "Quark"
          ],
          [
           "Scrypt"
          ],
          [
           "Scrypt"
          ],
          [
           "X11"
          ],
          [
           "POS 3.0"
          ],
          [
           "Ethash"
          ],
          [
           "Scrypt"
          ],
          [
           "Scrypt"
          ],
          [
           "X13"
          ],
          [
           "C11"
          ],
          [
           "X11"
          ],
          [
           "XEVAN"
          ],
          [
           "Scrypt"
          ],
          [
           "VBFT"
          ],
          [
           "NIST5"
          ],
          [
           "Scrypt"
          ],
          [
           "Scrypt"
          ],
          [
           "Scrypt"
          ],
          [
           "Green Protocol"
          ],
          [
           "PoS"
          ],
          [
           "Scrypt"
          ],
          [
           "Semux BFT consensus"
          ],
          [
           "Quark"
          ],
          [
           "PoS"
          ],
          [
           "X16R"
          ],
          [
           "Scrypt"
          ],
          [
           "XEVAN"
          ],
          [
           "Scrypt"
          ],
          [
           "Scrypt"
          ],
          [
           "Scrypt"
          ],
          [
           "SHA-256D"
          ],
          [
           "Scrypt"
          ],
          [
           "X15"
          ],
          [
           "Scrypt"
          ],
          [
           "Quark"
          ],
          [
           "SHA-256"
          ],
          [
           "DPoS"
          ],
          [
           "X16R"
          ],
          [
           "Quark"
          ],
          [
           "Quark"
          ],
          [
           "Scrypt"
          ],
          [
           "Lyra2REv2"
          ],
          [
           "Quark"
          ],
          [
           "Scrypt"
          ],
          [
           "X11"
          ],
          [
           "X11"
          ],
          [
           "Scrypt"
          ],
          [
           "PoS"
          ],
          [
           "Keccak"
          ],
          [
           "X11"
          ],
          [
           "Scrypt"
          ],
          [
           "SHA-512"
          ],
          [
           "XEVAN"
          ],
          [
           "XEVAN"
          ],
          [
           "X11"
          ],
          [
           "Quark"
          ],
          [
           "Equihash"
          ],
          [
           "Scrypt"
          ],
          [
           "Quark"
          ],
          [
           "Quark"
          ],
          [
           "Scrypt"
          ],
          [
           "X11"
          ],
          [
           "Scrypt"
          ],
          [
           "XEVAN"
          ],
          [
           "SHA-256D"
          ],
          [
           "X11"
          ],
          [
           "X11"
          ],
          [
           "DPoS"
          ],
          [
           "Scrypt"
          ],
          [
           "X11"
          ],
          [
           "Scrypt"
          ],
          [
           "Scrypt"
          ],
          [
           "SHA-256"
          ],
          [
           "Scrypt"
          ],
          [
           "X11"
          ],
          [
           "Scrypt"
          ],
          [
           "SHA-256"
          ],
          [
           "X11"
          ],
          [
           "Scrypt"
          ],
          [
           "Scrypt"
          ],
          [
           "X11"
          ],
          [
           "Scrypt"
          ],
          [
           "PoS"
          ],
          [
           "X11"
          ],
          [
           "SHA-256"
          ],
          [
           "DPoS"
          ],
          [
           "Scrypt"
          ],
          [
           "Scrypt"
          ],
          [
           "NeoScrypt"
          ],
          [
           "X13"
          ],
          [
           "DPoS"
          ],
          [
           "DPoS"
          ],
          [
           "SHA-256"
          ],
          [
           "PoS"
          ],
          [
           "PoS"
          ],
          [
           "SHA-256"
          ],
          [
           "Scrypt"
          ],
          [
           "Scrypt"
          ]
         ],
         "hovertemplate": "<b>%{hovertext}</b><br><br>Class=%{marker.color}<br>PC1=%{x}<br>PC2=%{y}<br>PC3=%{z}<br>Algorithm=%{customdata[0]}<extra></extra>",
         "hovertext": [
          "42 Coin",
          "404Coin",
          "EliteCoin",
          "Dash",
          "Bitshares",
          "BitcoinDark",
          "PayCoin",
          "KoboCoin",
          "Aurora Coin",
          "BlueCoin",
          "EnergyCoin",
          "BitBar",
          "CryptoBullion",
          "CasinoCoin",
          "Diamond",
          "Exclusive Coin",
          "FlutterCoin",
          "HoboNickels",
          "HyperStake",
          "IOCoin",
          "MaxCoin",
          "MintCoin",
          "MazaCoin",
          "Nautilus Coin",
          "NavCoin",
          "OpalCoin",
          "Orbitcoin",
          "PotCoin",
          "PhoenixCoin",
          "Reddcoin",
          "SuperCoin",
          "SyncCoin",
          "TeslaCoin",
          "TittieCoin",
          "TorCoin",
          "UnitaryStatus Dollar",
          "UltraCoin",
          "VeriCoin",
          "X11 Coin",
          "Crypti",
          "StealthCoin",
          "ZCC Coin",
          "BurstCoin",
          "StorjCoin",
          "Neutron",
          "FairCoin",
          "RubyCoin",
          "Kore",
          "Dnotes",
          "8BIT Coin",
          "Sativa Coin",
          "Ucoin",
          "Vtorrent",
          "IslaCoin",
          "Nexus",
          "Droidz",
          "Squall Coin",
          "Diggits",
          "Paycon",
          "Emercoin",
          "EverGreenCoin",
          "Decred",
          "EDRCoin",
          "Hitcoin",
          "DubaiCoin",
          "PWR Coin",
          "BillaryCoin",
          "GPU Coin",
          "EuropeCoin",
          "ZeitCoin",
          "SwingCoin",
          "SafeExchangeCoin",
          "Nebuchadnezzar",
          "Ratecoin",
          "Revenu",
          "Clockcoin",
          "VIP Tokens",
          "BitSend",
          "Let it Ride",
          "PutinCoin",
          "iBankCoin",
          "Frankywillcoin",
          "MudraCoin",
          "Lutetium Coin",
          "GoldBlocks",
          "CarterCoin",
          "BitTokens",
          "MustangCoin",
          "ZoneCoin",
          "RootCoin",
          "BitCurrency",
          "Swiscoin",
          "BuzzCoin",
          "Opair",
          "PesoBit",
          "Halloween Coin",
          "CoffeeCoin",
          "RoyalCoin",
          "GanjaCoin V2",
          "TeamUP",
          "LanaCoin",
          "ARK",
          "InsaneCoin",
          "EmberCoin",
          "XenixCoin",
          "FreeCoin",
          "PLNCoin",
          "AquariusCoin",
          "Creatio",
          "Eternity",
          "Eurocoin",
          "BitcoinFast",
          "Stakenet",
          "BitConnect Coin",
          "MoneyCoin",
          "Enigma",
          "Russiacoin",
          "PandaCoin",
          "GameUnits",
          "GAKHcoin",
          "Allsafe",
          "LiteCreed",
          "Klingon Empire Darsek",
          "Internet of People",
          "KushCoin",
          "Printerium",
          "Impeach",
          "Zilbercoin",
          "FirstCoin",
          "FindCoin",
          "OpenChat",
          "RenosCoin",
          "VirtacoinPlus",
          "TajCoin",
          "Impact",
          "Atmos",
          "HappyCoin",
          "MacronCoin",
          "Condensate",
          "Independent Money System",
          "ArgusCoin",
          "LomoCoin",
          "ProCurrency",
          "GoldReserve",
          "GrowthCoin",
          "Phreak",
          "Degas Coin",
          "HTML5 Coin",
          "Ultimate Secure Cash",
          "QTUM",
          "Espers",
          "Denarius",
          "Virta Unique Coin",
          "Bitcoin Planet",
          "BritCoin",
          "Linda",
          "DeepOnion",
          "Signatum",
          "Cream",
          "Monoeci",
          "Draftcoin",
          "Vechain",
          "Stakecoin",
          "CoinonatX",
          "Ethereum Dark",
          "Obsidian",
          "Cardano",
          "Regalcoin",
          "TrezarCoin",
          "TerraNovaCoin",
          "Rupee",
          "WomenCoin",
          "Theresa May Coin",
          "NamoCoin",
          "LUXCoin",
          "Xios",
          "Bitcloud 2.0",
          "KekCoin",
          "BlackholeCoin",
          "Infinity Economics",
          "Magnet",
          "Lamden Tau",
          "Electra",
          "Bitcoin Diamond",
          "Cash & Back Coin",
          "Bulwark",
          "Kalkulus",
          "GermanCoin",
          "LiteCoin Ultra",
          "PhantomX",
          "Digiwage",
          "Trollcoin",
          "Litecoin Plus",
          "Monkey Project",
          "TokenPay",
          "1717 Masonic Commemorative Token",
          "My Big Coin",
          "Unified Society USDEX",
          "Tokyo Coin",
          "Stipend",
          "Pushi",
          "Ellerium",
          "Velox",
          "Ontology",
          "Bitspace",
          "Briacoin",
          "Ignition",
          "MedicCoin",
          "Bitcoin Green",
          "Deviant Coin",
          "Abjcoin",
          "Semux",
          "Carebit",
          "Zealium",
          "Proton",
          "iDealCash",
          "Bitcoin Incognito",
          "HollyWoodCoin",
          "Swisscoin",
          "Xt3ch",
          "TheVig",
          "EmaratCoin",
          "Dekado",
          "Lynx",
          "Poseidon Quark",
          "BitcoinWSpectrum",
          "Muse",
          "Trivechain",
          "Dystem",
          "Giant",
          "Peony Coin",
          "Absolute Coin",
          "Vitae",
          "TPCash",
          "ARENON",
          "EUNO",
          "MMOCoin",
          "Ketan",
          "XDNA",
          "PAXEX",
          "ThunderStake",
          "Kcash",
          "Bettex coin",
          "BitMoney",
          "Junson Ming Chan Coin",
          "HerbCoin",
          "PirateCash",
          "Oduwa",
          "Galilel",
          "Crypto Sports",
          "Credit",
          "Dash Platinum",
          "Nasdacoin",
          "Beetle Coin",
          "Titan Coin",
          "Award",
          "Insane Coin",
          "ALAX",
          "LiteDoge",
          "TruckCoin",
          "OrangeCoin",
          "BitstarCoin",
          "NeosCoin",
          "HyperCoin",
          "PinkCoin",
          "AudioCoin",
          "IncaKoin",
          "Piggy Coin",
          "Genstake",
          "XiaoMiCoin",
          "CapriCoin",
          " ClubCoin",
          "Radium",
          "Creditbit ",
          "OKCash",
          "Lisk",
          "HiCoin",
          "WhiteCoin",
          "FriendshipCoin",
          "Triangles Coin",
          "EOS",
          "Oxycoin",
          "TigerCash",
          "Particl",
          "Nxt",
          "ZEPHYR",
          "Gapcoin",
          "BitcoinPlus"
         ],
         "legendgroup": "0",
         "marker": {
          "color": [
           0,
           0,
           0,
           0,
           0,
           0,
           0,
           0,
           0,
           0,
           0,
           0,
           0,
           0,
           0,
           0,
           0,
           0,
           0,
           0,
           0,
           0,
           0,
           0,
           0,
           0,
           0,
           0,
           0,
           0,
           0,
           0,
           0,
           0,
           0,
           0,
           0,
           0,
           0,
           0,
           0,
           0,
           0,
           0,
           0,
           0,
           0,
           0,
           0,
           0,
           0,
           0,
           0,
           0,
           0,
           0,
           0,
           0,
           0,
           0,
           0,
           0,
           0,
           0,
           0,
           0,
           0,
           0,
           0,
           0,
           0,
           0,
           0,
           0,
           0,
           0,
           0,
           0,
           0,
           0,
           0,
           0,
           0,
           0,
           0,
           0,
           0,
           0,
           0,
           0,
           0,
           0,
           0,
           0,
           0,
           0,
           0,
           0,
           0,
           0,
           0,
           0,
           0,
           0,
           0,
           0,
           0,
           0,
           0,
           0,
           0,
           0,
           0,
           0,
           0,
           0,
           0,
           0,
           0,
           0,
           0,
           0,
           0,
           0,
           0,
           0,
           0,
           0,
           0,
           0,
           0,
           0,
           0,
           0,
           0,
           0,
           0,
           0,
           0,
           0,
           0,
           0,
           0,
           0,
           0,
           0,
           0,
           0,
           0,
           0,
           0,
           0,
           0,
           0,
           0,
           0,
           0,
           0,
           0,
           0,
           0,
           0,
           0,
           0,
           0,
           0,
           0,
           0,
           0,
           0,
           0,
           0,
           0,
           0,
           0,
           0,
           0,
           0,
           0,
           0,
           0,
           0,
           0,
           0,
           0,
           0,
           0,
           0,
           0,
           0,
           0,
           0,
           0,
           0,
           0,
           0,
           0,
           0,
           0,
           0,
           0,
           0,
           0,
           0,
           0,
           0,
           0,
           0,
           0,
           0,
           0,
           0,
           0,
           0,
           0,
           0,
           0,
           0,
           0,
           0,
           0,
           0,
           0,
           0,
           0,
           0,
           0,
           0,
           0,
           0,
           0,
           0,
           0,
           0,
           0,
           0,
           0,
           0,
           0,
           0,
           0,
           0,
           0,
           0,
           0,
           0,
           0,
           0,
           0,
           0,
           0,
           0,
           0,
           0,
           0,
           0,
           0,
           0,
           0,
           0,
           0,
           0,
           0,
           0,
           0,
           0,
           0,
           0,
           0,
           0,
           0,
           0,
           0,
           0,
           0,
           0,
           0,
           0,
           0,
           0,
           0,
           0,
           0,
           0,
           0,
           0,
           0,
           0
          ],
          "coloraxis": "coloraxis",
          "symbol": "circle"
         },
         "mode": "markers",
         "name": "0",
         "scene": "scene",
         "showlegend": true,
         "type": "scatter3d",
         "x": [
          -0.3315728240949821,
          -0.3149633055295881,
          2.3005823585656184,
          -0.40108137158977175,
          -0.33960170656892835,
          -0.3038392708841389,
          -0.26564811683671447,
          -0.23455999470452277,
          -0.3312334639880328,
          -0.3238351926149617,
          -0.33007427455996824,
          -0.3315687721903654,
          -0.33155310302125957,
          0.6522135822689089,
          -0.378329859885007,
          -0.3689252484174045,
          -0.28291292251803285,
          -0.32963759862952796,
          -0.3427793836445179,
          -0.4009764094583196,
          -0.4287267400658843,
          -0.03414623586127143,
          -0.2672586388589852,
          -0.29313350165076935,
          -0.27576632514215105,
          -0.27638651471235887,
          -0.34944037896816327,
          -0.3258925151029467,
          -0.3299795073856854,
          0.025406317805292265,
          -0.3626014488991644,
          -0.40134683090693557,
          -0.2520101712456035,
          -0.30279802664306016,
          -0.40125873213637303,
          -0.3068812523915046,
          -0.3302542612536446,
          -0.28392686413468454,
          -0.4012233348186515,
          -0.2524766440864028,
          -0.2761680893363645,
          -0.3227022950209016,
          -0.02851325722545898,
          -0.3609154828163421,
          -0.30305342797784324,
          -0.377753311173836,
          -0.2931138659456779,
          -0.276461626543401,
          -0.2877839906542123,
          -0.33155495082913566,
          -0.2764139722184794,
          -0.3630447992541842,
          -0.33129014412181385,
          -0.40132841975447553,
          -0.45284513398882886,
          -0.3690101984357349,
          -0.3050003550919904,
          -0.29152033932013516,
          -0.27593706127637835,
          -0.2964176916685896,
          -0.2369943326060803,
          -0.08690094986550508,
          -0.3038102792363881,
          -0.07977642693986342,
          -0.3038737959017822,
          -0.22736203465089863,
          -0.3311663718606578,
          -0.29138950476548464,
          -0.39850584263848354,
          0.8565333199029481,
          -0.30367443343397404,
          -0.07627902980911566,
          -0.3686094997810146,
          -0.3991782281722076,
          -0.30242159580829414,
          -0.30009663747615944,
          -0.3483265666492478,
          -0.40006736760042166,
          -0.3425649092435447,
          -0.3075348325791736,
          -0.33120434002780313,
          -0.32964826951003756,
          -0.23696857274093022,
          -0.3505745931841891,
          -0.400803907419055,
          -0.3304110343175679,
          -0.3038547833353069,
          -0.4013176388864234,
          -0.3313929468092097,
          -0.33154920264458276,
          -0.29137967222614447,
          -0.22930504576188251,
          0.04030353659325649,
          -0.3675698281992946,
          -0.3311646118749855,
          -0.38752117851954776,
          -0.36690073184453975,
          -0.23839502909948346,
          -0.4163204518759199,
          -0.3666498316616418,
          -0.27323290998776223,
          3.7846806296892326,
          -0.40091143664027656,
          0.8520800447490092,
          -0.40127269289953116,
          -0.3680321331630352,
          -0.3310923053228219,
          -0.33124612183064767,
          -0.3686094997810146,
          -0.4008488373929988,
          -0.3037179045275768,
          -0.3310930526624532,
          -0.4491534924248557,
          -0.33123997744600664,
          -0.32684077188518007,
          -0.40130158978642655,
          -0.3304529518829179,
          0.34813135548146773,
          -0.33143864431954173,
          -0.3315090107072734,
          -0.36572439622706937,
          -0.3372719787450548,
          -0.32774677813233544,
          -0.3038312735873777,
          -0.40121182266948247,
          -0.3312875016139816,
          -0.3314140378284223,
          -0.2930205417611702,
          -0.29848379116097806,
          -0.23816360655818972,
          -0.31232727097065727,
          -0.2927625641982643,
          -0.40047972443107904,
          -0.40994949361745797,
          -0.39922216506753316,
          -0.3668615186481405,
          -0.40037794109598257,
          -0.3612788807178377,
          -0.39633110006494165,
          -0.3313575102540846,
          -0.33135668437942983,
          -0.3244983011635664,
          0.26547445511003825,
          -0.40085501694286996,
          -0.2757141247307806,
          -0.3686436576699525,
          -0.3305705510037343,
          0.8939238996171711,
          -0.2643423093802503,
          -0.34134705911157354,
          0.5605421746305272,
          -0.34985743151695853,
          -0.3483642459393038,
          -0.40759722424229083,
          -0.2761000384233367,
          0.13199013231676185,
          -0.27617060881495425,
          -0.3529266241682558,
          -0.4071037167868712,
          -0.401126593376505,
          -0.293094597111589,
          4.606472611591766,
          -0.3685102870249433,
          -0.3309938228855327,
          -0.33149199357678505,
          -0.39748612442252385,
          0.6188482865519401,
          -0.4010675694258693,
          -0.3444548612380099,
          -0.33144772399427386,
          -0.3231369601824259,
          0.43523480535115,
          -0.3021827140428572,
          -0.3346707441682024,
          -0.3764133735539446,
          -0.33139821075845827,
          -0.4022987638783963,
          -0.3594264430146345,
          -0.33126904627957326,
          -0.0926725556217996,
          -0.399863848816401,
          3.7895218163075413,
          0.20789396867485804,
          -0.2728517885566227,
          -0.3287370736841556,
          -0.31149375901773213,
          -0.36561065785607366,
          0.08165685614716528,
          -0.3304100355643621,
          -0.4004433387790885,
          -0.36477785525552653,
          -0.31801427905328045,
          -0.33151405373637227,
          -0.36301681734817404,
          -0.3428459319414316,
          -0.28634718332114517,
          -0.29812984536202175,
          -0.32707319707449856,
          -0.22998401986822717,
          -0.37437483857445253,
          -0.40114374354029925,
          -0.2578050908177134,
          -0.2922570396645951,
          -0.30254658438380116,
          -0.3494575931805774,
          -0.3315413221656849,
          -0.3315230875038474,
          -0.28665576157655254,
          -0.3611881603091385,
          -0.3681059947677917,
          -0.33124045579717787,
          3.984065028704138,
          -0.40097111641520117,
          -0.36829407136093656,
          -0.3262865186679139,
          -0.2782700517246152,
          -0.16161058581711898,
          -0.2927897779833141,
          -0.13526817479032296,
          -0.2930409721491964,
          -0.3383546185454233,
          -0.3307160586239852,
          -0.19821211789510115,
          2.227245568510917,
          -0.3613309397742996,
          -0.26446987257237486,
          1.0487952092472788,
          -0.3637530617749964,
          -0.3657238186521942,
          -0.4039779372728581,
          -0.17411702015955696,
          -0.3611933379477922,
          -0.3644473094924972,
          -0.3244385869782359,
          -0.3625955110721791,
          -0.400618726893669,
          -0.290294848149667,
          -0.36739646188271596,
          -0.34672950948291326,
          -0.3624572250758617,
          -0.19143380494741033,
          -0.4860481531439707,
          -0.21967029950680855,
          0.6692628131993744,
          -0.15365163716032884,
          -0.4032747329333882,
          -0.2940594960252844,
          -0.3312444397906753,
          -0.4037294591763207,
          -0.365840434852018,
          0.572514457881468,
          -0.3630709592748677,
          -0.3307288788342402,
          -0.25227759149617496,
          -0.2932089350842882,
          -0.39819033550491967,
          -0.4008452765601533,
          3.801725039598221,
          0.10236231354765002,
          -0.3983929986222992,
          -0.33011606557163564,
          -0.3309387561693385,
          -0.26568061870478815,
          -0.33145554463725907,
          -0.39249910481425077,
          -0.24541175903991114,
          -0.08421330613908669,
          -0.3882599898450413,
          -0.33073617125045973,
          -0.32382204109493556,
          -0.3974245804627657,
          -0.32918005938302375,
          -0.3688842631798682,
          -0.42697142528694393,
          -0.30235894607896263,
          3.7850712605906183,
          -0.10092392180426318,
          -0.32638359266778455,
          -0.34906730710157163,
          -0.27656851308102415,
          3.7949067775150183,
          3.796146868015631,
          -0.24663698696118871,
          -0.3688203391323278,
          -0.4109875274163184,
          2.506642215302603,
          -0.329623898986091,
          -0.2934362636251458
         ],
         "y": [
          0.9982695616631284,
          0.9984038987340117,
          1.6489982631301205,
          1.2533685017865412,
          2.0830013628285267,
          0.836257777931487,
          0.6080972562704374,
          1.8278760811974533,
          0.9982680855879341,
          0.9985094752977391,
          0.998316025836828,
          0.9982693295646498,
          0.9982694576419228,
          0.6461131519633883,
          0.9446832010304947,
          1.5326086562767103,
          0.2569550859279424,
          0.9982437025155898,
          1.0258404822634077,
          1.2533717562505702,
          2.2121381192427387,
          0.7781401166212106,
          0.8356767447433927,
          0.7700983600939416,
          1.7939044179955332,
          1.7938851883493967,
          0.5559100813959845,
          0.9981451655443129,
          0.998248842803069,
          1.0093380847813305,
          1.0252258777636662,
          1.253376011755761,
          0.08994904160750138,
          1.6051508703656616,
          1.2533715888245334,
          0.9978903114338044,
          0.9982388927144122,
          0.23100195130631354,
          1.2533759062163683,
          0.09000613055522161,
          1.7938919608636235,
          0.9978290775991323,
          1.488175035222631,
          1.5909498718152735,
          0.836249229715024,
          0.9447042115416702,
          0.7701105461050921,
          1.7938742731331951,
          0.7699180424288222,
          0.9982701158730578,
          1.7938771817557257,
          1.0251978207198207,
          0.9982640160022641,
          1.2533765833289134,
          2.6895831332073037,
          1.9450121657849473,
          0.9417988438794251,
          0.770088402674837,
          1.793863347917168,
          0.8357881091222376,
          1.8280322186092661,
          0.9083803851181378,
          0.836258676848776,
          1.2443494763951866,
          0.8362649359768113,
          1.5426659341442133,
          0.9982521121576245,
          0.7700058432281808,
          1.2531893390015791,
          0.7349196797671885,
          0.8362500094549361,
          0.6506098526904176,
          1.5326041359153386,
          1.2533895880059212,
          0.8361581108382152,
          0.8360139135364769,
          1.538850901243129,
          1.253316225717313,
          1.3063345775256305,
          0.997583836711709,
          0.9982492653569583,
          0.9982576821416308,
          1.5656128022064775,
          1.02512868385189,
          1.2533570701787693,
          0.9982411870406737,
          0.8362580124756269,
          1.2533747710281191,
          0.9982601129697193,
          0.998270294101716,
          0.7701643166506813,
          0.09409083864415314,
          1.9051644323994157,
          1.5325977337352856,
          0.9982822187530841,
          1.2527314051119296,
          1.532642807691907,
          1.565709889371667,
          2.0147782311810394,
          1.5324638351786175,
          1.90438265888175,
          1.9785508789538553,
          1.2533680466075516,
          1.8282663146694276,
          1.2533755540507525,
          1.5326005720573912,
          0.9982568843849251,
          0.9982496394238413,
          1.5326041359153386,
          1.2533485218324,
          0.8362629720750143,
          0.998260825218084,
          0.7362847036170458,
          0.9982598472788456,
          0.9979507210797947,
          1.2533738375989447,
          0.9982012490232536,
          0.766727828684716,
          0.9982644202644306,
          0.9982691677680887,
          1.4666472772338115,
          0.5619414692489273,
          0.9980304301675728,
          0.836258741420703,
          1.2533735055318878,
          0.9982640979360675,
          0.9982587911973902,
          0.770074085879496,
          0.21865424963519925,
          1.56570846089098,
          0.9981507664032147,
          0.7700968056484498,
          1.2533313456012696,
          1.812191991739485,
          1.2533631823407827,
          1.5325937292341243,
          1.2533345015032884,
          1.532559530385506,
          1.2531737684077386,
          0.998261059940555,
          0.9982557993399288,
          0.9977733904927351,
          0.5709098974483495,
          1.2533626407169884,
          0.7692189950175609,
          1.5325959215690763,
          0.9982255081877283,
          1.798719177424007,
          0.6080035231642059,
          1.3063247559084683,
          1.9180993435373148,
          1.5388606770805366,
          1.5388282672238356,
          2.0049532982752067,
          1.7938726051232448,
          0.9768666103547007,
          1.7938783606299322,
          1.444663938116516,
          2.0049686000058227,
          1.2533760384888437,
          0.7700986892160396,
          1.1744897032177875,
          1.5325774463233839,
          0.9982529887659822,
          0.9982690627280086,
          2.0837174991197487,
          1.369183657257516,
          1.2533653521154653,
          0.5557811505103301,
          0.998262182972847,
          0.6313434098492706,
          1.004157148556395,
          0.8362533303580248,
          1.5384800826442393,
          1.8338225989022485,
          0.9982599497552987,
          1.6947323545659336,
          1.5241030306142997,
          0.9982683992793495,
          0.6070297743670392,
          1.2533189584145392,
          1.97843266350972,
          1.5346957834063635,
          1.793844526217961,
          0.9982072270653402,
          1.3106860307411337,
          1.4666472261925565,
          0.975305972872018,
          0.9981982865435128,
          1.2533682499981138,
          1.4666014956939097,
          0.9980459870284633,
          0.9982685218338637,
          1.0251979728045693,
          1.3063319460714449,
          -0.04074408580507527,
          0.19251757122644783,
          0.9982430758161289,
          1.565400051151249,
          0.9358328972451453,
          1.2533644213037576,
          1.6325811924228317,
          0.7700483879007236,
          1.3358941835320803,
          1.538844453522761,
          0.9982683918712294,
          0.9982675262077558,
          0.7699530243875112,
          1.6070559632166288,
          1.5325710919711513,
          0.9982584013982324,
          2.0075293724276024,
          1.6947735197066225,
          1.5325709846489273,
          0.6330868162315183,
          0.996257390483343,
          1.3210272172640378,
          0.7701019911670529,
          0.9970578499660699,
          0.7700813231817997,
          1.9076626638902716,
          0.9982360225797205,
          1.5998376456033665,
          0.32251881512662456,
          1.4663291430867607,
          0.6080709930039767,
          1.7147695917648405,
          0.8612497372346928,
          1.466643001995685,
          1.6948197092005317,
          0.7617221195419108,
          0.8594945154304391,
          1.466626055109787,
          0.9977752419954183,
          1.0251867080298596,
          1.253362811900568,
          0.7700119164440054,
          1.5325057978250891,
          0.9244633694409407,
          1.025158797137801,
          0.9897352836657207,
          3.2278086568887434,
          1.4044192809365863,
          1.7172889104109073,
          1.0317045919069732,
          1.694806560157184,
          -0.09293509762603629,
          0.9982647175899068,
          1.6948174784760404,
          1.466644845635953,
          0.9727805365570097,
          1.025197224257504,
          0.9982356250752823,
          1.632437747757217,
          1.9055563848618111,
          1.2531733627615969,
          1.2533700979721505,
          1.978453275397056,
          0.9866808340426508,
          1.253467599225254,
          0.9981716251795283,
          0.9982504000751721,
          0.6080901665575011,
          0.9982731980691882,
          1.253292583551055,
          0.9934280720879763,
          0.8429473096059222,
          1.2530662596752462,
          0.9982847701503249,
          0.9982236733109219,
          1.2533487969969501,
          0.9982292680367294,
          1.532603487348492,
          0.8228607380341354,
          0.8362442884717337,
          1.9785380059184727,
          0.7689080362785035,
          0.9982158020842364,
          0.5558812946419402,
          1.7938794594308682,
          1.978957392241333,
          1.9789958425840173,
          0.607980136490071,
          1.5326057311642507,
          1.8274210185998376,
          0.8716617148014739,
          0.9981511091145433,
          0.770099834293113
         ],
         "z": [
          -0.5740748186519243,
          -0.5744210487486471,
          -0.6697099990060743,
          -0.48399476688486126,
          0.02133911762568479,
          -0.35452454542661027,
          -0.050409357195200274,
          -0.6879519875884894,
          -0.5740813789783183,
          -0.574257695533182,
          -0.5741102364782839,
          -0.5740748708766404,
          -0.5740751976686793,
          -0.30639834757297246,
          -0.38023679093550034,
          -0.09650385382842351,
          -0.280864997768094,
          -0.5741101064857076,
          -0.18035598152008597,
          -0.48399724763712976,
          -0.5603114917672464,
          -0.27608576413511593,
          -0.3551803486001144,
          -0.26996325936615695,
          -0.6361785803838184,
          -0.6361639223670321,
          -0.3168764444800888,
          -0.5741724937639872,
          -0.5741039415265431,
          -0.5825119264459645,
          -0.1798874922400368,
          -0.4839904087009157,
          0.0862408958276214,
          -0.2914738690958882,
          -0.48399162008644886,
          -0.5745190545961691,
          -0.574097273612849,
          -0.33160910127483145,
          -0.48399284859444397,
          0.0862432118626446,
          -0.6361690847931379,
          -0.5741973819943886,
          -0.12678455080622061,
          -0.0704055949573061,
          -0.35453911250964704,
          -0.3802507989631245,
          -0.269965132555323,
          -0.6361611020474393,
          -0.27004755811376546,
          -0.574075241085502,
          -0.6361624025233792,
          -0.17987527198593514,
          -0.574079757936643,
          -0.48399084393073355,
          -0.298507264824405,
          -0.7982903699131426,
          -0.16279317751683078,
          -0.2699940862090508,
          -0.6361701906166338,
          -0.35461477918201295,
          -0.6879226436270538,
          -0.4540955764996764,
          -0.3545252306365521,
          -0.48927842016882667,
          -0.35452473096358683,
          -0.5904635404141289,
          -0.5740807672973284,
          -0.26998663606333095,
          -0.4840241125144557,
          -0.28851490216680054,
          -0.3545268737092952,
          -0.2924771651628309,
          -0.09650957467861189,
          -0.4840351314456356,
          -0.3545405708082157,
          -0.3545691956742824,
          -0.5875967375955238,
          -0.48400854315638625,
          -0.13229591880581978,
          -0.5744687716911973,
          -0.5740796667214417,
          -0.5741115960677513,
          -0.33205948374139815,
          -0.18011452614697068,
          -0.48399888617761133,
          -0.5740944392156093,
          -0.35452426588319574,
          -0.4839908374658813,
          -0.5740772411329883,
          -0.5740753769423269,
          -0.2700061197661256,
          -0.40670807685403076,
          -0.732858088838313,
          -0.09652944422119657,
          -0.5740844666436494,
          -0.48418654052117016,
          -0.09654821918113818,
          -0.33204296994278476,
          -0.6858542639043604,
          -0.09653141883123481,
          -0.7265358310788538,
          -0.04898047108582252,
          -0.4839980865383387,
          -0.6627609057459557,
          -0.48399182543680747,
          -0.09652060790799423,
          -0.5740828191692886,
          -0.5740788824278386,
          -0.09650957467861189,
          -0.48399695337679305,
          -0.3545275880669602,
          -0.5740832839806937,
          -0.15772820198701207,
          -0.5740802468985888,
          -0.5741299939677552,
          -0.4839910426035744,
          -0.5740887456841997,
          -0.2822890935808193,
          -0.574076857798589,
          -0.5740760380984977,
          -0.18833321851879228,
          -0.3691895012547366,
          -0.574121701604789,
          -0.3545248215298825,
          -0.4839927850389876,
          -0.5740798203916185,
          -0.5740766613690226,
          -0.2699625483376988,
          -0.3329366265384417,
          -0.33204739232867075,
          -0.5744425929492184,
          -0.26997043730719467,
          -0.48400219369324066,
          -0.6872954735088932,
          -0.48403104488410836,
          -0.09654302445809176,
          -0.4840045993154994,
          -0.09664973800090773,
          -0.4840654096253059,
          -0.5740780601931507,
          -0.5740774363074589,
          -0.5741549338632814,
          -0.05643169202449837,
          -0.48399854911025075,
          -0.2702021922973136,
          -0.09650789647317941,
          -0.5740893627417218,
          -0.7068158531065382,
          -0.05042388303788721,
          -0.13231891093547785,
          -0.6347524594309542,
          -0.5875675231504147,
          -0.5875932343772177,
          -0.733092849106905,
          -0.636168080480273,
          -0.5806765430485763,
          -0.6361673794164794,
          -0.03532990724968461,
          -0.7331045130253474,
          -0.48399478606257007,
          -0.2699640721026963,
          4.130751391235546,
          -0.09650829663514736,
          -0.5740843009646657,
          -0.5740763632885905,
          0.022401588487037678,
          -0.16091695601450326,
          -0.48399465764898736,
          -0.3169597684924697,
          -0.5740764051588856,
          -0.0771290185372645,
          -0.5900208827108159,
          -0.3545569047468858,
          -0.5878228202606928,
          -0.5949477232022989,
          -0.5740771167209371,
          -0.492471334902251,
          -0.08615092959667947,
          -0.5740807104638377,
          -0.05371487407221179,
          -0.4840129178227541,
          -0.049062232775767566,
          -0.5981380229306319,
          -0.6362291759390728,
          -0.5741235521203936,
          -0.28345404211484526,
          -0.18833547124879654,
          -0.5794869293523099,
          -0.5740892374644143,
          -0.48400740812224075,
          -0.1883464453909946,
          -0.5743168909417706,
          -0.5740758593203967,
          -0.1798758462416233,
          -0.13229001716736677,
          0.11340975327956773,
          -0.33852986617035097,
          -0.5741609614408283,
          -0.3321723082402647,
          -0.41593428633263446,
          -0.4839930314724487,
          -0.46735142548457004,
          -0.26997458434828403,
          -0.18371552694008222,
          -0.587573489652978,
          -0.5740753019275419,
          -0.5740755587204126,
          -0.27007422351020804,
          0.039986546754465974,
          -0.09651555281603526,
          -0.5740800614143367,
          -0.04847893870045431,
          -0.4925027134995971,
          -0.0965118043895968,
          -0.02178779100192635,
          -0.5748885485955189,
          -0.14615399890501446,
          -0.26997052796763304,
          -0.577826116626438,
          -0.26996302345288886,
          -0.7256416798527824,
          -0.5740877525822875,
          -0.3838150498493462,
          -0.4241542001395056,
          -0.1883817550131172,
          -0.05042956154062545,
          -0.08028490758813268,
          -0.3259176626667347,
          -0.18833270963397586,
          -0.4924486173403338,
          -0.27130752464331626,
          -0.38124573747431184,
          -0.1883559995383405,
          -0.5741563451922895,
          -0.17988284266891888,
          -0.4840032628704482,
          -0.2700091160854812,
          -0.09652169754700995,
          -0.4366469643862209,
          -0.1798821920045922,
          -0.5758193604429565,
          0.2929999253296565,
          -0.16323494867939703,
          -0.1564685542224301,
          -0.1848259658859656,
          -0.49246098316531456,
          0.06602258825948112,
          -0.5740807510571715,
          -0.4924532808200694,
          -0.1883306179320388,
          -0.5889284051973893,
          -0.17987467982753375,
          -0.5740874495800025,
          -0.4674437471912613,
          -0.7262819487201994,
          -0.4840284342283981,
          -0.4839996502143688,
          -0.04930710809987835,
          -0.5812826364883769,
          -0.4840602218343571,
          -0.5740918309038764,
          -0.5740850795576004,
          -0.05040784876329512,
          -0.5740775905246078,
          -0.48415597782156006,
          -0.5751967753039493,
          -0.3597007161326597,
          -0.48421262354770356,
          -0.5740932863856029,
          -0.5742231706561309,
          -0.48406499557286037,
          -0.5741174367340508,
          -0.09650403870022489,
          -0.12310673036187215,
          -0.3545523041028589,
          -0.04898666252594751,
          -0.27363582892160293,
          -0.574171337988294,
          -0.3168803502616544,
          -0.6361596104329162,
          -0.049233049549684174,
          -0.04926235876133113,
          -0.05077267957315995,
          -0.09650558139069741,
          0.030707955902129835,
          -0.019801562666483887,
          -0.5740991086674935,
          -0.2699574256819948
         ]
        },
        {
         "customdata": [
          [
           "SHA-256"
          ],
          [
           "Ethash"
          ],
          [
           "Scrypt"
          ],
          [
           "CryptoNight-V7"
          ],
          [
           "Ethash"
          ],
          [
           "Equihash"
          ],
          [
           "Multiple"
          ],
          [
           "Scrypt"
          ],
          [
           "X11"
          ],
          [
           "Scrypt"
          ],
          [
           "Multiple"
          ],
          [
           "Scrypt"
          ],
          [
           "SHA-256"
          ],
          [
           "Scrypt"
          ],
          [
           "Scrypt"
          ],
          [
           "Quark"
          ],
          [
           "Groestl"
          ],
          [
           "Scrypt"
          ],
          [
           "Scrypt"
          ],
          [
           "Scrypt"
          ],
          [
           "X11"
          ],
          [
           "Multiple"
          ],
          [
           "SHA-256"
          ],
          [
           "Scrypt"
          ],
          [
           "Scrypt"
          ],
          [
           "Scrypt"
          ],
          [
           "Scrypt"
          ],
          [
           "Scrypt"
          ],
          [
           "NeoScrypt"
          ],
          [
           "Scrypt"
          ],
          [
           "Scrypt"
          ],
          [
           "Scrypt"
          ],
          [
           "Scrypt"
          ],
          [
           "SHA-256"
          ],
          [
           "Scrypt"
          ],
          [
           "Scrypt"
          ],
          [
           "Scrypt"
          ],
          [
           "Scrypt"
          ],
          [
           "HybridScryptHash256"
          ],
          [
           "Scrypt"
          ],
          [
           "Scrypt"
          ],
          [
           "SHA-256"
          ],
          [
           "Scrypt"
          ],
          [
           "Scrypt"
          ],
          [
           "Scrypt"
          ],
          [
           "Scrypt"
          ],
          [
           "SHA-256"
          ],
          [
           "SHA-256"
          ],
          [
           "SHA-256"
          ],
          [
           "SHA-256"
          ],
          [
           "SHA-256"
          ],
          [
           "X11"
          ],
          [
           "Scrypt"
          ],
          [
           "Lyra2REv2"
          ],
          [
           "Scrypt"
          ],
          [
           "SHA-256"
          ],
          [
           "CryptoNight"
          ],
          [
           "CryptoNight"
          ],
          [
           "Scrypt"
          ],
          [
           "Scrypt"
          ],
          [
           "Scrypt"
          ],
          [
           "Scrypt"
          ],
          [
           "Scrypt"
          ],
          [
           "Scrypt"
          ],
          [
           "Stanford Folding"
          ],
          [
           "Multiple"
          ],
          [
           "QuBit"
          ],
          [
           "Scrypt"
          ],
          [
           "Scrypt"
          ],
          [
           "M7 POW"
          ],
          [
           "Scrypt"
          ],
          [
           "SHA-256"
          ],
          [
           "Scrypt"
          ],
          [
           "X11"
          ],
          [
           "Lyra2RE"
          ],
          [
           "SHA-256"
          ],
          [
           "X11"
          ],
          [
           "Scrypt"
          ],
          [
           "Scrypt"
          ],
          [
           "Ethash"
          ],
          [
           "Blake2b"
          ],
          [
           "X11"
          ],
          [
           "SHA-256"
          ],
          [
           "Scrypt"
          ],
          [
           "1GB AES Pattern Search"
          ],
          [
           "Scrypt"
          ],
          [
           "SHA-256"
          ],
          [
           "X11"
          ],
          [
           "Dagger"
          ],
          [
           "Scrypt"
          ],
          [
           "X11GOST"
          ],
          [
           "Scrypt"
          ],
          [
           "X11"
          ],
          [
           "Scrypt"
          ],
          [
           "X11"
          ],
          [
           "Equihash"
          ],
          [
           "CryptoNight"
          ],
          [
           "SHA-256"
          ],
          [
           "Multiple"
          ],
          [
           "Scrypt"
          ],
          [
           "SHA-256"
          ],
          [
           "Scrypt"
          ],
          [
           "Lyra2Z"
          ],
          [
           "Ethash"
          ],
          [
           "Equihash"
          ],
          [
           "Scrypt"
          ],
          [
           "X11"
          ],
          [
           "X11"
          ],
          [
           "CryptoNight"
          ],
          [
           "Scrypt"
          ],
          [
           "CryptoNight"
          ],
          [
           "Lyra2RE"
          ],
          [
           "X11"
          ],
          [
           "CryptoNight-V7"
          ],
          [
           "Scrypt"
          ],
          [
           "X11"
          ],
          [
           "Equihash"
          ],
          [
           "Scrypt"
          ],
          [
           "Lyra2RE"
          ],
          [
           "Dagger-Hashimoto"
          ],
          [
           "Scrypt"
          ],
          [
           "NIST5"
          ],
          [
           "Scrypt"
          ],
          [
           "SHA-256"
          ],
          [
           "Scrypt"
          ],
          [
           "CryptoNight-V7"
          ],
          [
           "Argon2d"
          ],
          [
           "Blake2b"
          ],
          [
           "Cloverhash"
          ],
          [
           "CryptoNight"
          ],
          [
           "X11"
          ],
          [
           "Scrypt"
          ],
          [
           "Scrypt"
          ],
          [
           "X11"
          ],
          [
           "X11"
          ],
          [
           "CryptoNight"
          ],
          [
           "Time Travel"
          ],
          [
           "Scrypt"
          ],
          [
           "Keccak"
          ],
          [
           "X11"
          ],
          [
           "SHA-256"
          ],
          [
           "Scrypt"
          ],
          [
           "Scrypt"
          ],
          [
           "Scrypt"
          ],
          [
           "Scrypt"
          ],
          [
           "Scrypt"
          ],
          [
           "Scrypt"
          ],
          [
           "CryptoNight"
          ],
          [
           "Equihash"
          ],
          [
           "X11"
          ],
          [
           "NeoScrypt"
          ],
          [
           "Equihash"
          ],
          [
           "Dagger"
          ],
          [
           "Scrypt"
          ],
          [
           "X11"
          ],
          [
           "NeoScrypt"
          ],
          [
           "Ethash"
          ],
          [
           "NeoScrypt"
          ],
          [
           "Multiple"
          ],
          [
           "CryptoNight"
          ],
          [
           "CryptoNight"
          ],
          [
           "Ethash"
          ],
          [
           "X11"
          ],
          [
           "CryptoNight-V7"
          ],
          [
           "Scrypt"
          ],
          [
           "BLAKE256"
          ],
          [
           "X11"
          ],
          [
           "NeoScrypt"
          ],
          [
           "NeoScrypt"
          ],
          [
           "Scrypt"
          ],
          [
           "X11"
          ],
          [
           "SHA-256"
          ],
          [
           "C11"
          ],
          [
           "CryptoNight"
          ],
          [
           "SkunkHash"
          ],
          [
           "CryptoNight"
          ],
          [
           "Scrypt"
          ],
          [
           "Dagger"
          ],
          [
           "Lyra2REv2"
          ],
          [
           "Scrypt"
          ],
          [
           "Scrypt"
          ],
          [
           "X11"
          ],
          [
           "Ethash"
          ],
          [
           "CryptoNight"
          ],
          [
           "Scrypt"
          ],
          [
           "IMesh"
          ],
          [
           "Equihash"
          ],
          [
           "Lyra2Z"
          ],
          [
           "X11"
          ],
          [
           "CryptoNight"
          ],
          [
           "NIST5"
          ],
          [
           "Lyra2RE"
          ],
          [
           "Tribus"
          ],
          [
           "Lyra2Z"
          ],
          [
           "CryptoNight"
          ],
          [
           "CryptoNight Heavy"
          ],
          [
           "CryptoNight"
          ],
          [
           "Jump Consistent Hash"
          ],
          [
           "CryptoNight"
          ],
          [
           "X16R"
          ],
          [
           "HMQ1725"
          ],
          [
           "X11"
          ],
          [
           "Scrypt"
          ],
          [
           "CryptoNight-V7"
          ],
          [
           "Cryptonight-GPU"
          ],
          [
           "XEVAN"
          ],
          [
           "CryptoNight Heavy"
          ],
          [
           "SHA-256"
          ],
          [
           "X11"
          ],
          [
           "X16R"
          ],
          [
           "Equihash"
          ],
          [
           "Lyra2Z"
          ],
          [
           "SHA-256"
          ],
          [
           "CryptoNight"
          ],
          [
           "Blake"
          ],
          [
           "Blake"
          ],
          [
           "Exosis"
          ],
          [
           "Scrypt"
          ],
          [
           "Equihash"
          ],
          [
           "Equihash"
          ],
          [
           "QuBit"
          ],
          [
           "SHA-256"
          ],
          [
           "X13"
          ],
          [
           "SHA-256"
          ],
          [
           "Scrypt"
          ],
          [
           "NeoScrypt"
          ],
          [
           "Blake"
          ],
          [
           "Scrypt"
          ],
          [
           "SHA-256"
          ],
          [
           "Scrypt"
          ],
          [
           "Groestl"
          ],
          [
           "Scrypt"
          ],
          [
           "Scrypt"
          ],
          [
           "Multiple"
          ],
          [
           "Equihash+Scrypt"
          ],
          [
           "Ethash"
          ],
          [
           "CryptoNight"
          ],
          [
           "Equihash"
          ]
         ],
         "hovertemplate": "<b>%{hovertext}</b><br><br>Class=%{marker.color}<br>PC1=%{x}<br>PC2=%{y}<br>PC3=%{z}<br>Algorithm=%{customdata[0]}<extra></extra>",
         "hovertext": [
          "Bitcoin",
          "Ethereum",
          "Litecoin",
          "Monero",
          "Ethereum Classic",
          "ZCash",
          "DigiByte",
          "ProsperCoin",
          "Spreadcoin",
          "Argentum",
          "MyriadCoin",
          "MoonCoin",
          "ZetaCoin",
          "SexCoin",
          "Quatloo",
          "QuarkCoin",
          "Riecoin",
          "Digitalcoin ",
          "Catcoin",
          "CannaCoin",
          "CryptCoin",
          "Verge",
          "DevCoin",
          "EarthCoin",
          "E-Gulden",
          "Einsteinium",
          "Emerald",
          "Franko",
          "FeatherCoin",
          "GrandCoin",
          "GlobalCoin",
          "GoldCoin",
          "Infinite Coin",
          "IXcoin",
          "KrugerCoin",
          "LuckyCoin",
          "Litebar ",
          "MegaCoin",
          "MediterraneanCoin",
          "MinCoin",
          "NobleCoin",
          "Namecoin",
          "NyanCoin",
          "RonPaulCoin",
          "StableCoin",
          "SmartCoin",
          "SysCoin",
          "TigerCoin",
          "TerraCoin",
          "UnbreakableCoin",
          "Unobtanium",
          "UroCoin",
          "ViaCoin",
          "Vertcoin",
          "WorldCoin",
          "JouleCoin",
          "ByteCoin",
          "DigitalNote ",
          "MonaCoin",
          "Gulden",
          "PesetaCoin",
          "Wild Beast Coin",
          "Flo",
          "ArtByte",
          "Folding Coin",
          "Unitus",
          "CypherPunkCoin",
          "OmniCron",
          "GreenCoin",
          "Cryptonite",
          "MasterCoin",
          "SoonCoin",
          "1Credit",
          "MarsCoin ",
          "Crypto",
          "Anarchists Prime",
          "BowsCoin",
          "Song Coin",
          "BitZeny",
          "Expanse",
          "Siacoin",
          "MindCoin",
          "I0coin",
          "Revolution VR",
          "HOdlcoin",
          "Gamecredits",
          "CarpeDiemCoin",
          "Adzcoin",
          "SoilCoin",
          "YoCoin",
          "SibCoin",
          "Francs",
          "BolivarCoin",
          "Omni",
          "PizzaCoin",
          "Komodo",
          "Karbo",
          "ZayedCoin",
          "Circuits of Value",
          "DopeCoin",
          "DollarCoin",
          "Shilling",
          "ZCoin",
          "Elementrem",
          "ZClassic",
          "KiloCoin",
          "ArtexCoin",
          "Kurrent",
          "Cannabis Industry Coin",
          "OsmiumCoin",
          "Bikercoins",
          "HexxCoin",
          "PacCoin",
          "Citadel",
          "BeaverCoin",
          "VaultCoin",
          "Zero",
          "Canada eCoin",
          "Zoin",
          "DubaiCoin",
          "EB3coin",
          "Coinonat",
          "BenjiRolls",
          "ILCoin",
          "EquiTrader",
          "Quantum Resistant Ledger",
          "Dynamic",
          "Nano",
          "ChanCoin",
          "Dinastycoin",
          "DigitalPrice",
          "Unify",
          "SocialCoin",
          "ArcticCoin",
          "DAS",
          "LeviarCoin",
          "Bitcore",
          "gCn Coin",
          "SmartCash",
          "Onix",
          "Bitcoin Cash",
          "Sojourn Coin",
          "NewYorkCoin",
          "FrazCoin",
          "Kronecoin",
          "AdCoin",
          "Linx",
          "Sumokoin",
          "BitcoinZ",
          "Elements",
          "VIVO Coin",
          "Bitcoin Gold",
          "Pirl",
          "eBoost",
          "Pura",
          "Innova",
          "Ellaism",
          "GoByte",
          "SHIELD",
          "UltraNote",
          "BitCoal",
          "DaxxCoin",
          "AC3",
          "Lethean",
          "PopularCoin",
          "Photon",
          "Sucre",
          "SparksPay",
          "GunCoin",
          "IrishCoin",
          "Pioneer Coin",
          "UnitedBitcoin",
          "Interzone",
          "TurtleCoin",
          "MUNcoin",
          "Niobio Cash",
          "ShareChain",
          "Travelflex",
          "KREDS",
          "BitFlip",
          "LottoCoin",
          "Crypto Improvement Fund",
          "Callisto Network",
          "BitTube",
          "Poseidon",
          "Aidos Kuneen",
          "Bitrolium",
          "Alpenschillling",
          "FuturoCoin",
          "Monero Classic",
          "Jumpcoin",
          "Infinex",
          "KEYCO",
          "GINcoin",
          "PlatinCoin",
          "Loki",
          "Newton Coin",
          "MassGrid",
          "PluraCoin",
          "Motion",
          "PlusOneCoin",
          "Axe",
          "HexCoin",
          "Webchain",
          "Ryo",
          "Urals Coin",
          "Qwertycoin",
          "Project Pai",
          "Azart",
          "Xchange",
          "CrypticCoin",
          "Actinium",
          "Bitcoin SV",
          "FREDEnergy",
          "Universal Molecule",
          "Lithium",
          "Exosis",
          "Block-Logic",
          "Beam",
          "Bithereum",
          "SLICE",
          "BLAST",
          "Bitcoin Rhodium",
          "GlobalToken",
          "SolarCoin",
          "UFO Coin",
          "BlakeCoin",
          "Crypto Escudo",
          "Crown Coin",
          "SmileyCoin",
          "Groestlcoin",
          "Bata",
          "Pakcoin",
          "JoinCoin",
          "Vollar",
          "Reality Clash",
          "Beldex",
          "Horizen"
         ],
         "legendgroup": "1",
         "marker": {
          "color": [
           1,
           1,
           1,
           1,
           1,
           1,
           1,
           1,
           1,
           1,
           1,
           1,
           1,
           1,
           1,
           1,
           1,
           1,
           1,
           1,
           1,
           1,
           1,
           1,
           1,
           1,
           1,
           1,
           1,
           1,
           1,
           1,
           1,
           1,
           1,
           1,
           1,
           1,
           1,
           1,
           1,
           1,
           1,
           1,
           1,
           1,
           1,
           1,
           1,
           1,
           1,
           1,
           1,
           1,
           1,
           1,
           1,
           1,
           1,
           1,
           1,
           1,
           1,
           1,
           1,
           1,
           1,
           1,
           1,
           1,
           1,
           1,
           1,
           1,
           1,
           1,
           1,
           1,
           1,
           1,
           1,
           1,
           1,
           1,
           1,
           1,
           1,
           1,
           1,
           1,
           1,
           1,
           1,
           1,
           1,
           1,
           1,
           1,
           1,
           1,
           1,
           1,
           1,
           1,
           1,
           1,
           1,
           1,
           1,
           1,
           1,
           1,
           1,
           1,
           1,
           1,
           1,
           1,
           1,
           1,
           1,
           1,
           1,
           1,
           1,
           1,
           1,
           1,
           1,
           1,
           1,
           1,
           1,
           1,
           1,
           1,
           1,
           1,
           1,
           1,
           1,
           1,
           1,
           1,
           1,
           1,
           1,
           1,
           1,
           1,
           1,
           1,
           1,
           1,
           1,
           1,
           1,
           1,
           1,
           1,
           1,
           1,
           1,
           1,
           1,
           1,
           1,
           1,
           1,
           1,
           1,
           1,
           1,
           1,
           1,
           1,
           1,
           1,
           1,
           1,
           1,
           1,
           1,
           1,
           1,
           1,
           1,
           1,
           1,
           1,
           1,
           1,
           1,
           1,
           1,
           1,
           1,
           1,
           1,
           1,
           1,
           1,
           1,
           1,
           1,
           1,
           1,
           1,
           1,
           1,
           1,
           1,
           1,
           1,
           1,
           1,
           1,
           1,
           1,
           1,
           1,
           1,
           1,
           1,
           1,
           1,
           1,
           1,
           1,
           1,
           1,
           1,
           1,
           1,
           1,
           1,
           1,
           1
          ],
          "coloraxis": "coloraxis",
          "symbol": "diamond"
         },
         "mode": "markers",
         "name": "1",
         "scene": "scene",
         "showlegend": true,
         "type": "scatter3d",
         "x": [
          -0.13780357649388253,
          -0.15735481377281596,
          -0.16437128388423644,
          -0.15866339033691856,
          -0.1558013313871868,
          -0.16701521218356533,
          0.16134989374276307,
          -0.16551399025644734,
          -0.2352295558570894,
          -0.16513165751896267,
          -0.09128718719231681,
          2.5485464415385675,
          -0.1348975267976447,
          -0.1623954307214265,
          -0.16493622853212583,
          -0.23333971109041196,
          -0.21136379509819134,
          -0.1649849713017111,
          -0.16549631338284942,
          -0.1655825098533449,
          -0.23531861546796473,
          0.18501160099757083,
          0.23887831603199713,
          0.0823802831103916,
          -0.1653296022687266,
          -0.16094837615895288,
          -0.16526906418314558,
          -0.16563933399013386,
          -0.17875010613739598,
          -0.14492507693503667,
          -0.16443817381252024,
          -0.16471472243983992,
          1.5778628015100702,
          -0.13776507032558222,
          -0.1620123630544165,
          -0.1653559612042397,
          -0.1657096786727869,
          -0.1649712130789765,
          -0.15225604111030555,
          -0.16559130594711818,
          -0.030894270704631636,
          -0.13784243093997012,
          -0.15927481217348433,
          -0.1655707861962721,
          -0.16367068885254157,
          -0.16505910693345663,
          -0.12503372857046816,
          -0.13730786113933524,
          -0.137594153653241,
          -0.1375770988540247,
          -0.13816610133599977,
          -0.23549199463840131,
          -0.165288183618806,
          -0.1946697304874525,
          -0.1624000911466311,
          -0.13737494421562707,
          3.8499375115049146,
          0.45942442026635866,
          -0.1641592202307658,
          -0.14880379862371246,
          -0.16288201132685096,
          -0.16571187769121837,
          -0.1627475011937498,
          -0.1490134134018856,
          -0.11411854200685946,
          -0.12518923762852904,
          -0.1722796402040155,
          -0.1655853621887131,
          -0.03890765151490392,
          -0.09214307991493889,
          -0.16572074659384575,
          -0.1378701190290467,
          0.4845644419821543,
          -0.23488107189170931,
          -0.14001396393698376,
          -0.1376107374905766,
          -0.23516508322375007,
          -0.16385004945348228,
          -0.16304479325012025,
          -0.15841879332234454,
          0.3700861875482175,
          -0.23520037842641628,
          -0.13776618906346755,
          -0.16169110246524943,
          -0.1513120588467637,
          -0.16428851775305828,
          0.2794238632515534,
          -0.2343636338681898,
          -0.15531815720213382,
          -0.16453493825935317,
          -0.14250032982676808,
          -0.16551128658236272,
          -0.23516371793209168,
          -0.1657208049078743,
          -0.23531320625719332,
          -0.33316214272275124,
          0.3048036700020871,
          -0.1380254647054727,
          -0.10532288907061972,
          -0.16289614353803908,
          -0.1379842253138754,
          -0.16538521591686378,
          -0.16697973915025152,
          -0.1581617572260582,
          -0.16703675967130424,
          -0.09265797328380941,
          -0.22193853275357908,
          -0.23314784635940733,
          0.3047980790846761,
          -0.16570259637568338,
          0.3049283842093276,
          -0.14055280647574006,
          0.4778757163232633,
          -0.15743161549701642,
          -0.16567098398228888,
          -0.22806825268635017,
          -0.16704910447549748,
          -0.163810020233374,
          -0.14027206584829932,
          -0.1353991900569686,
          -0.13667842283290987,
          -0.18367441762766418,
          -0.1652346906789841,
          -0.1044528592276127,
          -0.16505723876424183,
          -0.1572900052305583,
          -0.153666761343625,
          -0.028927855605681837,
          -0.1601176147273098,
          0.3408086975974557,
          -0.23437196120619752,
          -0.16537560191094683,
          -0.16513960754271786,
          -0.23476546912125335,
          -0.23534116357643753,
          0.30519187641468365,
          -0.13016532827823904,
          3.233495652703795,
          -0.12090208796584241,
          -0.22624001710431266,
          -0.1378027434006036,
          -0.09150819088883107,
          1.5756765310222818,
          -0.16547313281568668,
          -0.16492638385678648,
          -0.16462828215204034,
          -0.1646152551320524,
          0.30537498075716557,
          0.04464528801919807,
          -0.18987051842108543,
          -0.1834245114517352,
          -0.16689564134247595,
          -0.15408093727326588,
          -0.16380823515084184,
          -0.23089911956018963,
          -0.18327037681396097,
          -0.15653159969390928,
          -0.18337029175133165,
          -0.11545087250461722,
          1.1402517504010892,
          0.3047808834322065,
          -0.08163878447447151,
          -0.23064103685607215,
          -0.1464349238985498,
          -0.08211794353091222,
          1.081229222377389,
          -0.23531524365064635,
          -0.1834220926119267,
          -0.17648119581793084,
          -0.16472643644653484,
          -0.23524088330315496,
          -0.1377822091309332,
          -0.20850071540973908,
          8.020162995192623,
          -0.12503020117896613,
          0.30864363674353956,
          0.026722870535345243,
          -0.153585888745595,
          -0.18027176958905947,
          -0.16529837374615391,
          0.14083467851971868,
          -0.2293994821693644,
          -0.10970606242315359,
          0.3126809333269812,
          -0.1655346681956284,
          -0.1738347973448064,
          -0.1658898590953836,
          -0.16476970443317276,
          -0.23441260250823842,
          0.3049628294203527,
          -0.18373375410040563,
          -0.1403985032290054,
          -0.15707570690733977,
          -0.16706387073439388,
          0.30887982225884264,
          0.5776794429837696,
          2.10807807820987,
          -0.1806031351543248,
          0.3185263992923446,
          -0.19869100764646003,
          -0.12793753167254476,
          -0.235297458329119,
          -0.16555916829805806,
          -0.1463133671968725,
          -0.12556796436049344,
          -0.0907302093371617,
          3.0925702284448717,
          -0.09775465171298431,
          -0.2352689063330049,
          -0.19812038179020838,
          -0.061961990590952816,
          -0.16646338177986789,
          -0.13780278084524342,
          0.38448603612438426,
          -0.12637500409361233,
          -0.12676596138497537,
          -0.15927394157878907,
          -0.16445479037829377,
          -0.16496139774065072,
          -0.1667289738599824,
          -0.1714929086323724,
          -0.13708114686136677,
          -0.11070182494384287,
          -0.13595247409453962,
          0.5283574449358076,
          -0.10881870438083503,
          -0.07737379225908936,
          -0.1491635152650416,
          -0.13759352612874023,
          0.5479368413784312,
          -0.21092615603161133,
          -0.16563580104176495,
          -0.16359765769921408,
          -0.12592175302775704,
          -0.1328583718577368,
          -0.1581948132920983,
          0.32647140065791397,
          -0.16701626573265815
         ],
         "y": [
          -1.3119724524575256,
          -1.9607709651516663,
          -1.1499853399643023,
          -2.209238134911637,
          -1.960873057881812,
          -2.01296343316153,
          -1.8362163287218873,
          -1.149975692769305,
          -0.8948667144340424,
          -1.1499946056802732,
          -1.8304546499539267,
          -1.3405696708565278,
          -1.3119888141294827,
          -1.1500428535591933,
          -1.1500143050726286,
          -0.4534415791164877,
          -1.20357586779942,
          -1.1499787279024887,
          -1.1499751446787851,
          -1.1499721932714053,
          -0.8948680447744571,
          -1.832302165982095,
          -1.3153040109389809,
          -1.151934017132428,
          -1.1499699756209907,
          -1.1500336137917968,
          -1.149975969340899,
          -1.1499725926727389,
          -1.5924142629702729,
          -1.150338766161494,
          -1.1499773966168958,
          -1.1499875781583486,
          -1.1607319016311757,
          -1.3119712585322711,
          -1.1500420100920794,
          -1.1499700773837898,
          -1.1499677002449389,
          -1.1499738893904525,
          -2.0960994179611085,
          -1.1499702192571277,
          -1.156519503388435,
          -1.3119736571815084,
          -1.1500083460409916,
          -1.1499774537886407,
          -1.150082394312169,
          -1.1499831974587218,
          -1.3121968692210286,
          -1.3119756944666663,
          -1.3119809850892143,
          -1.3120076462143488,
          -1.3119688457995262,
          -0.8948605411431506,
          -1.1499701224399237,
          -1.2887438412312207,
          -1.1500540320195167,
          -1.3119763348375408,
          -2.3263146457458475,
          -2.306605446287858,
          -1.149993876577673,
          -1.1506446302612068,
          -1.1499981126573664,
          -1.1499686828680715,
          -1.1499893726868184,
          -1.1501645729947694,
          -2.1477436355388915,
          -1.8300747707519056,
          -1.5862654185273077,
          -1.1499652919943113,
          -1.1531903448498133,
          -2.166967569016177,
          -1.1499675207114388,
          -1.3119745156805553,
          -1.1956325299256825,
          -0.8948652111303854,
          -2.2815325124662724,
          -1.3119899138560247,
          -0.8948654309149596,
          -1.150059506330408,
          -1.1500629877443533,
          -1.9608160519242164,
          -2.123002256206509,
          -0.8948629476587151,
          -1.3119712932199452,
          -1.1499923941260164,
          -2.282629709373826,
          -1.1499827737111907,
          -1.3144949711700393,
          -0.8948856591516051,
          -2.1967900486716063,
          -1.1500507696587474,
          -2.2525199113033874,
          -1.1499748934145655,
          -0.8948682506802587,
          -1.1499675203514894,
          -0.8948728857269143,
          -1.3414059285005806,
          -2.3042515404652884,
          -1.3119712726737522,
          -1.8303174224922285,
          -1.1500226024793148,
          -1.3119706396182071,
          -1.1499781397017854,
          -2.1712419556488087,
          -1.9608147360060777,
          -2.012964101264614,
          -1.1548569315145907,
          -0.8947980636527577,
          -0.8949509978643722,
          -2.304259584586216,
          -1.1499684568306177,
          -2.3042584064330063,
          -2.2815093013964534,
          -0.9442942472822292,
          -2.209332314420767,
          -1.1499679386784145,
          -0.8953458844314364,
          -2.012961621930936,
          -1.149979385770368,
          -2.281508467499907,
          -2.2474085951296234,
          -1.1519286865451321,
          -0.6093930712727396,
          -1.1499774224854828,
          -1.3127121625310079,
          -1.1499980224418433,
          -2.2092706816890377,
          -2.1175732709970787,
          -2.135617597057888,
          -2.086138464987014,
          -2.3045590593495606,
          -0.894897365740251,
          -1.1499701688978192,
          -1.1500027229478356,
          -0.8948809459009388,
          -0.8948693878748342,
          -2.3042709867810385,
          -2.1916434776235896,
          -1.1876755908656778,
          -1.2252294096369085,
          -0.8953607504574987,
          -1.3119724266265707,
          -1.155179043476905,
          -1.0959731777873358,
          -1.1499737104159038,
          -1.150002551437303,
          -1.1500047568631733,
          -1.150004352946377,
          -2.3042902732845185,
          -2.0214116577911625,
          -0.8947339420343361,
          -1.592338100903069,
          -2.0129597257387157,
          -2.196842062884453,
          -1.1499793304219599,
          -0.8949685676440047,
          -1.5923462012318552,
          -1.9609457873465077,
          -1.5923398542799803,
          -1.8302450683544877,
          -2.3391599917682946,
          -2.3042540357984738,
          -1.9655785521445464,
          -0.8951036703935081,
          -2.209574131550177,
          -1.1509525044817237,
          -1.2731617121943135,
          -0.8948692281715642,
          -1.5923337327578755,
          -1.59246125896331,
          -1.1499820413641282,
          -0.8948692122269469,
          -1.3119711931920472,
          -1.2124056767526028,
          -2.780545762513548,
          -2.2065459985580587,
          -2.3043657391148633,
          -1.151155399769456,
          -2.1967864245295483,
          -1.2890243897340081,
          -1.1499826023107713,
          -1.1536326394471574,
          -0.8950293984316708,
          -1.9639444729176363,
          -2.3047156665904542,
          -1.1499763339110982,
          -2.1641672797357954,
          -2.012963601072069,
          -2.1713727762407107,
          -0.8948986258676288,
          -2.3042526159610053,
          -0.6093754115928237,
          -2.281516165796068,
          -2.2385706169068507,
          -2.1712367650231963,
          -2.3045473147431697,
          -2.1242897034351604,
          -2.379988409797337,
          -2.07288195215055,
          -2.3045344216172765,
          -1.28696812906528,
          -2.2124106054206263,
          -0.8948695353477905,
          -1.149977884405839,
          -2.2101073768488306,
          -2.1477759314194276,
          -0.5157248610361514,
          -2.1781982629829884,
          -1.31221826762304,
          -0.8948715121600133,
          -1.2870061929342773,
          -2.0151291042884614,
          -2.1712707372599964,
          -1.3119724277875817,
          -2.3075551847988787,
          -2.212308603832697,
          -2.212263561780186,
          -2.2388270618782102,
          -1.1500136880519127,
          -2.0130727662331482,
          -2.0129616317080807,
          -1.5863125775078666,
          -1.311980820297667,
          -0.3543581434419366,
          -1.3120202391205236,
          -1.1986393795629686,
          -1.5928676459156983,
          -2.2157227233813552,
          -1.1501692270648336,
          -1.3119809656321415,
          -1.1636155751657538,
          -1.2035773243410253,
          -1.1499680212534507,
          -1.150031474242681,
          -1.8300994866497962,
          -2.256342463535199,
          -1.9608145319638883,
          -2.3045744473326533,
          -2.0129634658279563
         ],
         "z": [
          0.19971393674510954,
          0.3635050374074383,
          -0.01985648835376725,
          0.41083496375471734,
          0.3634866100089317,
          0.3161567402930783,
          0.33143553128367853,
          -0.0198349674145772,
          0.07024797412112212,
          -0.019840258909108045,
          0.3357518457919554,
          -0.050540616824492755,
          0.19965821152741342,
          -0.019888730302175334,
          -0.01984174260774828,
          0.06170223475056104,
          0.17398672331477957,
          -0.019845104770704017,
          -0.019835385202818686,
          -0.019834032493687568,
          0.07024990484296818,
          0.3304891812538112,
          0.1926382055318431,
          -0.02452000680179375,
          -0.019839325375995795,
          -0.019918594665756895,
          -0.019839798195650522,
          -0.019832855304478092,
          0.23728104871771988,
          -0.020199689960555847,
          -0.01985612667781119,
          -0.019849394947618768,
          -0.05315075832032591,
          0.19971302666198648,
          -0.019896441019088034,
          -0.019838789478786947,
          -0.019832053674752846,
          -0.01984596693513264,
          0.32250045552968193,
          -0.01983409806065476,
          -0.021712158710812324,
          0.19971485505968722,
          -0.019954908530963787,
          -0.019833625057531275,
          -0.01985858991286452,
          -0.019843088365758117,
          0.19948763116107204,
          0.19970448600697321,
          0.19971081596631315,
          0.199713722273062,
          0.19972069782161778,
          0.07025243500695715,
          -0.01984013011630484,
          0.1729840434022044,
          -0.019887277167973363,
          0.19970589627694096,
          0.32074729127191176,
          0.3856869304033714,
          -0.019859661096766606,
          -0.020085427276773586,
          -0.0198845119805931,
          -0.019831890401439903,
          -0.019888247244189722,
          -0.020139693793405883,
          0.4140857201270112,
          0.3363789332564323,
          0.1850668617459854,
          -0.01983481582526647,
          -0.02195821094252223,
          0.45934090112324283,
          -0.01983185570799079,
          0.19971550946036412,
          -0.027189015196435403,
          0.07024086995515341,
          0.3487446258962459,
          0.19971223209079791,
          0.07024653741672567,
          -0.019857813441955155,
          -0.019873382790215888,
          0.3635316566490872,
          0.4533454463102622,
          0.07024693616315222,
          0.19971305310306092,
          -0.019908860485570896,
          0.38745812422478065,
          -0.019858444509431708,
          0.19173446449650017,
          0.07023308199704466,
          0.4121311230483318,
          -0.01984527433230013,
          0.3727672902549024,
          -0.019835118404474838,
          0.07024685350551528,
          -0.019831854593634724,
          0.07025038662262005,
          0.14669365388435185,
          0.38847132917093674,
          0.19971820004083446,
          0.3360139044814659,
          -0.019881250550642802,
          0.19971730393917783,
          -0.019837227158632443,
          0.48163111307601986,
          0.36352639152432814,
          0.31615724956226327,
          -0.020687836275481545,
          0.06997564715008371,
          0.07021688803570654,
          0.38847241929281245,
          -0.01983210224829737,
          0.38846968792268416,
          0.3487525026650911,
          0.062101104898227705,
          0.4108219625972777,
          -0.01983279316410724,
          0.07016406609988454,
          0.3161571929713543,
          -0.019868360243614835,
          0.34874682541657165,
          0.4706316555414296,
          -0.020169960216385674,
          -0.03332910440796934,
          -0.019840304015266517,
          0.19914159565700695,
          -0.019841321062537238,
          0.4108116485340584,
          0.4272729747527241,
          0.462805672840646,
          0.3555979483997623,
          0.3877936675036628,
          0.07023467223987058,
          -0.019838388258831604,
          -0.019839113030376873,
          0.07024048912459664,
          0.07025051614190703,
          0.3884659859429194,
          0.4297098068827885,
          -0.08275363711830878,
          0.11658201488430948,
          0.07012956516192423,
          0.19971391705517033,
          -0.020671466441695208,
          -0.060989374654058966,
          -0.019836020158679187,
          -0.019843368712441644,
          -0.019849020839155986,
          -0.019849328729334818,
          0.3884646967680571,
          0.3129812461282216,
          0.06933094415273311,
          0.23736461646767937,
          0.3161539142678111,
          0.4121128816435922,
          -0.019868402433569222,
          0.07017436486285779,
          0.23736254114313987,
          0.36350996595680557,
          0.23736375302788915,
          0.33620624848836994,
          0.37612745174638873,
          0.3884720854486871,
          0.36258640178490587,
          0.07018568300114741,
          0.41063299129827274,
          -0.021372393468569673,
          0.08429496011096284,
          0.0702499819116497,
          0.2373640367633927,
          0.23724170626222207,
          -0.01984983620219256,
          0.070248503110143,
          0.1997133591006721,
          0.13830842031664073,
          0.29320925156700023,
          0.3850596612471141,
          0.3884089636740533,
          -0.023509371007307597,
          0.41209627758981937,
          0.17273223409964428,
          -0.019838408757670206,
          -0.02547421569392971,
          0.07015198472012917,
          0.3629449520302065,
          0.38837137051318493,
          -0.019834478696942805,
          0.41479565218684206,
          0.316134410244333,
          0.48160314256068854,
          0.07023563278631662,
          0.3884682990300029,
          -0.03333007536300416,
          0.34875027356205884,
          0.34600827653651944,
          0.48163215223071276,
          0.3884263731052938,
          0.45173081368761303,
          0.36187497012113945,
          0.45723479613220536,
          0.3882332144680663,
          0.22833865196117553,
          0.47317619024477026,
          0.07024966606739926,
          -0.019833803386936102,
          0.4106954804479017,
          0.38674382842827243,
          0.08687564625500833,
          0.408344328860671,
          0.19894844958070615,
          0.0702493396056054,
          0.22833195174042994,
          0.31433388474124124,
          0.4816243608944456,
          0.19971391794016444,
          0.38729086792495937,
          0.40942462938309726,
          0.4094269118887176,
          0.395866984031712,
          -0.019851379485945723,
          0.3161292571173935,
          0.3161508360904227,
          0.18505697648039438,
          0.19970060715023738,
          -0.08191687431697796,
          0.19968298855185476,
          -0.027692806687846044,
          0.23594733359769904,
          0.40886696877184975,
          -0.02013614617549116,
          0.19971080113493714,
          -0.032344554652678124,
          0.1739782087057224,
          -0.01983348187720952,
          -0.019866238055554503,
          0.336396489914506,
          0.36666350901121014,
          0.36352702321162106,
          0.38808029155465745,
          0.316156765193433
         ]
        },
        {
         "customdata": [
          [
           "Proof-of-BibleHash"
          ],
          [
           "SHA-256 + Hive"
          ],
          [
           "Proof-of-Authority"
          ],
          [
           "ECC 256K1"
          ],
          [
           "Leased POS"
          ]
         ],
         "hovertemplate": "<b>%{hovertext}</b><br><br>Class=%{marker.color}<br>PC1=%{x}<br>PC2=%{y}<br>PC3=%{z}<br>Algorithm=%{customdata[0]}<extra></extra>",
         "hovertext": [
          "BiblePay",
          "LitecoinCash",
          "Poa Network",
          "Acute Angle Cloud",
          "Waves"
         ],
         "legendgroup": "3",
         "marker": {
          "color": [
           3,
           3,
           3,
           3,
           3
          ],
          "coloraxis": "coloraxis",
          "symbol": "square"
         },
         "mode": "markers",
         "name": "3",
         "scene": "scene",
         "showlegend": true,
         "type": "scatter3d",
         "x": [
          -0.2784015036629993,
          -0.4910715385800557,
          -0.25305802571521213,
          -0.277435513275335,
          -0.39087403609305327
         ],
         "y": [
          4.517260298442123,
          3.0342150375332286,
          1.1895264345683525,
          3.2113722067991985,
          2.494786401715066
         ],
         "z": [
          16.243145088569033,
          14.142914847317027,
          7.229409060404356,
          15.9294827661292,
          14.507999205371412
         ]
        },
        {
         "customdata": [
          [
           "TRC10"
          ]
         ],
         "hovertemplate": "<b>%{hovertext}</b><br><br>Class=%{marker.color}<br>PC1=%{x}<br>PC2=%{y}<br>PC3=%{z}<br>Algorithm=%{customdata[0]}<extra></extra>",
         "hovertext": [
          "BitTorrent"
         ],
         "legendgroup": "2",
         "marker": {
          "color": [
           2
          ],
          "coloraxis": "coloraxis",
          "symbol": "x"
         },
         "mode": "markers",
         "name": "2",
         "scene": "scene",
         "showlegend": true,
         "type": "scatter3d",
         "x": [
          33.98331359445426
         ],
         "y": [
          1.7546826576836583
         ],
         "z": [
          -0.7474560964366005
         ]
        }
       ],
       "layout": {
        "coloraxis": {
         "colorbar": {
          "title": {
           "text": "Class"
          }
         },
         "colorscale": [
          [
           0,
           "#0d0887"
          ],
          [
           0.1111111111111111,
           "#46039f"
          ],
          [
           0.2222222222222222,
           "#7201a8"
          ],
          [
           0.3333333333333333,
           "#9c179e"
          ],
          [
           0.4444444444444444,
           "#bd3786"
          ],
          [
           0.5555555555555556,
           "#d8576b"
          ],
          [
           0.6666666666666666,
           "#ed7953"
          ],
          [
           0.7777777777777778,
           "#fb9f3a"
          ],
          [
           0.8888888888888888,
           "#fdca26"
          ],
          [
           1,
           "#f0f921"
          ]
         ]
        },
        "legend": {
         "title": {
          "text": "Class"
         },
         "tracegroupgap": 0,
         "x": 0,
         "y": 1
        },
        "margin": {
         "t": 60
        },
        "scene": {
         "domain": {
          "x": [
           0,
           1
          ],
          "y": [
           0,
           1
          ]
         },
         "xaxis": {
          "title": {
           "text": "PC1"
          }
         },
         "yaxis": {
          "title": {
           "text": "PC2"
          }
         },
         "zaxis": {
          "title": {
           "text": "PC3"
          }
         }
        },
        "template": {
         "data": {
          "bar": [
           {
            "error_x": {
             "color": "#2a3f5f"
            },
            "error_y": {
             "color": "#2a3f5f"
            },
            "marker": {
             "line": {
              "color": "#E5ECF6",
              "width": 0.5
             },
             "pattern": {
              "fillmode": "overlay",
              "size": 10,
              "solidity": 0.2
             }
            },
            "type": "bar"
           }
          ],
          "barpolar": [
           {
            "marker": {
             "line": {
              "color": "#E5ECF6",
              "width": 0.5
             },
             "pattern": {
              "fillmode": "overlay",
              "size": 10,
              "solidity": 0.2
             }
            },
            "type": "barpolar"
           }
          ],
          "carpet": [
           {
            "aaxis": {
             "endlinecolor": "#2a3f5f",
             "gridcolor": "white",
             "linecolor": "white",
             "minorgridcolor": "white",
             "startlinecolor": "#2a3f5f"
            },
            "baxis": {
             "endlinecolor": "#2a3f5f",
             "gridcolor": "white",
             "linecolor": "white",
             "minorgridcolor": "white",
             "startlinecolor": "#2a3f5f"
            },
            "type": "carpet"
           }
          ],
          "choropleth": [
           {
            "colorbar": {
             "outlinewidth": 0,
             "ticks": ""
            },
            "type": "choropleth"
           }
          ],
          "contour": [
           {
            "colorbar": {
             "outlinewidth": 0,
             "ticks": ""
            },
            "colorscale": [
             [
              0,
              "#0d0887"
             ],
             [
              0.1111111111111111,
              "#46039f"
             ],
             [
              0.2222222222222222,
              "#7201a8"
             ],
             [
              0.3333333333333333,
              "#9c179e"
             ],
             [
              0.4444444444444444,
              "#bd3786"
             ],
             [
              0.5555555555555556,
              "#d8576b"
             ],
             [
              0.6666666666666666,
              "#ed7953"
             ],
             [
              0.7777777777777778,
              "#fb9f3a"
             ],
             [
              0.8888888888888888,
              "#fdca26"
             ],
             [
              1,
              "#f0f921"
             ]
            ],
            "type": "contour"
           }
          ],
          "contourcarpet": [
           {
            "colorbar": {
             "outlinewidth": 0,
             "ticks": ""
            },
            "type": "contourcarpet"
           }
          ],
          "heatmap": [
           {
            "colorbar": {
             "outlinewidth": 0,
             "ticks": ""
            },
            "colorscale": [
             [
              0,
              "#0d0887"
             ],
             [
              0.1111111111111111,
              "#46039f"
             ],
             [
              0.2222222222222222,
              "#7201a8"
             ],
             [
              0.3333333333333333,
              "#9c179e"
             ],
             [
              0.4444444444444444,
              "#bd3786"
             ],
             [
              0.5555555555555556,
              "#d8576b"
             ],
             [
              0.6666666666666666,
              "#ed7953"
             ],
             [
              0.7777777777777778,
              "#fb9f3a"
             ],
             [
              0.8888888888888888,
              "#fdca26"
             ],
             [
              1,
              "#f0f921"
             ]
            ],
            "type": "heatmap"
           }
          ],
          "heatmapgl": [
           {
            "colorbar": {
             "outlinewidth": 0,
             "ticks": ""
            },
            "colorscale": [
             [
              0,
              "#0d0887"
             ],
             [
              0.1111111111111111,
              "#46039f"
             ],
             [
              0.2222222222222222,
              "#7201a8"
             ],
             [
              0.3333333333333333,
              "#9c179e"
             ],
             [
              0.4444444444444444,
              "#bd3786"
             ],
             [
              0.5555555555555556,
              "#d8576b"
             ],
             [
              0.6666666666666666,
              "#ed7953"
             ],
             [
              0.7777777777777778,
              "#fb9f3a"
             ],
             [
              0.8888888888888888,
              "#fdca26"
             ],
             [
              1,
              "#f0f921"
             ]
            ],
            "type": "heatmapgl"
           }
          ],
          "histogram": [
           {
            "marker": {
             "pattern": {
              "fillmode": "overlay",
              "size": 10,
              "solidity": 0.2
             }
            },
            "type": "histogram"
           }
          ],
          "histogram2d": [
           {
            "colorbar": {
             "outlinewidth": 0,
             "ticks": ""
            },
            "colorscale": [
             [
              0,
              "#0d0887"
             ],
             [
              0.1111111111111111,
              "#46039f"
             ],
             [
              0.2222222222222222,
              "#7201a8"
             ],
             [
              0.3333333333333333,
              "#9c179e"
             ],
             [
              0.4444444444444444,
              "#bd3786"
             ],
             [
              0.5555555555555556,
              "#d8576b"
             ],
             [
              0.6666666666666666,
              "#ed7953"
             ],
             [
              0.7777777777777778,
              "#fb9f3a"
             ],
             [
              0.8888888888888888,
              "#fdca26"
             ],
             [
              1,
              "#f0f921"
             ]
            ],
            "type": "histogram2d"
           }
          ],
          "histogram2dcontour": [
           {
            "colorbar": {
             "outlinewidth": 0,
             "ticks": ""
            },
            "colorscale": [
             [
              0,
              "#0d0887"
             ],
             [
              0.1111111111111111,
              "#46039f"
             ],
             [
              0.2222222222222222,
              "#7201a8"
             ],
             [
              0.3333333333333333,
              "#9c179e"
             ],
             [
              0.4444444444444444,
              "#bd3786"
             ],
             [
              0.5555555555555556,
              "#d8576b"
             ],
             [
              0.6666666666666666,
              "#ed7953"
             ],
             [
              0.7777777777777778,
              "#fb9f3a"
             ],
             [
              0.8888888888888888,
              "#fdca26"
             ],
             [
              1,
              "#f0f921"
             ]
            ],
            "type": "histogram2dcontour"
           }
          ],
          "mesh3d": [
           {
            "colorbar": {
             "outlinewidth": 0,
             "ticks": ""
            },
            "type": "mesh3d"
           }
          ],
          "parcoords": [
           {
            "line": {
             "colorbar": {
              "outlinewidth": 0,
              "ticks": ""
             }
            },
            "type": "parcoords"
           }
          ],
          "pie": [
           {
            "automargin": true,
            "type": "pie"
           }
          ],
          "scatter": [
           {
            "fillpattern": {
             "fillmode": "overlay",
             "size": 10,
             "solidity": 0.2
            },
            "type": "scatter"
           }
          ],
          "scatter3d": [
           {
            "line": {
             "colorbar": {
              "outlinewidth": 0,
              "ticks": ""
             }
            },
            "marker": {
             "colorbar": {
              "outlinewidth": 0,
              "ticks": ""
             }
            },
            "type": "scatter3d"
           }
          ],
          "scattercarpet": [
           {
            "marker": {
             "colorbar": {
              "outlinewidth": 0,
              "ticks": ""
             }
            },
            "type": "scattercarpet"
           }
          ],
          "scattergeo": [
           {
            "marker": {
             "colorbar": {
              "outlinewidth": 0,
              "ticks": ""
             }
            },
            "type": "scattergeo"
           }
          ],
          "scattergl": [
           {
            "marker": {
             "colorbar": {
              "outlinewidth": 0,
              "ticks": ""
             }
            },
            "type": "scattergl"
           }
          ],
          "scattermapbox": [
           {
            "marker": {
             "colorbar": {
              "outlinewidth": 0,
              "ticks": ""
             }
            },
            "type": "scattermapbox"
           }
          ],
          "scatterpolar": [
           {
            "marker": {
             "colorbar": {
              "outlinewidth": 0,
              "ticks": ""
             }
            },
            "type": "scatterpolar"
           }
          ],
          "scatterpolargl": [
           {
            "marker": {
             "colorbar": {
              "outlinewidth": 0,
              "ticks": ""
             }
            },
            "type": "scatterpolargl"
           }
          ],
          "scatterternary": [
           {
            "marker": {
             "colorbar": {
              "outlinewidth": 0,
              "ticks": ""
             }
            },
            "type": "scatterternary"
           }
          ],
          "surface": [
           {
            "colorbar": {
             "outlinewidth": 0,
             "ticks": ""
            },
            "colorscale": [
             [
              0,
              "#0d0887"
             ],
             [
              0.1111111111111111,
              "#46039f"
             ],
             [
              0.2222222222222222,
              "#7201a8"
             ],
             [
              0.3333333333333333,
              "#9c179e"
             ],
             [
              0.4444444444444444,
              "#bd3786"
             ],
             [
              0.5555555555555556,
              "#d8576b"
             ],
             [
              0.6666666666666666,
              "#ed7953"
             ],
             [
              0.7777777777777778,
              "#fb9f3a"
             ],
             [
              0.8888888888888888,
              "#fdca26"
             ],
             [
              1,
              "#f0f921"
             ]
            ],
            "type": "surface"
           }
          ],
          "table": [
           {
            "cells": {
             "fill": {
              "color": "#EBF0F8"
             },
             "line": {
              "color": "white"
             }
            },
            "header": {
             "fill": {
              "color": "#C8D4E3"
             },
             "line": {
              "color": "white"
             }
            },
            "type": "table"
           }
          ]
         },
         "layout": {
          "annotationdefaults": {
           "arrowcolor": "#2a3f5f",
           "arrowhead": 0,
           "arrowwidth": 1
          },
          "autotypenumbers": "strict",
          "coloraxis": {
           "colorbar": {
            "outlinewidth": 0,
            "ticks": ""
           }
          },
          "colorscale": {
           "diverging": [
            [
             0,
             "#8e0152"
            ],
            [
             0.1,
             "#c51b7d"
            ],
            [
             0.2,
             "#de77ae"
            ],
            [
             0.3,
             "#f1b6da"
            ],
            [
             0.4,
             "#fde0ef"
            ],
            [
             0.5,
             "#f7f7f7"
            ],
            [
             0.6,
             "#e6f5d0"
            ],
            [
             0.7,
             "#b8e186"
            ],
            [
             0.8,
             "#7fbc41"
            ],
            [
             0.9,
             "#4d9221"
            ],
            [
             1,
             "#276419"
            ]
           ],
           "sequential": [
            [
             0,
             "#0d0887"
            ],
            [
             0.1111111111111111,
             "#46039f"
            ],
            [
             0.2222222222222222,
             "#7201a8"
            ],
            [
             0.3333333333333333,
             "#9c179e"
            ],
            [
             0.4444444444444444,
             "#bd3786"
            ],
            [
             0.5555555555555556,
             "#d8576b"
            ],
            [
             0.6666666666666666,
             "#ed7953"
            ],
            [
             0.7777777777777778,
             "#fb9f3a"
            ],
            [
             0.8888888888888888,
             "#fdca26"
            ],
            [
             1,
             "#f0f921"
            ]
           ],
           "sequentialminus": [
            [
             0,
             "#0d0887"
            ],
            [
             0.1111111111111111,
             "#46039f"
            ],
            [
             0.2222222222222222,
             "#7201a8"
            ],
            [
             0.3333333333333333,
             "#9c179e"
            ],
            [
             0.4444444444444444,
             "#bd3786"
            ],
            [
             0.5555555555555556,
             "#d8576b"
            ],
            [
             0.6666666666666666,
             "#ed7953"
            ],
            [
             0.7777777777777778,
             "#fb9f3a"
            ],
            [
             0.8888888888888888,
             "#fdca26"
            ],
            [
             1,
             "#f0f921"
            ]
           ]
          },
          "colorway": [
           "#636efa",
           "#EF553B",
           "#00cc96",
           "#ab63fa",
           "#FFA15A",
           "#19d3f3",
           "#FF6692",
           "#B6E880",
           "#FF97FF",
           "#FECB52"
          ],
          "font": {
           "color": "#2a3f5f"
          },
          "geo": {
           "bgcolor": "white",
           "lakecolor": "white",
           "landcolor": "#E5ECF6",
           "showlakes": true,
           "showland": true,
           "subunitcolor": "white"
          },
          "hoverlabel": {
           "align": "left"
          },
          "hovermode": "closest",
          "mapbox": {
           "style": "light"
          },
          "paper_bgcolor": "white",
          "plot_bgcolor": "#E5ECF6",
          "polar": {
           "angularaxis": {
            "gridcolor": "white",
            "linecolor": "white",
            "ticks": ""
           },
           "bgcolor": "#E5ECF6",
           "radialaxis": {
            "gridcolor": "white",
            "linecolor": "white",
            "ticks": ""
           }
          },
          "scene": {
           "xaxis": {
            "backgroundcolor": "#E5ECF6",
            "gridcolor": "white",
            "gridwidth": 2,
            "linecolor": "white",
            "showbackground": true,
            "ticks": "",
            "zerolinecolor": "white"
           },
           "yaxis": {
            "backgroundcolor": "#E5ECF6",
            "gridcolor": "white",
            "gridwidth": 2,
            "linecolor": "white",
            "showbackground": true,
            "ticks": "",
            "zerolinecolor": "white"
           },
           "zaxis": {
            "backgroundcolor": "#E5ECF6",
            "gridcolor": "white",
            "gridwidth": 2,
            "linecolor": "white",
            "showbackground": true,
            "ticks": "",
            "zerolinecolor": "white"
           }
          },
          "shapedefaults": {
           "line": {
            "color": "#2a3f5f"
           }
          },
          "ternary": {
           "aaxis": {
            "gridcolor": "white",
            "linecolor": "white",
            "ticks": ""
           },
           "baxis": {
            "gridcolor": "white",
            "linecolor": "white",
            "ticks": ""
           },
           "bgcolor": "#E5ECF6",
           "caxis": {
            "gridcolor": "white",
            "linecolor": "white",
            "ticks": ""
           }
          },
          "title": {
           "x": 0.05
          },
          "xaxis": {
           "automargin": true,
           "gridcolor": "white",
           "linecolor": "white",
           "ticks": "",
           "title": {
            "standoff": 15
           },
           "zerolinecolor": "white",
           "zerolinewidth": 2
          },
          "yaxis": {
           "automargin": true,
           "gridcolor": "white",
           "linecolor": "white",
           "ticks": "",
           "title": {
            "standoff": 15
           },
           "zerolinecolor": "white",
           "zerolinewidth": 2
          }
         }
        },
        "width": 900
       }
      },
      "text/html": [
       "<div>                            <div id=\"d5748652-f54b-4a0a-93ac-e7b6f310eee6\" class=\"plotly-graph-div\" style=\"height:525px; width:900px;\"></div>            <script type=\"text/javascript\">                require([\"plotly\"], function(Plotly) {                    window.PLOTLYENV=window.PLOTLYENV || {};                                    if (document.getElementById(\"d5748652-f54b-4a0a-93ac-e7b6f310eee6\")) {                    Plotly.newPlot(                        \"d5748652-f54b-4a0a-93ac-e7b6f310eee6\",                        [{\"customdata\":[[\"Scrypt\"],[\"Scrypt\"],[\"X13\"],[\"X11\"],[\"SHA-512\"],[\"SHA-256\"],[\"SHA-256\"],[\"X15\"],[\"Scrypt\"],[\"Scrypt\"],[\"Scrypt\"],[\"Scrypt\"],[\"Scrypt\"],[\"Scrypt\"],[\"Groestl\"],[\"PoS\"],[\"Scrypt\"],[\"Scrypt\"],[\"X11\"],[\"X11\"],[\"SHA3\"],[\"Scrypt\"],[\"SHA-256\"],[\"Scrypt\"],[\"X13\"],[\"X13\"],[\"NeoScrypt\"],[\"Scrypt\"],[\"Scrypt\"],[\"Scrypt\"],[\"X11\"],[\"X11\"],[\"Multiple\"],[\"PHI1612\"],[\"X11\"],[\"Scrypt\"],[\"Scrypt\"],[\"Scrypt\"],[\"X11\"],[\"Multiple\"],[\"X13\"],[\"Scrypt\"],[\"Shabal256\"],[\"Counterparty\"],[\"SHA-256\"],[\"Groestl\"],[\"Scrypt\"],[\"X13\"],[\"Scrypt\"],[\"Scrypt\"],[\"X13\"],[\"X11\"],[\"Scrypt\"],[\"X11\"],[\"SHA3\"],[\"QUAIT\"],[\"X11\"],[\"Scrypt\"],[\"X13\"],[\"SHA-256\"],[\"X15\"],[\"BLAKE256\"],[\"SHA-256\"],[\"X11\"],[\"SHA-256\"],[\"NIST5\"],[\"Scrypt\"],[\"Scrypt\"],[\"X11\"],[\"Scrypt\"],[\"SHA-256\"],[\"Scrypt\"],[\"PoS\"],[\"X11\"],[\"SHA-256\"],[\"SHA-256\"],[\"NIST5\"],[\"X11\"],[\"POS 3.0\"],[\"Scrypt\"],[\"Scrypt\"],[\"Scrypt\"],[\"X13\"],[\"X11\"],[\"X11\"],[\"Scrypt\"],[\"SHA-256\"],[\"X11\"],[\"Scrypt\"],[\"Scrypt\"],[\"Scrypt\"],[\"Scrypt\"],[\"SHA-256D\"],[\"PoS\"],[\"Scrypt\"],[\"X11\"],[\"PoS\"],[\"X13\"],[\"X14\"],[\"PoS\"],[\"SHA-256D\"],[\"DPoS\"],[\"X11\"],[\"X13\"],[\"X11\"],[\"PoS\"],[\"Scrypt\"],[\"Scrypt\"],[\"PoS\"],[\"X11\"],[\"SHA-256\"],[\"Scrypt\"],[\"X11\"],[\"Scrypt\"],[\"Scrypt\"],[\"X11\"],[\"Scrypt\"],[\"Scrypt\"],[\"Scrypt\"],[\"Scrypt\"],[\"Quark\"],[\"QuBit\"],[\"Scrypt\"],[\"SHA-256\"],[\"X11\"],[\"Scrypt\"],[\"Scrypt\"],[\"Scrypt\"],[\"Scrypt\"],[\"X13\"],[\"Scrypt\"],[\"Scrypt\"],[\"X11\"],[\"Blake2S\"],[\"X11\"],[\"PoS\"],[\"X11\"],[\"PoS\"],[\"X11\"],[\"Scrypt\"],[\"Scrypt\"],[\"Scrypt\"],[\"SHA-256\"],[\"X11\"],[\"Scrypt\"],[\"PoS\"],[\"Scrypt\"],[\"X15\"],[\"SHA-256\"],[\"POS 3.0\"],[\"536\"],[\"NIST5\"],[\"NIST5\"],[\"Skein\"],[\"X13\"],[\"Scrypt\"],[\"X13\"],[\"SkunkHash v2 Raptor\"],[\"Skein\"],[\"X11\"],[\"Scrypt\"],[\"VeChainThor Authority\"],[\"PoS\"],[\"Scrypt\"],[\"Scrypt\"],[\"SHA-512\"],[\"Ouroboros\"],[\"X11\"],[\"NeoScrypt\"],[\"Scrypt\"],[\"Lyra2REv2\"],[\"Scrypt\"],[\"SHA-256\"],[\"NIST5\"],[\"PHI1612\"],[\"Scrypt\"],[\"Quark\"],[\"POS 2.0\"],[\"Scrypt\"],[\"SHA-256\"],[\"X11\"],[\"DPoS\"],[\"NIST5\"],[\"X13\"],[\"Scrypt\"],[\"NIST5\"],[\"Quark\"],[\"Scrypt\"],[\"Scrypt\"],[\"X11\"],[\"Quark\"],[\"Scrypt\"],[\"Scrypt\"],[\"X11\"],[\"POS 3.0\"],[\"Ethash\"],[\"Scrypt\"],[\"Scrypt\"],[\"X13\"],[\"C11\"],[\"X11\"],[\"XEVAN\"],[\"Scrypt\"],[\"VBFT\"],[\"NIST5\"],[\"Scrypt\"],[\"Scrypt\"],[\"Scrypt\"],[\"Green Protocol\"],[\"PoS\"],[\"Scrypt\"],[\"Semux BFT consensus\"],[\"Quark\"],[\"PoS\"],[\"X16R\"],[\"Scrypt\"],[\"XEVAN\"],[\"Scrypt\"],[\"Scrypt\"],[\"Scrypt\"],[\"SHA-256D\"],[\"Scrypt\"],[\"X15\"],[\"Scrypt\"],[\"Quark\"],[\"SHA-256\"],[\"DPoS\"],[\"X16R\"],[\"Quark\"],[\"Quark\"],[\"Scrypt\"],[\"Lyra2REv2\"],[\"Quark\"],[\"Scrypt\"],[\"X11\"],[\"X11\"],[\"Scrypt\"],[\"PoS\"],[\"Keccak\"],[\"X11\"],[\"Scrypt\"],[\"SHA-512\"],[\"XEVAN\"],[\"XEVAN\"],[\"X11\"],[\"Quark\"],[\"Equihash\"],[\"Scrypt\"],[\"Quark\"],[\"Quark\"],[\"Scrypt\"],[\"X11\"],[\"Scrypt\"],[\"XEVAN\"],[\"SHA-256D\"],[\"X11\"],[\"X11\"],[\"DPoS\"],[\"Scrypt\"],[\"X11\"],[\"Scrypt\"],[\"Scrypt\"],[\"SHA-256\"],[\"Scrypt\"],[\"X11\"],[\"Scrypt\"],[\"SHA-256\"],[\"X11\"],[\"Scrypt\"],[\"Scrypt\"],[\"X11\"],[\"Scrypt\"],[\"PoS\"],[\"X11\"],[\"SHA-256\"],[\"DPoS\"],[\"Scrypt\"],[\"Scrypt\"],[\"NeoScrypt\"],[\"X13\"],[\"DPoS\"],[\"DPoS\"],[\"SHA-256\"],[\"PoS\"],[\"PoS\"],[\"SHA-256\"],[\"Scrypt\"],[\"Scrypt\"]],\"hovertemplate\":\"<b>%{hovertext}</b><br><br>Class=%{marker.color}<br>PC1=%{x}<br>PC2=%{y}<br>PC3=%{z}<br>Algorithm=%{customdata[0]}<extra></extra>\",\"hovertext\":[\"42 Coin\",\"404Coin\",\"EliteCoin\",\"Dash\",\"Bitshares\",\"BitcoinDark\",\"PayCoin\",\"KoboCoin\",\"Aurora Coin\",\"BlueCoin\",\"EnergyCoin\",\"BitBar\",\"CryptoBullion\",\"CasinoCoin\",\"Diamond\",\"Exclusive Coin\",\"FlutterCoin\",\"HoboNickels\",\"HyperStake\",\"IOCoin\",\"MaxCoin\",\"MintCoin\",\"MazaCoin\",\"Nautilus Coin\",\"NavCoin\",\"OpalCoin\",\"Orbitcoin\",\"PotCoin\",\"PhoenixCoin\",\"Reddcoin\",\"SuperCoin\",\"SyncCoin\",\"TeslaCoin\",\"TittieCoin\",\"TorCoin\",\"UnitaryStatus Dollar\",\"UltraCoin\",\"VeriCoin\",\"X11 Coin\",\"Crypti\",\"StealthCoin\",\"ZCC Coin\",\"BurstCoin\",\"StorjCoin\",\"Neutron\",\"FairCoin\",\"RubyCoin\",\"Kore\",\"Dnotes\",\"8BIT Coin\",\"Sativa Coin\",\"Ucoin\",\"Vtorrent\",\"IslaCoin\",\"Nexus\",\"Droidz\",\"Squall Coin\",\"Diggits\",\"Paycon\",\"Emercoin\",\"EverGreenCoin\",\"Decred\",\"EDRCoin\",\"Hitcoin\",\"DubaiCoin\",\"PWR Coin\",\"BillaryCoin\",\"GPU Coin\",\"EuropeCoin\",\"ZeitCoin\",\"SwingCoin\",\"SafeExchangeCoin\",\"Nebuchadnezzar\",\"Ratecoin\",\"Revenu\",\"Clockcoin\",\"VIP Tokens\",\"BitSend\",\"Let it Ride\",\"PutinCoin\",\"iBankCoin\",\"Frankywillcoin\",\"MudraCoin\",\"Lutetium Coin\",\"GoldBlocks\",\"CarterCoin\",\"BitTokens\",\"MustangCoin\",\"ZoneCoin\",\"RootCoin\",\"BitCurrency\",\"Swiscoin\",\"BuzzCoin\",\"Opair\",\"PesoBit\",\"Halloween Coin\",\"CoffeeCoin\",\"RoyalCoin\",\"GanjaCoin V2\",\"TeamUP\",\"LanaCoin\",\"ARK\",\"InsaneCoin\",\"EmberCoin\",\"XenixCoin\",\"FreeCoin\",\"PLNCoin\",\"AquariusCoin\",\"Creatio\",\"Eternity\",\"Eurocoin\",\"BitcoinFast\",\"Stakenet\",\"BitConnect Coin\",\"MoneyCoin\",\"Enigma\",\"Russiacoin\",\"PandaCoin\",\"GameUnits\",\"GAKHcoin\",\"Allsafe\",\"LiteCreed\",\"Klingon Empire Darsek\",\"Internet of People\",\"KushCoin\",\"Printerium\",\"Impeach\",\"Zilbercoin\",\"FirstCoin\",\"FindCoin\",\"OpenChat\",\"RenosCoin\",\"VirtacoinPlus\",\"TajCoin\",\"Impact\",\"Atmos\",\"HappyCoin\",\"MacronCoin\",\"Condensate\",\"Independent Money System\",\"ArgusCoin\",\"LomoCoin\",\"ProCurrency\",\"GoldReserve\",\"GrowthCoin\",\"Phreak\",\"Degas Coin\",\"HTML5 Coin\",\"Ultimate Secure Cash\",\"QTUM\",\"Espers\",\"Denarius\",\"Virta Unique Coin\",\"Bitcoin Planet\",\"BritCoin\",\"Linda\",\"DeepOnion\",\"Signatum\",\"Cream\",\"Monoeci\",\"Draftcoin\",\"Vechain\",\"Stakecoin\",\"CoinonatX\",\"Ethereum Dark\",\"Obsidian\",\"Cardano\",\"Regalcoin\",\"TrezarCoin\",\"TerraNovaCoin\",\"Rupee\",\"WomenCoin\",\"Theresa May Coin\",\"NamoCoin\",\"LUXCoin\",\"Xios\",\"Bitcloud 2.0\",\"KekCoin\",\"BlackholeCoin\",\"Infinity Economics\",\"Magnet\",\"Lamden Tau\",\"Electra\",\"Bitcoin Diamond\",\"Cash & Back Coin\",\"Bulwark\",\"Kalkulus\",\"GermanCoin\",\"LiteCoin Ultra\",\"PhantomX\",\"Digiwage\",\"Trollcoin\",\"Litecoin Plus\",\"Monkey Project\",\"TokenPay\",\"1717 Masonic Commemorative Token\",\"My Big Coin\",\"Unified Society USDEX\",\"Tokyo Coin\",\"Stipend\",\"Pushi\",\"Ellerium\",\"Velox\",\"Ontology\",\"Bitspace\",\"Briacoin\",\"Ignition\",\"MedicCoin\",\"Bitcoin Green\",\"Deviant Coin\",\"Abjcoin\",\"Semux\",\"Carebit\",\"Zealium\",\"Proton\",\"iDealCash\",\"Bitcoin Incognito\",\"HollyWoodCoin\",\"Swisscoin\",\"Xt3ch\",\"TheVig\",\"EmaratCoin\",\"Dekado\",\"Lynx\",\"Poseidon Quark\",\"BitcoinWSpectrum\",\"Muse\",\"Trivechain\",\"Dystem\",\"Giant\",\"Peony Coin\",\"Absolute Coin\",\"Vitae\",\"TPCash\",\"ARENON\",\"EUNO\",\"MMOCoin\",\"Ketan\",\"XDNA\",\"PAXEX\",\"ThunderStake\",\"Kcash\",\"Bettex coin\",\"BitMoney\",\"Junson Ming Chan Coin\",\"HerbCoin\",\"PirateCash\",\"Oduwa\",\"Galilel\",\"Crypto Sports\",\"Credit\",\"Dash Platinum\",\"Nasdacoin\",\"Beetle Coin\",\"Titan Coin\",\"Award\",\"Insane Coin\",\"ALAX\",\"LiteDoge\",\"TruckCoin\",\"OrangeCoin\",\"BitstarCoin\",\"NeosCoin\",\"HyperCoin\",\"PinkCoin\",\"AudioCoin\",\"IncaKoin\",\"Piggy Coin\",\"Genstake\",\"XiaoMiCoin\",\"CapriCoin\",\" ClubCoin\",\"Radium\",\"Creditbit \",\"OKCash\",\"Lisk\",\"HiCoin\",\"WhiteCoin\",\"FriendshipCoin\",\"Triangles Coin\",\"EOS\",\"Oxycoin\",\"TigerCash\",\"Particl\",\"Nxt\",\"ZEPHYR\",\"Gapcoin\",\"BitcoinPlus\"],\"legendgroup\":\"0\",\"marker\":{\"color\":[0,0,0,0,0,0,0,0,0,0,0,0,0,0,0,0,0,0,0,0,0,0,0,0,0,0,0,0,0,0,0,0,0,0,0,0,0,0,0,0,0,0,0,0,0,0,0,0,0,0,0,0,0,0,0,0,0,0,0,0,0,0,0,0,0,0,0,0,0,0,0,0,0,0,0,0,0,0,0,0,0,0,0,0,0,0,0,0,0,0,0,0,0,0,0,0,0,0,0,0,0,0,0,0,0,0,0,0,0,0,0,0,0,0,0,0,0,0,0,0,0,0,0,0,0,0,0,0,0,0,0,0,0,0,0,0,0,0,0,0,0,0,0,0,0,0,0,0,0,0,0,0,0,0,0,0,0,0,0,0,0,0,0,0,0,0,0,0,0,0,0,0,0,0,0,0,0,0,0,0,0,0,0,0,0,0,0,0,0,0,0,0,0,0,0,0,0,0,0,0,0,0,0,0,0,0,0,0,0,0,0,0,0,0,0,0,0,0,0,0,0,0,0,0,0,0,0,0,0,0,0,0,0,0,0,0,0,0,0,0,0,0,0,0,0,0,0,0,0,0,0,0,0,0,0,0,0,0,0,0,0,0,0,0,0,0,0,0,0,0,0,0,0,0,0,0,0,0,0,0,0,0,0,0,0,0,0,0],\"coloraxis\":\"coloraxis\",\"symbol\":\"circle\"},\"mode\":\"markers\",\"name\":\"0\",\"scene\":\"scene\",\"showlegend\":true,\"x\":[-0.3315728240949821,-0.3149633055295881,2.3005823585656184,-0.40108137158977175,-0.33960170656892835,-0.3038392708841389,-0.26564811683671447,-0.23455999470452277,-0.3312334639880328,-0.3238351926149617,-0.33007427455996824,-0.3315687721903654,-0.33155310302125957,0.6522135822689089,-0.378329859885007,-0.3689252484174045,-0.28291292251803285,-0.32963759862952796,-0.3427793836445179,-0.4009764094583196,-0.4287267400658843,-0.03414623586127143,-0.2672586388589852,-0.29313350165076935,-0.27576632514215105,-0.27638651471235887,-0.34944037896816327,-0.3258925151029467,-0.3299795073856854,0.025406317805292265,-0.3626014488991644,-0.40134683090693557,-0.2520101712456035,-0.30279802664306016,-0.40125873213637303,-0.3068812523915046,-0.3302542612536446,-0.28392686413468454,-0.4012233348186515,-0.2524766440864028,-0.2761680893363645,-0.3227022950209016,-0.02851325722545898,-0.3609154828163421,-0.30305342797784324,-0.377753311173836,-0.2931138659456779,-0.276461626543401,-0.2877839906542123,-0.33155495082913566,-0.2764139722184794,-0.3630447992541842,-0.33129014412181385,-0.40132841975447553,-0.45284513398882886,-0.3690101984357349,-0.3050003550919904,-0.29152033932013516,-0.27593706127637835,-0.2964176916685896,-0.2369943326060803,-0.08690094986550508,-0.3038102792363881,-0.07977642693986342,-0.3038737959017822,-0.22736203465089863,-0.3311663718606578,-0.29138950476548464,-0.39850584263848354,0.8565333199029481,-0.30367443343397404,-0.07627902980911566,-0.3686094997810146,-0.3991782281722076,-0.30242159580829414,-0.30009663747615944,-0.3483265666492478,-0.40006736760042166,-0.3425649092435447,-0.3075348325791736,-0.33120434002780313,-0.32964826951003756,-0.23696857274093022,-0.3505745931841891,-0.400803907419055,-0.3304110343175679,-0.3038547833353069,-0.4013176388864234,-0.3313929468092097,-0.33154920264458276,-0.29137967222614447,-0.22930504576188251,0.04030353659325649,-0.3675698281992946,-0.3311646118749855,-0.38752117851954776,-0.36690073184453975,-0.23839502909948346,-0.4163204518759199,-0.3666498316616418,-0.27323290998776223,3.7846806296892326,-0.40091143664027656,0.8520800447490092,-0.40127269289953116,-0.3680321331630352,-0.3310923053228219,-0.33124612183064767,-0.3686094997810146,-0.4008488373929988,-0.3037179045275768,-0.3310930526624532,-0.4491534924248557,-0.33123997744600664,-0.32684077188518007,-0.40130158978642655,-0.3304529518829179,0.34813135548146773,-0.33143864431954173,-0.3315090107072734,-0.36572439622706937,-0.3372719787450548,-0.32774677813233544,-0.3038312735873777,-0.40121182266948247,-0.3312875016139816,-0.3314140378284223,-0.2930205417611702,-0.29848379116097806,-0.23816360655818972,-0.31232727097065727,-0.2927625641982643,-0.40047972443107904,-0.40994949361745797,-0.39922216506753316,-0.3668615186481405,-0.40037794109598257,-0.3612788807178377,-0.39633110006494165,-0.3313575102540846,-0.33135668437942983,-0.3244983011635664,0.26547445511003825,-0.40085501694286996,-0.2757141247307806,-0.3686436576699525,-0.3305705510037343,0.8939238996171711,-0.2643423093802503,-0.34134705911157354,0.5605421746305272,-0.34985743151695853,-0.3483642459393038,-0.40759722424229083,-0.2761000384233367,0.13199013231676185,-0.27617060881495425,-0.3529266241682558,-0.4071037167868712,-0.401126593376505,-0.293094597111589,4.606472611591766,-0.3685102870249433,-0.3309938228855327,-0.33149199357678505,-0.39748612442252385,0.6188482865519401,-0.4010675694258693,-0.3444548612380099,-0.33144772399427386,-0.3231369601824259,0.43523480535115,-0.3021827140428572,-0.3346707441682024,-0.3764133735539446,-0.33139821075845827,-0.4022987638783963,-0.3594264430146345,-0.33126904627957326,-0.0926725556217996,-0.399863848816401,3.7895218163075413,0.20789396867485804,-0.2728517885566227,-0.3287370736841556,-0.31149375901773213,-0.36561065785607366,0.08165685614716528,-0.3304100355643621,-0.4004433387790885,-0.36477785525552653,-0.31801427905328045,-0.33151405373637227,-0.36301681734817404,-0.3428459319414316,-0.28634718332114517,-0.29812984536202175,-0.32707319707449856,-0.22998401986822717,-0.37437483857445253,-0.40114374354029925,-0.2578050908177134,-0.2922570396645951,-0.30254658438380116,-0.3494575931805774,-0.3315413221656849,-0.3315230875038474,-0.28665576157655254,-0.3611881603091385,-0.3681059947677917,-0.33124045579717787,3.984065028704138,-0.40097111641520117,-0.36829407136093656,-0.3262865186679139,-0.2782700517246152,-0.16161058581711898,-0.2927897779833141,-0.13526817479032296,-0.2930409721491964,-0.3383546185454233,-0.3307160586239852,-0.19821211789510115,2.227245568510917,-0.3613309397742996,-0.26446987257237486,1.0487952092472788,-0.3637530617749964,-0.3657238186521942,-0.4039779372728581,-0.17411702015955696,-0.3611933379477922,-0.3644473094924972,-0.3244385869782359,-0.3625955110721791,-0.400618726893669,-0.290294848149667,-0.36739646188271596,-0.34672950948291326,-0.3624572250758617,-0.19143380494741033,-0.4860481531439707,-0.21967029950680855,0.6692628131993744,-0.15365163716032884,-0.4032747329333882,-0.2940594960252844,-0.3312444397906753,-0.4037294591763207,-0.365840434852018,0.572514457881468,-0.3630709592748677,-0.3307288788342402,-0.25227759149617496,-0.2932089350842882,-0.39819033550491967,-0.4008452765601533,3.801725039598221,0.10236231354765002,-0.3983929986222992,-0.33011606557163564,-0.3309387561693385,-0.26568061870478815,-0.33145554463725907,-0.39249910481425077,-0.24541175903991114,-0.08421330613908669,-0.3882599898450413,-0.33073617125045973,-0.32382204109493556,-0.3974245804627657,-0.32918005938302375,-0.3688842631798682,-0.42697142528694393,-0.30235894607896263,3.7850712605906183,-0.10092392180426318,-0.32638359266778455,-0.34906730710157163,-0.27656851308102415,3.7949067775150183,3.796146868015631,-0.24663698696118871,-0.3688203391323278,-0.4109875274163184,2.506642215302603,-0.329623898986091,-0.2934362636251458],\"y\":[0.9982695616631284,0.9984038987340117,1.6489982631301205,1.2533685017865412,2.0830013628285267,0.836257777931487,0.6080972562704374,1.8278760811974533,0.9982680855879341,0.9985094752977391,0.998316025836828,0.9982693295646498,0.9982694576419228,0.6461131519633883,0.9446832010304947,1.5326086562767103,0.2569550859279424,0.9982437025155898,1.0258404822634077,1.2533717562505702,2.2121381192427387,0.7781401166212106,0.8356767447433927,0.7700983600939416,1.7939044179955332,1.7938851883493967,0.5559100813959845,0.9981451655443129,0.998248842803069,1.0093380847813305,1.0252258777636662,1.253376011755761,0.08994904160750138,1.6051508703656616,1.2533715888245334,0.9978903114338044,0.9982388927144122,0.23100195130631354,1.2533759062163683,0.09000613055522161,1.7938919608636235,0.9978290775991323,1.488175035222631,1.5909498718152735,0.836249229715024,0.9447042115416702,0.7701105461050921,1.7938742731331951,0.7699180424288222,0.9982701158730578,1.7938771817557257,1.0251978207198207,0.9982640160022641,1.2533765833289134,2.6895831332073037,1.9450121657849473,0.9417988438794251,0.770088402674837,1.793863347917168,0.8357881091222376,1.8280322186092661,0.9083803851181378,0.836258676848776,1.2443494763951866,0.8362649359768113,1.5426659341442133,0.9982521121576245,0.7700058432281808,1.2531893390015791,0.7349196797671885,0.8362500094549361,0.6506098526904176,1.5326041359153386,1.2533895880059212,0.8361581108382152,0.8360139135364769,1.538850901243129,1.253316225717313,1.3063345775256305,0.997583836711709,0.9982492653569583,0.9982576821416308,1.5656128022064775,1.02512868385189,1.2533570701787693,0.9982411870406737,0.8362580124756269,1.2533747710281191,0.9982601129697193,0.998270294101716,0.7701643166506813,0.09409083864415314,1.9051644323994157,1.5325977337352856,0.9982822187530841,1.2527314051119296,1.532642807691907,1.565709889371667,2.0147782311810394,1.5324638351786175,1.90438265888175,1.9785508789538553,1.2533680466075516,1.8282663146694276,1.2533755540507525,1.5326005720573912,0.9982568843849251,0.9982496394238413,1.5326041359153386,1.2533485218324,0.8362629720750143,0.998260825218084,0.7362847036170458,0.9982598472788456,0.9979507210797947,1.2533738375989447,0.9982012490232536,0.766727828684716,0.9982644202644306,0.9982691677680887,1.4666472772338115,0.5619414692489273,0.9980304301675728,0.836258741420703,1.2533735055318878,0.9982640979360675,0.9982587911973902,0.770074085879496,0.21865424963519925,1.56570846089098,0.9981507664032147,0.7700968056484498,1.2533313456012696,1.812191991739485,1.2533631823407827,1.5325937292341243,1.2533345015032884,1.532559530385506,1.2531737684077386,0.998261059940555,0.9982557993399288,0.9977733904927351,0.5709098974483495,1.2533626407169884,0.7692189950175609,1.5325959215690763,0.9982255081877283,1.798719177424007,0.6080035231642059,1.3063247559084683,1.9180993435373148,1.5388606770805366,1.5388282672238356,2.0049532982752067,1.7938726051232448,0.9768666103547007,1.7938783606299322,1.444663938116516,2.0049686000058227,1.2533760384888437,0.7700986892160396,1.1744897032177875,1.5325774463233839,0.9982529887659822,0.9982690627280086,2.0837174991197487,1.369183657257516,1.2533653521154653,0.5557811505103301,0.998262182972847,0.6313434098492706,1.004157148556395,0.8362533303580248,1.5384800826442393,1.8338225989022485,0.9982599497552987,1.6947323545659336,1.5241030306142997,0.9982683992793495,0.6070297743670392,1.2533189584145392,1.97843266350972,1.5346957834063635,1.793844526217961,0.9982072270653402,1.3106860307411337,1.4666472261925565,0.975305972872018,0.9981982865435128,1.2533682499981138,1.4666014956939097,0.9980459870284633,0.9982685218338637,1.0251979728045693,1.3063319460714449,-0.04074408580507527,0.19251757122644783,0.9982430758161289,1.565400051151249,0.9358328972451453,1.2533644213037576,1.6325811924228317,0.7700483879007236,1.3358941835320803,1.538844453522761,0.9982683918712294,0.9982675262077558,0.7699530243875112,1.6070559632166288,1.5325710919711513,0.9982584013982324,2.0075293724276024,1.6947735197066225,1.5325709846489273,0.6330868162315183,0.996257390483343,1.3210272172640378,0.7701019911670529,0.9970578499660699,0.7700813231817997,1.9076626638902716,0.9982360225797205,1.5998376456033665,0.32251881512662456,1.4663291430867607,0.6080709930039767,1.7147695917648405,0.8612497372346928,1.466643001995685,1.6948197092005317,0.7617221195419108,0.8594945154304391,1.466626055109787,0.9977752419954183,1.0251867080298596,1.253362811900568,0.7700119164440054,1.5325057978250891,0.9244633694409407,1.025158797137801,0.9897352836657207,3.2278086568887434,1.4044192809365863,1.7172889104109073,1.0317045919069732,1.694806560157184,-0.09293509762603629,0.9982647175899068,1.6948174784760404,1.466644845635953,0.9727805365570097,1.025197224257504,0.9982356250752823,1.632437747757217,1.9055563848618111,1.2531733627615969,1.2533700979721505,1.978453275397056,0.9866808340426508,1.253467599225254,0.9981716251795283,0.9982504000751721,0.6080901665575011,0.9982731980691882,1.253292583551055,0.9934280720879763,0.8429473096059222,1.2530662596752462,0.9982847701503249,0.9982236733109219,1.2533487969969501,0.9982292680367294,1.532603487348492,0.8228607380341354,0.8362442884717337,1.9785380059184727,0.7689080362785035,0.9982158020842364,0.5558812946419402,1.7938794594308682,1.978957392241333,1.9789958425840173,0.607980136490071,1.5326057311642507,1.8274210185998376,0.8716617148014739,0.9981511091145433,0.770099834293113],\"z\":[-0.5740748186519243,-0.5744210487486471,-0.6697099990060743,-0.48399476688486126,0.02133911762568479,-0.35452454542661027,-0.050409357195200274,-0.6879519875884894,-0.5740813789783183,-0.574257695533182,-0.5741102364782839,-0.5740748708766404,-0.5740751976686793,-0.30639834757297246,-0.38023679093550034,-0.09650385382842351,-0.280864997768094,-0.5741101064857076,-0.18035598152008597,-0.48399724763712976,-0.5603114917672464,-0.27608576413511593,-0.3551803486001144,-0.26996325936615695,-0.6361785803838184,-0.6361639223670321,-0.3168764444800888,-0.5741724937639872,-0.5741039415265431,-0.5825119264459645,-0.1798874922400368,-0.4839904087009157,0.0862408958276214,-0.2914738690958882,-0.48399162008644886,-0.5745190545961691,-0.574097273612849,-0.33160910127483145,-0.48399284859444397,0.0862432118626446,-0.6361690847931379,-0.5741973819943886,-0.12678455080622061,-0.0704055949573061,-0.35453911250964704,-0.3802507989631245,-0.269965132555323,-0.6361611020474393,-0.27004755811376546,-0.574075241085502,-0.6361624025233792,-0.17987527198593514,-0.574079757936643,-0.48399084393073355,-0.298507264824405,-0.7982903699131426,-0.16279317751683078,-0.2699940862090508,-0.6361701906166338,-0.35461477918201295,-0.6879226436270538,-0.4540955764996764,-0.3545252306365521,-0.48927842016882667,-0.35452473096358683,-0.5904635404141289,-0.5740807672973284,-0.26998663606333095,-0.4840241125144557,-0.28851490216680054,-0.3545268737092952,-0.2924771651628309,-0.09650957467861189,-0.4840351314456356,-0.3545405708082157,-0.3545691956742824,-0.5875967375955238,-0.48400854315638625,-0.13229591880581978,-0.5744687716911973,-0.5740796667214417,-0.5741115960677513,-0.33205948374139815,-0.18011452614697068,-0.48399888617761133,-0.5740944392156093,-0.35452426588319574,-0.4839908374658813,-0.5740772411329883,-0.5740753769423269,-0.2700061197661256,-0.40670807685403076,-0.732858088838313,-0.09652944422119657,-0.5740844666436494,-0.48418654052117016,-0.09654821918113818,-0.33204296994278476,-0.6858542639043604,-0.09653141883123481,-0.7265358310788538,-0.04898047108582252,-0.4839980865383387,-0.6627609057459557,-0.48399182543680747,-0.09652060790799423,-0.5740828191692886,-0.5740788824278386,-0.09650957467861189,-0.48399695337679305,-0.3545275880669602,-0.5740832839806937,-0.15772820198701207,-0.5740802468985888,-0.5741299939677552,-0.4839910426035744,-0.5740887456841997,-0.2822890935808193,-0.574076857798589,-0.5740760380984977,-0.18833321851879228,-0.3691895012547366,-0.574121701604789,-0.3545248215298825,-0.4839927850389876,-0.5740798203916185,-0.5740766613690226,-0.2699625483376988,-0.3329366265384417,-0.33204739232867075,-0.5744425929492184,-0.26997043730719467,-0.48400219369324066,-0.6872954735088932,-0.48403104488410836,-0.09654302445809176,-0.4840045993154994,-0.09664973800090773,-0.4840654096253059,-0.5740780601931507,-0.5740774363074589,-0.5741549338632814,-0.05643169202449837,-0.48399854911025075,-0.2702021922973136,-0.09650789647317941,-0.5740893627417218,-0.7068158531065382,-0.05042388303788721,-0.13231891093547785,-0.6347524594309542,-0.5875675231504147,-0.5875932343772177,-0.733092849106905,-0.636168080480273,-0.5806765430485763,-0.6361673794164794,-0.03532990724968461,-0.7331045130253474,-0.48399478606257007,-0.2699640721026963,4.130751391235546,-0.09650829663514736,-0.5740843009646657,-0.5740763632885905,0.022401588487037678,-0.16091695601450326,-0.48399465764898736,-0.3169597684924697,-0.5740764051588856,-0.0771290185372645,-0.5900208827108159,-0.3545569047468858,-0.5878228202606928,-0.5949477232022989,-0.5740771167209371,-0.492471334902251,-0.08615092959667947,-0.5740807104638377,-0.05371487407221179,-0.4840129178227541,-0.049062232775767566,-0.5981380229306319,-0.6362291759390728,-0.5741235521203936,-0.28345404211484526,-0.18833547124879654,-0.5794869293523099,-0.5740892374644143,-0.48400740812224075,-0.1883464453909946,-0.5743168909417706,-0.5740758593203967,-0.1798758462416233,-0.13229001716736677,0.11340975327956773,-0.33852986617035097,-0.5741609614408283,-0.3321723082402647,-0.41593428633263446,-0.4839930314724487,-0.46735142548457004,-0.26997458434828403,-0.18371552694008222,-0.587573489652978,-0.5740753019275419,-0.5740755587204126,-0.27007422351020804,0.039986546754465974,-0.09651555281603526,-0.5740800614143367,-0.04847893870045431,-0.4925027134995971,-0.0965118043895968,-0.02178779100192635,-0.5748885485955189,-0.14615399890501446,-0.26997052796763304,-0.577826116626438,-0.26996302345288886,-0.7256416798527824,-0.5740877525822875,-0.3838150498493462,-0.4241542001395056,-0.1883817550131172,-0.05042956154062545,-0.08028490758813268,-0.3259176626667347,-0.18833270963397586,-0.4924486173403338,-0.27130752464331626,-0.38124573747431184,-0.1883559995383405,-0.5741563451922895,-0.17988284266891888,-0.4840032628704482,-0.2700091160854812,-0.09652169754700995,-0.4366469643862209,-0.1798821920045922,-0.5758193604429565,0.2929999253296565,-0.16323494867939703,-0.1564685542224301,-0.1848259658859656,-0.49246098316531456,0.06602258825948112,-0.5740807510571715,-0.4924532808200694,-0.1883306179320388,-0.5889284051973893,-0.17987467982753375,-0.5740874495800025,-0.4674437471912613,-0.7262819487201994,-0.4840284342283981,-0.4839996502143688,-0.04930710809987835,-0.5812826364883769,-0.4840602218343571,-0.5740918309038764,-0.5740850795576004,-0.05040784876329512,-0.5740775905246078,-0.48415597782156006,-0.5751967753039493,-0.3597007161326597,-0.48421262354770356,-0.5740932863856029,-0.5742231706561309,-0.48406499557286037,-0.5741174367340508,-0.09650403870022489,-0.12310673036187215,-0.3545523041028589,-0.04898666252594751,-0.27363582892160293,-0.574171337988294,-0.3168803502616544,-0.6361596104329162,-0.049233049549684174,-0.04926235876133113,-0.05077267957315995,-0.09650558139069741,0.030707955902129835,-0.019801562666483887,-0.5740991086674935,-0.2699574256819948],\"type\":\"scatter3d\"},{\"customdata\":[[\"SHA-256\"],[\"Ethash\"],[\"Scrypt\"],[\"CryptoNight-V7\"],[\"Ethash\"],[\"Equihash\"],[\"Multiple\"],[\"Scrypt\"],[\"X11\"],[\"Scrypt\"],[\"Multiple\"],[\"Scrypt\"],[\"SHA-256\"],[\"Scrypt\"],[\"Scrypt\"],[\"Quark\"],[\"Groestl\"],[\"Scrypt\"],[\"Scrypt\"],[\"Scrypt\"],[\"X11\"],[\"Multiple\"],[\"SHA-256\"],[\"Scrypt\"],[\"Scrypt\"],[\"Scrypt\"],[\"Scrypt\"],[\"Scrypt\"],[\"NeoScrypt\"],[\"Scrypt\"],[\"Scrypt\"],[\"Scrypt\"],[\"Scrypt\"],[\"SHA-256\"],[\"Scrypt\"],[\"Scrypt\"],[\"Scrypt\"],[\"Scrypt\"],[\"HybridScryptHash256\"],[\"Scrypt\"],[\"Scrypt\"],[\"SHA-256\"],[\"Scrypt\"],[\"Scrypt\"],[\"Scrypt\"],[\"Scrypt\"],[\"SHA-256\"],[\"SHA-256\"],[\"SHA-256\"],[\"SHA-256\"],[\"SHA-256\"],[\"X11\"],[\"Scrypt\"],[\"Lyra2REv2\"],[\"Scrypt\"],[\"SHA-256\"],[\"CryptoNight\"],[\"CryptoNight\"],[\"Scrypt\"],[\"Scrypt\"],[\"Scrypt\"],[\"Scrypt\"],[\"Scrypt\"],[\"Scrypt\"],[\"Stanford Folding\"],[\"Multiple\"],[\"QuBit\"],[\"Scrypt\"],[\"Scrypt\"],[\"M7 POW\"],[\"Scrypt\"],[\"SHA-256\"],[\"Scrypt\"],[\"X11\"],[\"Lyra2RE\"],[\"SHA-256\"],[\"X11\"],[\"Scrypt\"],[\"Scrypt\"],[\"Ethash\"],[\"Blake2b\"],[\"X11\"],[\"SHA-256\"],[\"Scrypt\"],[\"1GB AES Pattern Search\"],[\"Scrypt\"],[\"SHA-256\"],[\"X11\"],[\"Dagger\"],[\"Scrypt\"],[\"X11GOST\"],[\"Scrypt\"],[\"X11\"],[\"Scrypt\"],[\"X11\"],[\"Equihash\"],[\"CryptoNight\"],[\"SHA-256\"],[\"Multiple\"],[\"Scrypt\"],[\"SHA-256\"],[\"Scrypt\"],[\"Lyra2Z\"],[\"Ethash\"],[\"Equihash\"],[\"Scrypt\"],[\"X11\"],[\"X11\"],[\"CryptoNight\"],[\"Scrypt\"],[\"CryptoNight\"],[\"Lyra2RE\"],[\"X11\"],[\"CryptoNight-V7\"],[\"Scrypt\"],[\"X11\"],[\"Equihash\"],[\"Scrypt\"],[\"Lyra2RE\"],[\"Dagger-Hashimoto\"],[\"Scrypt\"],[\"NIST5\"],[\"Scrypt\"],[\"SHA-256\"],[\"Scrypt\"],[\"CryptoNight-V7\"],[\"Argon2d\"],[\"Blake2b\"],[\"Cloverhash\"],[\"CryptoNight\"],[\"X11\"],[\"Scrypt\"],[\"Scrypt\"],[\"X11\"],[\"X11\"],[\"CryptoNight\"],[\"Time Travel\"],[\"Scrypt\"],[\"Keccak\"],[\"X11\"],[\"SHA-256\"],[\"Scrypt\"],[\"Scrypt\"],[\"Scrypt\"],[\"Scrypt\"],[\"Scrypt\"],[\"Scrypt\"],[\"CryptoNight\"],[\"Equihash\"],[\"X11\"],[\"NeoScrypt\"],[\"Equihash\"],[\"Dagger\"],[\"Scrypt\"],[\"X11\"],[\"NeoScrypt\"],[\"Ethash\"],[\"NeoScrypt\"],[\"Multiple\"],[\"CryptoNight\"],[\"CryptoNight\"],[\"Ethash\"],[\"X11\"],[\"CryptoNight-V7\"],[\"Scrypt\"],[\"BLAKE256\"],[\"X11\"],[\"NeoScrypt\"],[\"NeoScrypt\"],[\"Scrypt\"],[\"X11\"],[\"SHA-256\"],[\"C11\"],[\"CryptoNight\"],[\"SkunkHash\"],[\"CryptoNight\"],[\"Scrypt\"],[\"Dagger\"],[\"Lyra2REv2\"],[\"Scrypt\"],[\"Scrypt\"],[\"X11\"],[\"Ethash\"],[\"CryptoNight\"],[\"Scrypt\"],[\"IMesh\"],[\"Equihash\"],[\"Lyra2Z\"],[\"X11\"],[\"CryptoNight\"],[\"NIST5\"],[\"Lyra2RE\"],[\"Tribus\"],[\"Lyra2Z\"],[\"CryptoNight\"],[\"CryptoNight Heavy\"],[\"CryptoNight\"],[\"Jump Consistent Hash\"],[\"CryptoNight\"],[\"X16R\"],[\"HMQ1725\"],[\"X11\"],[\"Scrypt\"],[\"CryptoNight-V7\"],[\"Cryptonight-GPU\"],[\"XEVAN\"],[\"CryptoNight Heavy\"],[\"SHA-256\"],[\"X11\"],[\"X16R\"],[\"Equihash\"],[\"Lyra2Z\"],[\"SHA-256\"],[\"CryptoNight\"],[\"Blake\"],[\"Blake\"],[\"Exosis\"],[\"Scrypt\"],[\"Equihash\"],[\"Equihash\"],[\"QuBit\"],[\"SHA-256\"],[\"X13\"],[\"SHA-256\"],[\"Scrypt\"],[\"NeoScrypt\"],[\"Blake\"],[\"Scrypt\"],[\"SHA-256\"],[\"Scrypt\"],[\"Groestl\"],[\"Scrypt\"],[\"Scrypt\"],[\"Multiple\"],[\"Equihash+Scrypt\"],[\"Ethash\"],[\"CryptoNight\"],[\"Equihash\"]],\"hovertemplate\":\"<b>%{hovertext}</b><br><br>Class=%{marker.color}<br>PC1=%{x}<br>PC2=%{y}<br>PC3=%{z}<br>Algorithm=%{customdata[0]}<extra></extra>\",\"hovertext\":[\"Bitcoin\",\"Ethereum\",\"Litecoin\",\"Monero\",\"Ethereum Classic\",\"ZCash\",\"DigiByte\",\"ProsperCoin\",\"Spreadcoin\",\"Argentum\",\"MyriadCoin\",\"MoonCoin\",\"ZetaCoin\",\"SexCoin\",\"Quatloo\",\"QuarkCoin\",\"Riecoin\",\"Digitalcoin \",\"Catcoin\",\"CannaCoin\",\"CryptCoin\",\"Verge\",\"DevCoin\",\"EarthCoin\",\"E-Gulden\",\"Einsteinium\",\"Emerald\",\"Franko\",\"FeatherCoin\",\"GrandCoin\",\"GlobalCoin\",\"GoldCoin\",\"Infinite Coin\",\"IXcoin\",\"KrugerCoin\",\"LuckyCoin\",\"Litebar \",\"MegaCoin\",\"MediterraneanCoin\",\"MinCoin\",\"NobleCoin\",\"Namecoin\",\"NyanCoin\",\"RonPaulCoin\",\"StableCoin\",\"SmartCoin\",\"SysCoin\",\"TigerCoin\",\"TerraCoin\",\"UnbreakableCoin\",\"Unobtanium\",\"UroCoin\",\"ViaCoin\",\"Vertcoin\",\"WorldCoin\",\"JouleCoin\",\"ByteCoin\",\"DigitalNote \",\"MonaCoin\",\"Gulden\",\"PesetaCoin\",\"Wild Beast Coin\",\"Flo\",\"ArtByte\",\"Folding Coin\",\"Unitus\",\"CypherPunkCoin\",\"OmniCron\",\"GreenCoin\",\"Cryptonite\",\"MasterCoin\",\"SoonCoin\",\"1Credit\",\"MarsCoin \",\"Crypto\",\"Anarchists Prime\",\"BowsCoin\",\"Song Coin\",\"BitZeny\",\"Expanse\",\"Siacoin\",\"MindCoin\",\"I0coin\",\"Revolution VR\",\"HOdlcoin\",\"Gamecredits\",\"CarpeDiemCoin\",\"Adzcoin\",\"SoilCoin\",\"YoCoin\",\"SibCoin\",\"Francs\",\"BolivarCoin\",\"Omni\",\"PizzaCoin\",\"Komodo\",\"Karbo\",\"ZayedCoin\",\"Circuits of Value\",\"DopeCoin\",\"DollarCoin\",\"Shilling\",\"ZCoin\",\"Elementrem\",\"ZClassic\",\"KiloCoin\",\"ArtexCoin\",\"Kurrent\",\"Cannabis Industry Coin\",\"OsmiumCoin\",\"Bikercoins\",\"HexxCoin\",\"PacCoin\",\"Citadel\",\"BeaverCoin\",\"VaultCoin\",\"Zero\",\"Canada eCoin\",\"Zoin\",\"DubaiCoin\",\"EB3coin\",\"Coinonat\",\"BenjiRolls\",\"ILCoin\",\"EquiTrader\",\"Quantum Resistant Ledger\",\"Dynamic\",\"Nano\",\"ChanCoin\",\"Dinastycoin\",\"DigitalPrice\",\"Unify\",\"SocialCoin\",\"ArcticCoin\",\"DAS\",\"LeviarCoin\",\"Bitcore\",\"gCn Coin\",\"SmartCash\",\"Onix\",\"Bitcoin Cash\",\"Sojourn Coin\",\"NewYorkCoin\",\"FrazCoin\",\"Kronecoin\",\"AdCoin\",\"Linx\",\"Sumokoin\",\"BitcoinZ\",\"Elements\",\"VIVO Coin\",\"Bitcoin Gold\",\"Pirl\",\"eBoost\",\"Pura\",\"Innova\",\"Ellaism\",\"GoByte\",\"SHIELD\",\"UltraNote\",\"BitCoal\",\"DaxxCoin\",\"AC3\",\"Lethean\",\"PopularCoin\",\"Photon\",\"Sucre\",\"SparksPay\",\"GunCoin\",\"IrishCoin\",\"Pioneer Coin\",\"UnitedBitcoin\",\"Interzone\",\"TurtleCoin\",\"MUNcoin\",\"Niobio Cash\",\"ShareChain\",\"Travelflex\",\"KREDS\",\"BitFlip\",\"LottoCoin\",\"Crypto Improvement Fund\",\"Callisto Network\",\"BitTube\",\"Poseidon\",\"Aidos Kuneen\",\"Bitrolium\",\"Alpenschillling\",\"FuturoCoin\",\"Monero Classic\",\"Jumpcoin\",\"Infinex\",\"KEYCO\",\"GINcoin\",\"PlatinCoin\",\"Loki\",\"Newton Coin\",\"MassGrid\",\"PluraCoin\",\"Motion\",\"PlusOneCoin\",\"Axe\",\"HexCoin\",\"Webchain\",\"Ryo\",\"Urals Coin\",\"Qwertycoin\",\"Project Pai\",\"Azart\",\"Xchange\",\"CrypticCoin\",\"Actinium\",\"Bitcoin SV\",\"FREDEnergy\",\"Universal Molecule\",\"Lithium\",\"Exosis\",\"Block-Logic\",\"Beam\",\"Bithereum\",\"SLICE\",\"BLAST\",\"Bitcoin Rhodium\",\"GlobalToken\",\"SolarCoin\",\"UFO Coin\",\"BlakeCoin\",\"Crypto Escudo\",\"Crown Coin\",\"SmileyCoin\",\"Groestlcoin\",\"Bata\",\"Pakcoin\",\"JoinCoin\",\"Vollar\",\"Reality Clash\",\"Beldex\",\"Horizen\"],\"legendgroup\":\"1\",\"marker\":{\"color\":[1,1,1,1,1,1,1,1,1,1,1,1,1,1,1,1,1,1,1,1,1,1,1,1,1,1,1,1,1,1,1,1,1,1,1,1,1,1,1,1,1,1,1,1,1,1,1,1,1,1,1,1,1,1,1,1,1,1,1,1,1,1,1,1,1,1,1,1,1,1,1,1,1,1,1,1,1,1,1,1,1,1,1,1,1,1,1,1,1,1,1,1,1,1,1,1,1,1,1,1,1,1,1,1,1,1,1,1,1,1,1,1,1,1,1,1,1,1,1,1,1,1,1,1,1,1,1,1,1,1,1,1,1,1,1,1,1,1,1,1,1,1,1,1,1,1,1,1,1,1,1,1,1,1,1,1,1,1,1,1,1,1,1,1,1,1,1,1,1,1,1,1,1,1,1,1,1,1,1,1,1,1,1,1,1,1,1,1,1,1,1,1,1,1,1,1,1,1,1,1,1,1,1,1,1,1,1,1,1,1,1,1,1,1,1,1,1,1,1,1,1,1,1,1,1,1,1,1,1,1,1,1,1,1,1,1,1,1],\"coloraxis\":\"coloraxis\",\"symbol\":\"diamond\"},\"mode\":\"markers\",\"name\":\"1\",\"scene\":\"scene\",\"showlegend\":true,\"x\":[-0.13780357649388253,-0.15735481377281596,-0.16437128388423644,-0.15866339033691856,-0.1558013313871868,-0.16701521218356533,0.16134989374276307,-0.16551399025644734,-0.2352295558570894,-0.16513165751896267,-0.09128718719231681,2.5485464415385675,-0.1348975267976447,-0.1623954307214265,-0.16493622853212583,-0.23333971109041196,-0.21136379509819134,-0.1649849713017111,-0.16549631338284942,-0.1655825098533449,-0.23531861546796473,0.18501160099757083,0.23887831603199713,0.0823802831103916,-0.1653296022687266,-0.16094837615895288,-0.16526906418314558,-0.16563933399013386,-0.17875010613739598,-0.14492507693503667,-0.16443817381252024,-0.16471472243983992,1.5778628015100702,-0.13776507032558222,-0.1620123630544165,-0.1653559612042397,-0.1657096786727869,-0.1649712130789765,-0.15225604111030555,-0.16559130594711818,-0.030894270704631636,-0.13784243093997012,-0.15927481217348433,-0.1655707861962721,-0.16367068885254157,-0.16505910693345663,-0.12503372857046816,-0.13730786113933524,-0.137594153653241,-0.1375770988540247,-0.13816610133599977,-0.23549199463840131,-0.165288183618806,-0.1946697304874525,-0.1624000911466311,-0.13737494421562707,3.8499375115049146,0.45942442026635866,-0.1641592202307658,-0.14880379862371246,-0.16288201132685096,-0.16571187769121837,-0.1627475011937498,-0.1490134134018856,-0.11411854200685946,-0.12518923762852904,-0.1722796402040155,-0.1655853621887131,-0.03890765151490392,-0.09214307991493889,-0.16572074659384575,-0.1378701190290467,0.4845644419821543,-0.23488107189170931,-0.14001396393698376,-0.1376107374905766,-0.23516508322375007,-0.16385004945348228,-0.16304479325012025,-0.15841879332234454,0.3700861875482175,-0.23520037842641628,-0.13776618906346755,-0.16169110246524943,-0.1513120588467637,-0.16428851775305828,0.2794238632515534,-0.2343636338681898,-0.15531815720213382,-0.16453493825935317,-0.14250032982676808,-0.16551128658236272,-0.23516371793209168,-0.1657208049078743,-0.23531320625719332,-0.33316214272275124,0.3048036700020871,-0.1380254647054727,-0.10532288907061972,-0.16289614353803908,-0.1379842253138754,-0.16538521591686378,-0.16697973915025152,-0.1581617572260582,-0.16703675967130424,-0.09265797328380941,-0.22193853275357908,-0.23314784635940733,0.3047980790846761,-0.16570259637568338,0.3049283842093276,-0.14055280647574006,0.4778757163232633,-0.15743161549701642,-0.16567098398228888,-0.22806825268635017,-0.16704910447549748,-0.163810020233374,-0.14027206584829932,-0.1353991900569686,-0.13667842283290987,-0.18367441762766418,-0.1652346906789841,-0.1044528592276127,-0.16505723876424183,-0.1572900052305583,-0.153666761343625,-0.028927855605681837,-0.1601176147273098,0.3408086975974557,-0.23437196120619752,-0.16537560191094683,-0.16513960754271786,-0.23476546912125335,-0.23534116357643753,0.30519187641468365,-0.13016532827823904,3.233495652703795,-0.12090208796584241,-0.22624001710431266,-0.1378027434006036,-0.09150819088883107,1.5756765310222818,-0.16547313281568668,-0.16492638385678648,-0.16462828215204034,-0.1646152551320524,0.30537498075716557,0.04464528801919807,-0.18987051842108543,-0.1834245114517352,-0.16689564134247595,-0.15408093727326588,-0.16380823515084184,-0.23089911956018963,-0.18327037681396097,-0.15653159969390928,-0.18337029175133165,-0.11545087250461722,1.1402517504010892,0.3047808834322065,-0.08163878447447151,-0.23064103685607215,-0.1464349238985498,-0.08211794353091222,1.081229222377389,-0.23531524365064635,-0.1834220926119267,-0.17648119581793084,-0.16472643644653484,-0.23524088330315496,-0.1377822091309332,-0.20850071540973908,8.020162995192623,-0.12503020117896613,0.30864363674353956,0.026722870535345243,-0.153585888745595,-0.18027176958905947,-0.16529837374615391,0.14083467851971868,-0.2293994821693644,-0.10970606242315359,0.3126809333269812,-0.1655346681956284,-0.1738347973448064,-0.1658898590953836,-0.16476970443317276,-0.23441260250823842,0.3049628294203527,-0.18373375410040563,-0.1403985032290054,-0.15707570690733977,-0.16706387073439388,0.30887982225884264,0.5776794429837696,2.10807807820987,-0.1806031351543248,0.3185263992923446,-0.19869100764646003,-0.12793753167254476,-0.235297458329119,-0.16555916829805806,-0.1463133671968725,-0.12556796436049344,-0.0907302093371617,3.0925702284448717,-0.09775465171298431,-0.2352689063330049,-0.19812038179020838,-0.061961990590952816,-0.16646338177986789,-0.13780278084524342,0.38448603612438426,-0.12637500409361233,-0.12676596138497537,-0.15927394157878907,-0.16445479037829377,-0.16496139774065072,-0.1667289738599824,-0.1714929086323724,-0.13708114686136677,-0.11070182494384287,-0.13595247409453962,0.5283574449358076,-0.10881870438083503,-0.07737379225908936,-0.1491635152650416,-0.13759352612874023,0.5479368413784312,-0.21092615603161133,-0.16563580104176495,-0.16359765769921408,-0.12592175302775704,-0.1328583718577368,-0.1581948132920983,0.32647140065791397,-0.16701626573265815],\"y\":[-1.3119724524575256,-1.9607709651516663,-1.1499853399643023,-2.209238134911637,-1.960873057881812,-2.01296343316153,-1.8362163287218873,-1.149975692769305,-0.8948667144340424,-1.1499946056802732,-1.8304546499539267,-1.3405696708565278,-1.3119888141294827,-1.1500428535591933,-1.1500143050726286,-0.4534415791164877,-1.20357586779942,-1.1499787279024887,-1.1499751446787851,-1.1499721932714053,-0.8948680447744571,-1.832302165982095,-1.3153040109389809,-1.151934017132428,-1.1499699756209907,-1.1500336137917968,-1.149975969340899,-1.1499725926727389,-1.5924142629702729,-1.150338766161494,-1.1499773966168958,-1.1499875781583486,-1.1607319016311757,-1.3119712585322711,-1.1500420100920794,-1.1499700773837898,-1.1499677002449389,-1.1499738893904525,-2.0960994179611085,-1.1499702192571277,-1.156519503388435,-1.3119736571815084,-1.1500083460409916,-1.1499774537886407,-1.150082394312169,-1.1499831974587218,-1.3121968692210286,-1.3119756944666663,-1.3119809850892143,-1.3120076462143488,-1.3119688457995262,-0.8948605411431506,-1.1499701224399237,-1.2887438412312207,-1.1500540320195167,-1.3119763348375408,-2.3263146457458475,-2.306605446287858,-1.149993876577673,-1.1506446302612068,-1.1499981126573664,-1.1499686828680715,-1.1499893726868184,-1.1501645729947694,-2.1477436355388915,-1.8300747707519056,-1.5862654185273077,-1.1499652919943113,-1.1531903448498133,-2.166967569016177,-1.1499675207114388,-1.3119745156805553,-1.1956325299256825,-0.8948652111303854,-2.2815325124662724,-1.3119899138560247,-0.8948654309149596,-1.150059506330408,-1.1500629877443533,-1.9608160519242164,-2.123002256206509,-0.8948629476587151,-1.3119712932199452,-1.1499923941260164,-2.282629709373826,-1.1499827737111907,-1.3144949711700393,-0.8948856591516051,-2.1967900486716063,-1.1500507696587474,-2.2525199113033874,-1.1499748934145655,-0.8948682506802587,-1.1499675203514894,-0.8948728857269143,-1.3414059285005806,-2.3042515404652884,-1.3119712726737522,-1.8303174224922285,-1.1500226024793148,-1.3119706396182071,-1.1499781397017854,-2.1712419556488087,-1.9608147360060777,-2.012964101264614,-1.1548569315145907,-0.8947980636527577,-0.8949509978643722,-2.304259584586216,-1.1499684568306177,-2.3042584064330063,-2.2815093013964534,-0.9442942472822292,-2.209332314420767,-1.1499679386784145,-0.8953458844314364,-2.012961621930936,-1.149979385770368,-2.281508467499907,-2.2474085951296234,-1.1519286865451321,-0.6093930712727396,-1.1499774224854828,-1.3127121625310079,-1.1499980224418433,-2.2092706816890377,-2.1175732709970787,-2.135617597057888,-2.086138464987014,-2.3045590593495606,-0.894897365740251,-1.1499701688978192,-1.1500027229478356,-0.8948809459009388,-0.8948693878748342,-2.3042709867810385,-2.1916434776235896,-1.1876755908656778,-1.2252294096369085,-0.8953607504574987,-1.3119724266265707,-1.155179043476905,-1.0959731777873358,-1.1499737104159038,-1.150002551437303,-1.1500047568631733,-1.150004352946377,-2.3042902732845185,-2.0214116577911625,-0.8947339420343361,-1.592338100903069,-2.0129597257387157,-2.196842062884453,-1.1499793304219599,-0.8949685676440047,-1.5923462012318552,-1.9609457873465077,-1.5923398542799803,-1.8302450683544877,-2.3391599917682946,-2.3042540357984738,-1.9655785521445464,-0.8951036703935081,-2.209574131550177,-1.1509525044817237,-1.2731617121943135,-0.8948692281715642,-1.5923337327578755,-1.59246125896331,-1.1499820413641282,-0.8948692122269469,-1.3119711931920472,-1.2124056767526028,-2.780545762513548,-2.2065459985580587,-2.3043657391148633,-1.151155399769456,-2.1967864245295483,-1.2890243897340081,-1.1499826023107713,-1.1536326394471574,-0.8950293984316708,-1.9639444729176363,-2.3047156665904542,-1.1499763339110982,-2.1641672797357954,-2.012963601072069,-2.1713727762407107,-0.8948986258676288,-2.3042526159610053,-0.6093754115928237,-2.281516165796068,-2.2385706169068507,-2.1712367650231963,-2.3045473147431697,-2.1242897034351604,-2.379988409797337,-2.07288195215055,-2.3045344216172765,-1.28696812906528,-2.2124106054206263,-0.8948695353477905,-1.149977884405839,-2.2101073768488306,-2.1477759314194276,-0.5157248610361514,-2.1781982629829884,-1.31221826762304,-0.8948715121600133,-1.2870061929342773,-2.0151291042884614,-2.1712707372599964,-1.3119724277875817,-2.3075551847988787,-2.212308603832697,-2.212263561780186,-2.2388270618782102,-1.1500136880519127,-2.0130727662331482,-2.0129616317080807,-1.5863125775078666,-1.311980820297667,-0.3543581434419366,-1.3120202391205236,-1.1986393795629686,-1.5928676459156983,-2.2157227233813552,-1.1501692270648336,-1.3119809656321415,-1.1636155751657538,-1.2035773243410253,-1.1499680212534507,-1.150031474242681,-1.8300994866497962,-2.256342463535199,-1.9608145319638883,-2.3045744473326533,-2.0129634658279563],\"z\":[0.19971393674510954,0.3635050374074383,-0.01985648835376725,0.41083496375471734,0.3634866100089317,0.3161567402930783,0.33143553128367853,-0.0198349674145772,0.07024797412112212,-0.019840258909108045,0.3357518457919554,-0.050540616824492755,0.19965821152741342,-0.019888730302175334,-0.01984174260774828,0.06170223475056104,0.17398672331477957,-0.019845104770704017,-0.019835385202818686,-0.019834032493687568,0.07024990484296818,0.3304891812538112,0.1926382055318431,-0.02452000680179375,-0.019839325375995795,-0.019918594665756895,-0.019839798195650522,-0.019832855304478092,0.23728104871771988,-0.020199689960555847,-0.01985612667781119,-0.019849394947618768,-0.05315075832032591,0.19971302666198648,-0.019896441019088034,-0.019838789478786947,-0.019832053674752846,-0.01984596693513264,0.32250045552968193,-0.01983409806065476,-0.021712158710812324,0.19971485505968722,-0.019954908530963787,-0.019833625057531275,-0.01985858991286452,-0.019843088365758117,0.19948763116107204,0.19970448600697321,0.19971081596631315,0.199713722273062,0.19972069782161778,0.07025243500695715,-0.01984013011630484,0.1729840434022044,-0.019887277167973363,0.19970589627694096,0.32074729127191176,0.3856869304033714,-0.019859661096766606,-0.020085427276773586,-0.0198845119805931,-0.019831890401439903,-0.019888247244189722,-0.020139693793405883,0.4140857201270112,0.3363789332564323,0.1850668617459854,-0.01983481582526647,-0.02195821094252223,0.45934090112324283,-0.01983185570799079,0.19971550946036412,-0.027189015196435403,0.07024086995515341,0.3487446258962459,0.19971223209079791,0.07024653741672567,-0.019857813441955155,-0.019873382790215888,0.3635316566490872,0.4533454463102622,0.07024693616315222,0.19971305310306092,-0.019908860485570896,0.38745812422478065,-0.019858444509431708,0.19173446449650017,0.07023308199704466,0.4121311230483318,-0.01984527433230013,0.3727672902549024,-0.019835118404474838,0.07024685350551528,-0.019831854593634724,0.07025038662262005,0.14669365388435185,0.38847132917093674,0.19971820004083446,0.3360139044814659,-0.019881250550642802,0.19971730393917783,-0.019837227158632443,0.48163111307601986,0.36352639152432814,0.31615724956226327,-0.020687836275481545,0.06997564715008371,0.07021688803570654,0.38847241929281245,-0.01983210224829737,0.38846968792268416,0.3487525026650911,0.062101104898227705,0.4108219625972777,-0.01983279316410724,0.07016406609988454,0.3161571929713543,-0.019868360243614835,0.34874682541657165,0.4706316555414296,-0.020169960216385674,-0.03332910440796934,-0.019840304015266517,0.19914159565700695,-0.019841321062537238,0.4108116485340584,0.4272729747527241,0.462805672840646,0.3555979483997623,0.3877936675036628,0.07023467223987058,-0.019838388258831604,-0.019839113030376873,0.07024048912459664,0.07025051614190703,0.3884659859429194,0.4297098068827885,-0.08275363711830878,0.11658201488430948,0.07012956516192423,0.19971391705517033,-0.020671466441695208,-0.060989374654058966,-0.019836020158679187,-0.019843368712441644,-0.019849020839155986,-0.019849328729334818,0.3884646967680571,0.3129812461282216,0.06933094415273311,0.23736461646767937,0.3161539142678111,0.4121128816435922,-0.019868402433569222,0.07017436486285779,0.23736254114313987,0.36350996595680557,0.23736375302788915,0.33620624848836994,0.37612745174638873,0.3884720854486871,0.36258640178490587,0.07018568300114741,0.41063299129827274,-0.021372393468569673,0.08429496011096284,0.0702499819116497,0.2373640367633927,0.23724170626222207,-0.01984983620219256,0.070248503110143,0.1997133591006721,0.13830842031664073,0.29320925156700023,0.3850596612471141,0.3884089636740533,-0.023509371007307597,0.41209627758981937,0.17273223409964428,-0.019838408757670206,-0.02547421569392971,0.07015198472012917,0.3629449520302065,0.38837137051318493,-0.019834478696942805,0.41479565218684206,0.316134410244333,0.48160314256068854,0.07023563278631662,0.3884682990300029,-0.03333007536300416,0.34875027356205884,0.34600827653651944,0.48163215223071276,0.3884263731052938,0.45173081368761303,0.36187497012113945,0.45723479613220536,0.3882332144680663,0.22833865196117553,0.47317619024477026,0.07024966606739926,-0.019833803386936102,0.4106954804479017,0.38674382842827243,0.08687564625500833,0.408344328860671,0.19894844958070615,0.0702493396056054,0.22833195174042994,0.31433388474124124,0.4816243608944456,0.19971391794016444,0.38729086792495937,0.40942462938309726,0.4094269118887176,0.395866984031712,-0.019851379485945723,0.3161292571173935,0.3161508360904227,0.18505697648039438,0.19970060715023738,-0.08191687431697796,0.19968298855185476,-0.027692806687846044,0.23594733359769904,0.40886696877184975,-0.02013614617549116,0.19971080113493714,-0.032344554652678124,0.1739782087057224,-0.01983348187720952,-0.019866238055554503,0.336396489914506,0.36666350901121014,0.36352702321162106,0.38808029155465745,0.316156765193433],\"type\":\"scatter3d\"},{\"customdata\":[[\"Proof-of-BibleHash\"],[\"SHA-256 + Hive\"],[\"Proof-of-Authority\"],[\"ECC 256K1\"],[\"Leased POS\"]],\"hovertemplate\":\"<b>%{hovertext}</b><br><br>Class=%{marker.color}<br>PC1=%{x}<br>PC2=%{y}<br>PC3=%{z}<br>Algorithm=%{customdata[0]}<extra></extra>\",\"hovertext\":[\"BiblePay\",\"LitecoinCash\",\"Poa Network\",\"Acute Angle Cloud\",\"Waves\"],\"legendgroup\":\"3\",\"marker\":{\"color\":[3,3,3,3,3],\"coloraxis\":\"coloraxis\",\"symbol\":\"square\"},\"mode\":\"markers\",\"name\":\"3\",\"scene\":\"scene\",\"showlegend\":true,\"x\":[-0.2784015036629993,-0.4910715385800557,-0.25305802571521213,-0.277435513275335,-0.39087403609305327],\"y\":[4.517260298442123,3.0342150375332286,1.1895264345683525,3.2113722067991985,2.494786401715066],\"z\":[16.243145088569033,14.142914847317027,7.229409060404356,15.9294827661292,14.507999205371412],\"type\":\"scatter3d\"},{\"customdata\":[[\"TRC10\"]],\"hovertemplate\":\"<b>%{hovertext}</b><br><br>Class=%{marker.color}<br>PC1=%{x}<br>PC2=%{y}<br>PC3=%{z}<br>Algorithm=%{customdata[0]}<extra></extra>\",\"hovertext\":[\"BitTorrent\"],\"legendgroup\":\"2\",\"marker\":{\"color\":[2],\"coloraxis\":\"coloraxis\",\"symbol\":\"x\"},\"mode\":\"markers\",\"name\":\"2\",\"scene\":\"scene\",\"showlegend\":true,\"x\":[33.98331359445426],\"y\":[1.7546826576836583],\"z\":[-0.7474560964366005],\"type\":\"scatter3d\"}],                        {\"template\":{\"data\":{\"histogram2dcontour\":[{\"type\":\"histogram2dcontour\",\"colorbar\":{\"outlinewidth\":0,\"ticks\":\"\"},\"colorscale\":[[0.0,\"#0d0887\"],[0.1111111111111111,\"#46039f\"],[0.2222222222222222,\"#7201a8\"],[0.3333333333333333,\"#9c179e\"],[0.4444444444444444,\"#bd3786\"],[0.5555555555555556,\"#d8576b\"],[0.6666666666666666,\"#ed7953\"],[0.7777777777777778,\"#fb9f3a\"],[0.8888888888888888,\"#fdca26\"],[1.0,\"#f0f921\"]]}],\"choropleth\":[{\"type\":\"choropleth\",\"colorbar\":{\"outlinewidth\":0,\"ticks\":\"\"}}],\"histogram2d\":[{\"type\":\"histogram2d\",\"colorbar\":{\"outlinewidth\":0,\"ticks\":\"\"},\"colorscale\":[[0.0,\"#0d0887\"],[0.1111111111111111,\"#46039f\"],[0.2222222222222222,\"#7201a8\"],[0.3333333333333333,\"#9c179e\"],[0.4444444444444444,\"#bd3786\"],[0.5555555555555556,\"#d8576b\"],[0.6666666666666666,\"#ed7953\"],[0.7777777777777778,\"#fb9f3a\"],[0.8888888888888888,\"#fdca26\"],[1.0,\"#f0f921\"]]}],\"heatmap\":[{\"type\":\"heatmap\",\"colorbar\":{\"outlinewidth\":0,\"ticks\":\"\"},\"colorscale\":[[0.0,\"#0d0887\"],[0.1111111111111111,\"#46039f\"],[0.2222222222222222,\"#7201a8\"],[0.3333333333333333,\"#9c179e\"],[0.4444444444444444,\"#bd3786\"],[0.5555555555555556,\"#d8576b\"],[0.6666666666666666,\"#ed7953\"],[0.7777777777777778,\"#fb9f3a\"],[0.8888888888888888,\"#fdca26\"],[1.0,\"#f0f921\"]]}],\"heatmapgl\":[{\"type\":\"heatmapgl\",\"colorbar\":{\"outlinewidth\":0,\"ticks\":\"\"},\"colorscale\":[[0.0,\"#0d0887\"],[0.1111111111111111,\"#46039f\"],[0.2222222222222222,\"#7201a8\"],[0.3333333333333333,\"#9c179e\"],[0.4444444444444444,\"#bd3786\"],[0.5555555555555556,\"#d8576b\"],[0.6666666666666666,\"#ed7953\"],[0.7777777777777778,\"#fb9f3a\"],[0.8888888888888888,\"#fdca26\"],[1.0,\"#f0f921\"]]}],\"contourcarpet\":[{\"type\":\"contourcarpet\",\"colorbar\":{\"outlinewidth\":0,\"ticks\":\"\"}}],\"contour\":[{\"type\":\"contour\",\"colorbar\":{\"outlinewidth\":0,\"ticks\":\"\"},\"colorscale\":[[0.0,\"#0d0887\"],[0.1111111111111111,\"#46039f\"],[0.2222222222222222,\"#7201a8\"],[0.3333333333333333,\"#9c179e\"],[0.4444444444444444,\"#bd3786\"],[0.5555555555555556,\"#d8576b\"],[0.6666666666666666,\"#ed7953\"],[0.7777777777777778,\"#fb9f3a\"],[0.8888888888888888,\"#fdca26\"],[1.0,\"#f0f921\"]]}],\"surface\":[{\"type\":\"surface\",\"colorbar\":{\"outlinewidth\":0,\"ticks\":\"\"},\"colorscale\":[[0.0,\"#0d0887\"],[0.1111111111111111,\"#46039f\"],[0.2222222222222222,\"#7201a8\"],[0.3333333333333333,\"#9c179e\"],[0.4444444444444444,\"#bd3786\"],[0.5555555555555556,\"#d8576b\"],[0.6666666666666666,\"#ed7953\"],[0.7777777777777778,\"#fb9f3a\"],[0.8888888888888888,\"#fdca26\"],[1.0,\"#f0f921\"]]}],\"mesh3d\":[{\"type\":\"mesh3d\",\"colorbar\":{\"outlinewidth\":0,\"ticks\":\"\"}}],\"scatter\":[{\"fillpattern\":{\"fillmode\":\"overlay\",\"size\":10,\"solidity\":0.2},\"type\":\"scatter\"}],\"parcoords\":[{\"type\":\"parcoords\",\"line\":{\"colorbar\":{\"outlinewidth\":0,\"ticks\":\"\"}}}],\"scatterpolargl\":[{\"type\":\"scatterpolargl\",\"marker\":{\"colorbar\":{\"outlinewidth\":0,\"ticks\":\"\"}}}],\"bar\":[{\"error_x\":{\"color\":\"#2a3f5f\"},\"error_y\":{\"color\":\"#2a3f5f\"},\"marker\":{\"line\":{\"color\":\"#E5ECF6\",\"width\":0.5},\"pattern\":{\"fillmode\":\"overlay\",\"size\":10,\"solidity\":0.2}},\"type\":\"bar\"}],\"scattergeo\":[{\"type\":\"scattergeo\",\"marker\":{\"colorbar\":{\"outlinewidth\":0,\"ticks\":\"\"}}}],\"scatterpolar\":[{\"type\":\"scatterpolar\",\"marker\":{\"colorbar\":{\"outlinewidth\":0,\"ticks\":\"\"}}}],\"histogram\":[{\"marker\":{\"pattern\":{\"fillmode\":\"overlay\",\"size\":10,\"solidity\":0.2}},\"type\":\"histogram\"}],\"scattergl\":[{\"type\":\"scattergl\",\"marker\":{\"colorbar\":{\"outlinewidth\":0,\"ticks\":\"\"}}}],\"scatter3d\":[{\"type\":\"scatter3d\",\"line\":{\"colorbar\":{\"outlinewidth\":0,\"ticks\":\"\"}},\"marker\":{\"colorbar\":{\"outlinewidth\":0,\"ticks\":\"\"}}}],\"scattermapbox\":[{\"type\":\"scattermapbox\",\"marker\":{\"colorbar\":{\"outlinewidth\":0,\"ticks\":\"\"}}}],\"scatterternary\":[{\"type\":\"scatterternary\",\"marker\":{\"colorbar\":{\"outlinewidth\":0,\"ticks\":\"\"}}}],\"scattercarpet\":[{\"type\":\"scattercarpet\",\"marker\":{\"colorbar\":{\"outlinewidth\":0,\"ticks\":\"\"}}}],\"carpet\":[{\"aaxis\":{\"endlinecolor\":\"#2a3f5f\",\"gridcolor\":\"white\",\"linecolor\":\"white\",\"minorgridcolor\":\"white\",\"startlinecolor\":\"#2a3f5f\"},\"baxis\":{\"endlinecolor\":\"#2a3f5f\",\"gridcolor\":\"white\",\"linecolor\":\"white\",\"minorgridcolor\":\"white\",\"startlinecolor\":\"#2a3f5f\"},\"type\":\"carpet\"}],\"table\":[{\"cells\":{\"fill\":{\"color\":\"#EBF0F8\"},\"line\":{\"color\":\"white\"}},\"header\":{\"fill\":{\"color\":\"#C8D4E3\"},\"line\":{\"color\":\"white\"}},\"type\":\"table\"}],\"barpolar\":[{\"marker\":{\"line\":{\"color\":\"#E5ECF6\",\"width\":0.5},\"pattern\":{\"fillmode\":\"overlay\",\"size\":10,\"solidity\":0.2}},\"type\":\"barpolar\"}],\"pie\":[{\"automargin\":true,\"type\":\"pie\"}]},\"layout\":{\"autotypenumbers\":\"strict\",\"colorway\":[\"#636efa\",\"#EF553B\",\"#00cc96\",\"#ab63fa\",\"#FFA15A\",\"#19d3f3\",\"#FF6692\",\"#B6E880\",\"#FF97FF\",\"#FECB52\"],\"font\":{\"color\":\"#2a3f5f\"},\"hovermode\":\"closest\",\"hoverlabel\":{\"align\":\"left\"},\"paper_bgcolor\":\"white\",\"plot_bgcolor\":\"#E5ECF6\",\"polar\":{\"bgcolor\":\"#E5ECF6\",\"angularaxis\":{\"gridcolor\":\"white\",\"linecolor\":\"white\",\"ticks\":\"\"},\"radialaxis\":{\"gridcolor\":\"white\",\"linecolor\":\"white\",\"ticks\":\"\"}},\"ternary\":{\"bgcolor\":\"#E5ECF6\",\"aaxis\":{\"gridcolor\":\"white\",\"linecolor\":\"white\",\"ticks\":\"\"},\"baxis\":{\"gridcolor\":\"white\",\"linecolor\":\"white\",\"ticks\":\"\"},\"caxis\":{\"gridcolor\":\"white\",\"linecolor\":\"white\",\"ticks\":\"\"}},\"coloraxis\":{\"colorbar\":{\"outlinewidth\":0,\"ticks\":\"\"}},\"colorscale\":{\"sequential\":[[0.0,\"#0d0887\"],[0.1111111111111111,\"#46039f\"],[0.2222222222222222,\"#7201a8\"],[0.3333333333333333,\"#9c179e\"],[0.4444444444444444,\"#bd3786\"],[0.5555555555555556,\"#d8576b\"],[0.6666666666666666,\"#ed7953\"],[0.7777777777777778,\"#fb9f3a\"],[0.8888888888888888,\"#fdca26\"],[1.0,\"#f0f921\"]],\"sequentialminus\":[[0.0,\"#0d0887\"],[0.1111111111111111,\"#46039f\"],[0.2222222222222222,\"#7201a8\"],[0.3333333333333333,\"#9c179e\"],[0.4444444444444444,\"#bd3786\"],[0.5555555555555556,\"#d8576b\"],[0.6666666666666666,\"#ed7953\"],[0.7777777777777778,\"#fb9f3a\"],[0.8888888888888888,\"#fdca26\"],[1.0,\"#f0f921\"]],\"diverging\":[[0,\"#8e0152\"],[0.1,\"#c51b7d\"],[0.2,\"#de77ae\"],[0.3,\"#f1b6da\"],[0.4,\"#fde0ef\"],[0.5,\"#f7f7f7\"],[0.6,\"#e6f5d0\"],[0.7,\"#b8e186\"],[0.8,\"#7fbc41\"],[0.9,\"#4d9221\"],[1,\"#276419\"]]},\"xaxis\":{\"gridcolor\":\"white\",\"linecolor\":\"white\",\"ticks\":\"\",\"title\":{\"standoff\":15},\"zerolinecolor\":\"white\",\"automargin\":true,\"zerolinewidth\":2},\"yaxis\":{\"gridcolor\":\"white\",\"linecolor\":\"white\",\"ticks\":\"\",\"title\":{\"standoff\":15},\"zerolinecolor\":\"white\",\"automargin\":true,\"zerolinewidth\":2},\"scene\":{\"xaxis\":{\"backgroundcolor\":\"#E5ECF6\",\"gridcolor\":\"white\",\"linecolor\":\"white\",\"showbackground\":true,\"ticks\":\"\",\"zerolinecolor\":\"white\",\"gridwidth\":2},\"yaxis\":{\"backgroundcolor\":\"#E5ECF6\",\"gridcolor\":\"white\",\"linecolor\":\"white\",\"showbackground\":true,\"ticks\":\"\",\"zerolinecolor\":\"white\",\"gridwidth\":2},\"zaxis\":{\"backgroundcolor\":\"#E5ECF6\",\"gridcolor\":\"white\",\"linecolor\":\"white\",\"showbackground\":true,\"ticks\":\"\",\"zerolinecolor\":\"white\",\"gridwidth\":2}},\"shapedefaults\":{\"line\":{\"color\":\"#2a3f5f\"}},\"annotationdefaults\":{\"arrowcolor\":\"#2a3f5f\",\"arrowhead\":0,\"arrowwidth\":1},\"geo\":{\"bgcolor\":\"white\",\"landcolor\":\"#E5ECF6\",\"subunitcolor\":\"white\",\"showland\":true,\"showlakes\":true,\"lakecolor\":\"white\"},\"title\":{\"x\":0.05},\"mapbox\":{\"style\":\"light\"}}},\"scene\":{\"domain\":{\"x\":[0.0,1.0],\"y\":[0.0,1.0]},\"xaxis\":{\"title\":{\"text\":\"PC1\"}},\"yaxis\":{\"title\":{\"text\":\"PC2\"}},\"zaxis\":{\"title\":{\"text\":\"PC3\"}}},\"coloraxis\":{\"colorbar\":{\"title\":{\"text\":\"Class\"}},\"colorscale\":[[0.0,\"#0d0887\"],[0.1111111111111111,\"#46039f\"],[0.2222222222222222,\"#7201a8\"],[0.3333333333333333,\"#9c179e\"],[0.4444444444444444,\"#bd3786\"],[0.5555555555555556,\"#d8576b\"],[0.6666666666666666,\"#ed7953\"],[0.7777777777777778,\"#fb9f3a\"],[0.8888888888888888,\"#fdca26\"],[1.0,\"#f0f921\"]]},\"legend\":{\"title\":{\"text\":\"Class\"},\"tracegroupgap\":0,\"x\":0,\"y\":1},\"margin\":{\"t\":60},\"width\":900},                        {\"responsive\": true}                    ).then(function(){\n",
       "                            \n",
       "var gd = document.getElementById('d5748652-f54b-4a0a-93ac-e7b6f310eee6');\n",
       "var x = new MutationObserver(function (mutations, observer) {{\n",
       "        var display = window.getComputedStyle(gd).display;\n",
       "        if (!display || display === 'none') {{\n",
       "            console.log([gd, 'removed!']);\n",
       "            Plotly.purge(gd);\n",
       "            observer.disconnect();\n",
       "        }}\n",
       "}});\n",
       "\n",
       "// Listen for the removal of the full notebook cells\n",
       "var notebookContainer = gd.closest('#notebook-container');\n",
       "if (notebookContainer) {{\n",
       "    x.observe(notebookContainer, {childList: true});\n",
       "}}\n",
       "\n",
       "// Listen for the clearing of the current output cell\n",
       "var outputEl = gd.closest('.output');\n",
       "if (outputEl) {{\n",
       "    x.observe(outputEl, {childList: true});\n",
       "}}\n",
       "\n",
       "                        })                };                });            </script>        </div>"
      ]
     },
     "metadata": {},
     "output_type": "display_data"
    }
   ],
   "source": [
    "# Creating a 3D-Scatter with the PCA data and the clusters\n",
    "fig = px.scatter_3d(clustered_df, x='PC1', y='PC2', z='PC3', hover_name='CoinName',hover_data=['Algorithm'], color='Class', symbol='Class', width=900)\n",
    "fig.update_layout(legend=dict(x=0,y=1))\n",
    "fig.show()"
   ]
  },
  {
   "cell_type": "code",
   "execution_count": 125,
   "metadata": {},
   "outputs": [
    {
     "data": {},
     "metadata": {},
     "output_type": "display_data"
    },
    {
     "data": {
      "application/vnd.holoviews_exec.v0+json": "",
      "text/html": [
       "<div id='1504'>\n",
       "  <div class=\"bk-root\" id=\"1b4bf347-4844-42a4-8a40-40ca6e838be6\" data-root-id=\"1504\"></div>\n",
       "</div>\n",
       "<script type=\"application/javascript\">(function(root) {\n",
       "  function embed_document(root) {\n",
       "    var docs_json = {\"81aeed7d-e0b9-4f07-83b1-6ed1e6dbf75f\":{\"defs\":[{\"extends\":null,\"module\":null,\"name\":\"ReactiveHTML1\",\"overrides\":[],\"properties\":[]},{\"extends\":null,\"module\":null,\"name\":\"FlexBox1\",\"overrides\":[],\"properties\":[{\"default\":\"flex-start\",\"kind\":null,\"name\":\"align_content\"},{\"default\":\"flex-start\",\"kind\":null,\"name\":\"align_items\"},{\"default\":\"row\",\"kind\":null,\"name\":\"flex_direction\"},{\"default\":\"wrap\",\"kind\":null,\"name\":\"flex_wrap\"},{\"default\":\"flex-start\",\"kind\":null,\"name\":\"justify_content\"}]},{\"extends\":null,\"module\":null,\"name\":\"GridStack1\",\"overrides\":[],\"properties\":[{\"default\":\"warn\",\"kind\":null,\"name\":\"mode\"},{\"default\":null,\"kind\":null,\"name\":\"ncols\"},{\"default\":null,\"kind\":null,\"name\":\"nrows\"},{\"default\":true,\"kind\":null,\"name\":\"allow_resize\"},{\"default\":true,\"kind\":null,\"name\":\"allow_drag\"},{\"default\":[],\"kind\":null,\"name\":\"state\"}]},{\"extends\":null,\"module\":null,\"name\":\"click1\",\"overrides\":[],\"properties\":[{\"default\":\"\",\"kind\":null,\"name\":\"terminal_output\"},{\"default\":\"\",\"kind\":null,\"name\":\"debug_name\"},{\"default\":0,\"kind\":null,\"name\":\"clears\"}]},{\"extends\":null,\"module\":null,\"name\":\"NotificationAreaBase1\",\"overrides\":[],\"properties\":[{\"default\":\"bottom-right\",\"kind\":null,\"name\":\"position\"},{\"default\":0,\"kind\":null,\"name\":\"_clear\"}]},{\"extends\":null,\"module\":null,\"name\":\"NotificationArea1\",\"overrides\":[],\"properties\":[{\"default\":[],\"kind\":null,\"name\":\"notifications\"},{\"default\":\"bottom-right\",\"kind\":null,\"name\":\"position\"},{\"default\":0,\"kind\":null,\"name\":\"_clear\"},{\"default\":[{\"background\":\"#ffc107\",\"icon\":{\"className\":\"fas fa-exclamation-triangle\",\"color\":\"white\",\"tagName\":\"i\"},\"type\":\"warning\"},{\"background\":\"#007bff\",\"icon\":{\"className\":\"fas fa-info-circle\",\"color\":\"white\",\"tagName\":\"i\"},\"type\":\"info\"}],\"kind\":null,\"name\":\"types\"}]},{\"extends\":null,\"module\":null,\"name\":\"Notification\",\"overrides\":[],\"properties\":[{\"default\":null,\"kind\":null,\"name\":\"background\"},{\"default\":3000,\"kind\":null,\"name\":\"duration\"},{\"default\":null,\"kind\":null,\"name\":\"icon\"},{\"default\":\"\",\"kind\":null,\"name\":\"message\"},{\"default\":null,\"kind\":null,\"name\":\"notification_type\"},{\"default\":false,\"kind\":null,\"name\":\"_destroyed\"}]},{\"extends\":null,\"module\":null,\"name\":\"TemplateActions1\",\"overrides\":[],\"properties\":[{\"default\":0,\"kind\":null,\"name\":\"open_modal\"},{\"default\":0,\"kind\":null,\"name\":\"close_modal\"}]},{\"extends\":null,\"module\":null,\"name\":\"MaterialTemplateActions1\",\"overrides\":[],\"properties\":[{\"default\":0,\"kind\":null,\"name\":\"open_modal\"},{\"default\":0,\"kind\":null,\"name\":\"close_modal\"}]}],\"roots\":{\"references\":[{\"attributes\":{\"children\":[{\"id\":\"1505\"},{\"id\":\"1553\"},{\"id\":\"1558\"}],\"margin\":[0,0,0,0],\"name\":\"Row01334\",\"tags\":[\"embedded\"]},\"id\":\"1504\",\"type\":\"Row\"},{\"attributes\":{},\"id\":\"1549\",\"type\":\"IntEditor\"},{\"attributes\":{},\"id\":\"1544\",\"type\":\"StringEditor\"},{\"attributes\":{},\"id\":\"1524\",\"type\":\"StringEditor\"},{\"attributes\":{},\"id\":\"1539\",\"type\":\"NumberEditor\"},{\"attributes\":{},\"id\":\"1556\",\"type\":\"UnionRenderers\"},{\"attributes\":{},\"id\":\"1519\",\"type\":\"NumberEditor\"},{\"attributes\":{},\"id\":\"1543\",\"type\":\"StringFormatter\"},{\"attributes\":{},\"id\":\"1523\",\"type\":\"StringFormatter\"},{\"attributes\":{\"editor\":{\"id\":\"1544\"},\"field\":\"CoinName\",\"formatter\":{\"id\":\"1543\"},\"title\":\"CoinName\"},\"id\":\"1545\",\"type\":\"TableColumn\"},{\"attributes\":{},\"id\":\"1508\",\"type\":\"StringFormatter\"},{\"attributes\":{\"editor\":{\"id\":\"1539\"},\"field\":\"PC3\",\"formatter\":{\"id\":\"1538\"},\"title\":\"PC3\"},\"id\":\"1540\",\"type\":\"TableColumn\"},{\"attributes\":{},\"id\":\"1548\",\"type\":\"NumberFormatter\"},{\"attributes\":{\"margin\":[5,5,5,5],\"name\":\"HSpacer01339\",\"sizing_mode\":\"stretch_width\"},\"id\":\"1558\",\"type\":\"Spacer\"},{\"attributes\":{},\"id\":\"1509\",\"type\":\"StringEditor\"},{\"attributes\":{},\"id\":\"1534\",\"type\":\"NumberEditor\"},{\"attributes\":{\"editor\":{\"id\":\"1534\"},\"field\":\"PC2\",\"formatter\":{\"id\":\"1533\"},\"title\":\"PC2\"},\"id\":\"1535\",\"type\":\"TableColumn\"},{\"attributes\":{\"editor\":{\"id\":\"1509\"},\"field\":\"Algorithm\",\"formatter\":{\"id\":\"1508\"},\"title\":\"Algorithm\"},\"id\":\"1510\",\"type\":\"TableColumn\"},{\"attributes\":{\"margin\":[5,5,5,5],\"name\":\"HSpacer01338\",\"sizing_mode\":\"stretch_width\"},\"id\":\"1505\",\"type\":\"Spacer\"},{\"attributes\":{\"source\":{\"id\":\"1506\"}},\"id\":\"1555\",\"type\":\"CDSView\"},{\"attributes\":{},\"id\":\"1513\",\"type\":\"StringFormatter\"},{\"attributes\":{\"format\":\"0,0.0[00000]\"},\"id\":\"1538\",\"type\":\"NumberFormatter\"},{\"attributes\":{\"editor\":{\"id\":\"1549\"},\"field\":\"Class\",\"formatter\":{\"id\":\"1548\"},\"title\":\"Class\"},\"id\":\"1550\",\"type\":\"TableColumn\"},{\"attributes\":{\"columns\":[{\"id\":\"1510\"},{\"id\":\"1515\"},{\"id\":\"1520\"},{\"id\":\"1525\"},{\"id\":\"1530\"},{\"id\":\"1535\"},{\"id\":\"1540\"},{\"id\":\"1545\"},{\"id\":\"1550\"}],\"height\":300,\"reorderable\":false,\"source\":{\"id\":\"1506\"},\"view\":{\"id\":\"1555\"},\"width\":700},\"id\":\"1553\",\"type\":\"DataTable\"},{\"attributes\":{},\"id\":\"1529\",\"type\":\"NumberEditor\"},{\"attributes\":{\"format\":\"0,0.0[00000]\"},\"id\":\"1533\",\"type\":\"NumberFormatter\"},{\"attributes\":{},\"id\":\"1514\",\"type\":\"StringEditor\"},{\"attributes\":{\"editor\":{\"id\":\"1524\"},\"field\":\"TotalCoinSupply\",\"formatter\":{\"id\":\"1523\"},\"title\":\"TotalCoinSupply\"},\"id\":\"1525\",\"type\":\"TableColumn\"},{\"attributes\":{},\"id\":\"1507\",\"type\":\"Selection\"},{\"attributes\":{\"editor\":{\"id\":\"1519\"},\"field\":\"TotalCoinsMined\",\"formatter\":{\"id\":\"1518\"},\"title\":\"TotalCoinsMined\"},\"id\":\"1520\",\"type\":\"TableColumn\"},{\"attributes\":{\"format\":\"0,0.0[00000]\"},\"id\":\"1528\",\"type\":\"NumberFormatter\"},{\"attributes\":{\"editor\":{\"id\":\"1514\"},\"field\":\"ProofType\",\"formatter\":{\"id\":\"1513\"},\"title\":\"ProofType\"},\"id\":\"1515\",\"type\":\"TableColumn\"},{\"attributes\":{\"format\":\"0,0.0[00000]\"},\"id\":\"1518\",\"type\":\"NumberFormatter\"},{\"attributes\":{\"data\":{\"Algorithm\":[\"Scrypt\",\"Scrypt\",\"X13\",\"SHA-256\",\"Ethash\",\"Scrypt\",\"X11\",\"CryptoNight-V7\",\"Ethash\",\"Equihash\",\"SHA-512\",\"Multiple\",\"SHA-256\",\"SHA-256\",\"Scrypt\",\"X15\",\"X11\",\"Scrypt\",\"Scrypt\",\"Scrypt\",\"Multiple\",\"Scrypt\",\"SHA-256\",\"Scrypt\",\"Scrypt\",\"Scrypt\",\"Quark\",\"Groestl\",\"Scrypt\",\"Scrypt\",\"Scrypt\",\"Scrypt\",\"Scrypt\",\"X11\",\"Scrypt\",\"Groestl\",\"Multiple\",\"SHA-256\",\"Scrypt\",\"Scrypt\",\"Scrypt\",\"Scrypt\",\"PoS\",\"Scrypt\",\"Scrypt\",\"NeoScrypt\",\"Scrypt\",\"Scrypt\",\"Scrypt\",\"Scrypt\",\"X11\",\"Scrypt\",\"X11\",\"SHA-256\",\"Scrypt\",\"Scrypt\",\"Scrypt\",\"SHA3\",\"Scrypt\",\"HybridScryptHash256\",\"Scrypt\",\"Scrypt\",\"SHA-256\",\"Scrypt\",\"X13\",\"Scrypt\",\"SHA-256\",\"Scrypt\",\"X13\",\"NeoScrypt\",\"Scrypt\",\"Scrypt\",\"Scrypt\",\"Scrypt\",\"Scrypt\",\"Scrypt\",\"X11\",\"X11\",\"SHA-256\",\"Multiple\",\"SHA-256\",\"PHI1612\",\"X11\",\"SHA-256\",\"SHA-256\",\"SHA-256\",\"X11\",\"Scrypt\",\"Scrypt\",\"Scrypt\",\"Scrypt\",\"Lyra2REv2\",\"Scrypt\",\"X11\",\"Multiple\",\"SHA-256\",\"X13\",\"Scrypt\",\"CryptoNight\",\"CryptoNight\",\"Shabal256\",\"Counterparty\",\"Scrypt\",\"SHA-256\",\"Groestl\",\"Scrypt\",\"Scrypt\",\"Scrypt\",\"X13\",\"Scrypt\",\"Scrypt\",\"Scrypt\",\"Scrypt\",\"X13\",\"Scrypt\",\"Stanford Folding\",\"X11\",\"Multiple\",\"QuBit\",\"Scrypt\",\"Scrypt\",\"Scrypt\",\"M7 POW\",\"Scrypt\",\"SHA-256\",\"Scrypt\",\"X11\",\"SHA3\",\"X11\",\"Lyra2RE\",\"SHA-256\",\"QUAIT\",\"X11\",\"X11\",\"Scrypt\",\"Scrypt\",\"Scrypt\",\"Ethash\",\"X13\",\"Blake2b\",\"SHA-256\",\"X15\",\"X11\",\"SHA-256\",\"BLAKE256\",\"Scrypt\",\"1GB AES Pattern Search\",\"SHA-256\",\"X11\",\"Scrypt\",\"SHA-256\",\"SHA-256\",\"NIST5\",\"Scrypt\",\"Scrypt\",\"X11\",\"Dagger\",\"Scrypt\",\"X11GOST\",\"X11\",\"Scrypt\",\"SHA-256\",\"Scrypt\",\"PoS\",\"Scrypt\",\"X11\",\"X11\",\"SHA-256\",\"SHA-256\",\"NIST5\",\"X11\",\"Scrypt\",\"POS 3.0\",\"Scrypt\",\"Scrypt\",\"Scrypt\",\"X13\",\"X11\",\"X11\",\"Equihash\",\"X11\",\"Scrypt\",\"CryptoNight\",\"SHA-256\",\"SHA-256\",\"X11\",\"Scrypt\",\"Multiple\",\"Scrypt\",\"Scrypt\",\"Scrypt\",\"SHA-256\",\"Scrypt\",\"Scrypt\",\"SHA-256D\",\"PoS\",\"Scrypt\",\"X11\",\"Lyra2Z\",\"PoS\",\"X13\",\"X14\",\"PoS\",\"SHA-256D\",\"Ethash\",\"Equihash\",\"DPoS\",\"X11\",\"Scrypt\",\"X11\",\"X13\",\"X11\",\"PoS\",\"Scrypt\",\"Scrypt\",\"X11\",\"PoS\",\"X11\",\"SHA-256\",\"Scrypt\",\"X11\",\"Scrypt\",\"Scrypt\",\"X11\",\"CryptoNight\",\"Scrypt\",\"Scrypt\",\"Scrypt\",\"Scrypt\",\"Quark\",\"QuBit\",\"Scrypt\",\"CryptoNight\",\"Lyra2RE\",\"Scrypt\",\"SHA-256\",\"X11\",\"Scrypt\",\"X11\",\"Scrypt\",\"CryptoNight-V7\",\"Scrypt\",\"Scrypt\",\"Scrypt\",\"X13\",\"X11\",\"Equihash\",\"Scrypt\",\"Scrypt\",\"Lyra2RE\",\"Scrypt\",\"Dagger-Hashimoto\",\"X11\",\"Blake2S\",\"X11\",\"Scrypt\",\"PoS\",\"X11\",\"NIST5\",\"PoS\",\"X11\",\"Scrypt\",\"Scrypt\",\"Scrypt\",\"SHA-256\",\"X11\",\"Scrypt\",\"Scrypt\",\"SHA-256\",\"PoS\",\"Scrypt\",\"X15\",\"SHA-256\",\"Scrypt\",\"POS 3.0\",\"CryptoNight-V7\",\"536\",\"Argon2d\",\"Blake2b\",\"Cloverhash\",\"CryptoNight\",\"NIST5\",\"X11\",\"NIST5\",\"Skein\",\"Scrypt\",\"X13\",\"Scrypt\",\"X11\",\"X11\",\"Scrypt\",\"CryptoNight\",\"X13\",\"Time Travel\",\"Scrypt\",\"Keccak\",\"SkunkHash v2 Raptor\",\"X11\",\"Skein\",\"SHA-256\",\"X11\",\"Scrypt\",\"VeChainThor Authority\",\"Scrypt\",\"PoS\",\"Scrypt\",\"Scrypt\",\"Scrypt\",\"Scrypt\",\"Scrypt\",\"Scrypt\",\"Scrypt\",\"CryptoNight\",\"SHA-512\",\"Ouroboros\",\"X11\",\"Equihash\",\"NeoScrypt\",\"X11\",\"Scrypt\",\"NeoScrypt\",\"Lyra2REv2\",\"Equihash\",\"Scrypt\",\"SHA-256\",\"NIST5\",\"PHI1612\",\"Dagger\",\"Scrypt\",\"Quark\",\"Scrypt\",\"POS 2.0\",\"Scrypt\",\"SHA-256\",\"X11\",\"NeoScrypt\",\"Ethash\",\"NeoScrypt\",\"X11\",\"DPoS\",\"NIST5\",\"X13\",\"Multiple\",\"Scrypt\",\"CryptoNight\",\"CryptoNight\",\"Ethash\",\"NIST5\",\"Quark\",\"X11\",\"CryptoNight-V7\",\"Scrypt\",\"Scrypt\",\"Scrypt\",\"X11\",\"BLAKE256\",\"X11\",\"NeoScrypt\",\"Quark\",\"NeoScrypt\",\"Scrypt\",\"Scrypt\",\"Scrypt\",\"X11\",\"X11\",\"SHA-256\",\"C11\",\"POS 3.0\",\"Ethash\",\"Scrypt\",\"CryptoNight\",\"SkunkHash\",\"Scrypt\",\"CryptoNight\",\"Scrypt\",\"Dagger\",\"Lyra2REv2\",\"X13\",\"Proof-of-BibleHash\",\"SHA-256 + Hive\",\"Scrypt\",\"Scrypt\",\"X11\",\"C11\",\"Proof-of-Authority\",\"X11\",\"XEVAN\",\"Scrypt\",\"VBFT\",\"Ethash\",\"CryptoNight\",\"Scrypt\",\"IMesh\",\"NIST5\",\"Scrypt\",\"Scrypt\",\"Equihash\",\"Scrypt\",\"Lyra2Z\",\"Green Protocol\",\"PoS\",\"Scrypt\",\"Semux BFT consensus\",\"X11\",\"Quark\",\"PoS\",\"CryptoNight\",\"X16R\",\"Scrypt\",\"NIST5\",\"Lyra2RE\",\"XEVAN\",\"Tribus\",\"Scrypt\",\"Lyra2Z\",\"CryptoNight\",\"CryptoNight Heavy\",\"CryptoNight\",\"Scrypt\",\"Scrypt\",\"Jump Consistent Hash\",\"SHA-256D\",\"CryptoNight\",\"Scrypt\",\"X15\",\"Scrypt\",\"Quark\",\"SHA-256\",\"DPoS\",\"X16R\",\"HMQ1725\",\"X11\",\"X16R\",\"Quark\",\"Quark\",\"Scrypt\",\"Lyra2REv2\",\"Quark\",\"Scrypt\",\"Scrypt\",\"CryptoNight-V7\",\"Cryptonight-GPU\",\"XEVAN\",\"CryptoNight Heavy\",\"X11\",\"X11\",\"Scrypt\",\"PoS\",\"SHA-256\",\"Keccak\",\"X11\",\"X11\",\"Scrypt\",\"SHA-512\",\"X16R\",\"ECC 256K1\",\"Equihash\",\"XEVAN\",\"Lyra2Z\",\"SHA-256\",\"XEVAN\",\"X11\",\"CryptoNight\",\"Quark\",\"Blake\",\"Blake\",\"Equihash\",\"Exosis\",\"Scrypt\",\"Scrypt\",\"Equihash\",\"Quark\",\"Equihash\",\"Quark\",\"Scrypt\",\"QuBit\",\"X11\",\"Scrypt\",\"XEVAN\",\"SHA-256D\",\"X11\",\"SHA-256\",\"X13\",\"SHA-256\",\"X11\",\"DPoS\",\"Scrypt\",\"Scrypt\",\"X11\",\"NeoScrypt\",\"Scrypt\",\"Blake\",\"Scrypt\",\"SHA-256\",\"Scrypt\",\"X11\",\"Scrypt\",\"Scrypt\",\"SHA-256\",\"X11\",\"SHA-256\",\"Scrypt\",\"Scrypt\",\"Scrypt\",\"Groestl\",\"X11\",\"Scrypt\",\"PoS\",\"Scrypt\",\"Scrypt\",\"X11\",\"SHA-256\",\"DPoS\",\"Scrypt\",\"Scrypt\",\"NeoScrypt\",\"Multiple\",\"X13\",\"Equihash+Scrypt\",\"DPoS\",\"Ethash\",\"DPoS\",\"SHA-256\",\"Leased POS\",\"PoS\",\"TRC10\",\"PoS\",\"SHA-256\",\"Scrypt\",\"CryptoNight\",\"Equihash\",\"Scrypt\"],\"Class\":{\"__ndarray__\":\"AAAAAAAAAAAAAAAAAQAAAAEAAAABAAAAAAAAAAEAAAABAAAAAQAAAAAAAAABAAAAAAAAAAAAAAABAAAAAAAAAAEAAAABAAAAAAAAAAAAAAABAAAAAQAAAAEAAAABAAAAAQAAAAAAAAABAAAAAQAAAAEAAAAAAAAAAQAAAAAAAAABAAAAAQAAAAAAAAAAAAAAAQAAAAEAAAABAAAAAQAAAAEAAAABAAAAAAAAAAAAAAABAAAAAQAAAAEAAAABAAAAAQAAAAAAAAAAAAAAAQAAAAAAAAABAAAAAQAAAAEAAAABAAAAAAAAAAEAAAABAAAAAAAAAAEAAAAAAAAAAAAAAAAAAAABAAAAAQAAAAEAAAAAAAAAAAAAAAAAAAAAAAAAAAAAAAEAAAABAAAAAQAAAAAAAAAAAAAAAQAAAAAAAAABAAAAAAAAAAAAAAABAAAAAQAAAAEAAAABAAAAAAAAAAAAAAABAAAAAAAAAAEAAAABAAAAAAAAAAAAAAABAAAAAAAAAAAAAAABAAAAAQAAAAAAAAAAAAAAAQAAAAAAAAAAAAAAAQAAAAAAAAABAAAAAAAAAAEAAAAAAAAAAQAAAAAAAAAAAAAAAQAAAAEAAAAAAAAAAQAAAAEAAAABAAAAAAAAAAEAAAABAAAAAQAAAAEAAAABAAAAAAAAAAAAAAABAAAAAQAAAAEAAAAAAAAAAQAAAAAAAAABAAAAAQAAAAAAAAABAAAAAAAAAAEAAAAAAAAAAAAAAAEAAAABAAAAAAAAAAEAAAABAAAAAAAAAAAAAAABAAAAAAAAAAEAAAAAAAAAAAAAAAAAAAABAAAAAQAAAAEAAAABAAAAAAAAAAAAAAAAAAAAAAAAAAAAAAABAAAAAQAAAAAAAAAAAAAAAAAAAAAAAAAAAAAAAQAAAAAAAAAAAAAAAAAAAAAAAAAAAAAAAQAAAAAAAAABAAAAAAAAAAAAAAABAAAAAAAAAAEAAAAAAAAAAAAAAAEAAAAAAAAAAQAAAAAAAAABAAAAAAAAAAEAAAAAAAAAAAAAAAAAAAAAAAAAAQAAAAAAAAAAAAAAAAAAAAAAAAAAAAAAAQAAAAEAAAAAAAAAAAAAAAEAAAABAAAAAAAAAAAAAAAAAAAAAAAAAAAAAAABAAAAAAAAAAAAAAAAAAAAAAAAAAAAAAAAAAAAAAAAAAAAAAABAAAAAAAAAAAAAAAAAAAAAAAAAAAAAAAAAAAAAQAAAAEAAAABAAAAAAAAAAAAAAAAAAAAAAAAAAEAAAAAAAAAAQAAAAAAAAAAAAAAAQAAAAAAAAABAAAAAQAAAAAAAAABAAAAAQAAAAAAAAABAAAAAAAAAAAAAAAAAAAAAQAAAAAAAAAAAAAAAQAAAAAAAAAAAAAAAAAAAAAAAAAAAAAAAAAAAAAAAAABAAAAAAAAAAEAAAAAAAAAAAAAAAAAAAAAAAAAAQAAAAAAAAABAAAAAAAAAAEAAAABAAAAAQAAAAEAAAAAAAAAAQAAAAAAAAAAAAAAAQAAAAAAAAABAAAAAQAAAAEAAAAAAAAAAQAAAAAAAAABAAAAAQAAAAEAAAAAAAAAAQAAAAAAAAABAAAAAAAAAAAAAAAAAAAAAQAAAAAAAAABAAAAAQAAAAEAAAABAAAAAQAAAAAAAAAAAAAAAQAAAAAAAAAAAAAAAAAAAAEAAAAAAAAAAQAAAAAAAAABAAAAAAAAAAEAAAAAAAAAAAAAAAAAAAAAAAAAAQAAAAAAAAAAAAAAAQAAAAAAAAAAAAAAAAAAAAEAAAABAAAAAQAAAAEAAAAAAAAAAAAAAAAAAAAAAAAAAQAAAAAAAAABAAAAAQAAAAEAAAAAAAAAAAAAAAEAAAABAAAAAAAAAAAAAAABAAAAAAAAAAEAAAABAAAAAQAAAAAAAAABAAAAAQAAAAAAAAAAAAAAAAAAAAEAAAABAAAAAQAAAAAAAAAAAAAAAAAAAAEAAAABAAAAAAAAAAEAAAABAAAAAQAAAAEAAAAAAAAAAwAAAAMAAAABAAAAAQAAAAEAAAAAAAAAAwAAAAAAAAAAAAAAAAAAAAAAAAABAAAAAQAAAAEAAAABAAAAAAAAAAAAAAAAAAAAAQAAAAAAAAABAAAAAAAAAAAAAAAAAAAAAAAAAAEAAAAAAAAAAAAAAAEAAAAAAAAAAAAAAAEAAAABAAAAAAAAAAEAAAAAAAAAAQAAAAEAAAABAAAAAQAAAAAAAAAAAAAAAQAAAAAAAAABAAAAAAAAAAAAAAAAAAAAAAAAAAAAAAAAAAAAAQAAAAEAAAABAAAAAAAAAAAAAAAAAAAAAAAAAAAAAAAAAAAAAQAAAAAAAAABAAAAAQAAAAEAAAABAAAAAAAAAAAAAAAAAAAAAAAAAAEAAAAAAAAAAAAAAAEAAAAAAAAAAAAAAAEAAAADAAAAAQAAAAAAAAABAAAAAQAAAAAAAAAAAAAAAQAAAAAAAAABAAAAAQAAAAAAAAABAAAAAQAAAAAAAAABAAAAAAAAAAEAAAAAAAAAAAAAAAEAAAAAAAAAAAAAAAAAAAAAAAAAAAAAAAEAAAABAAAAAQAAAAAAAAAAAAAAAAAAAAEAAAAAAAAAAQAAAAAAAAABAAAAAAAAAAAAAAAAAAAAAAAAAAEAAAAAAAAAAAAAAAAAAAABAAAAAAAAAAEAAAAAAAAAAQAAAAAAAAAAAAAAAAAAAAEAAAABAAAAAAAAAAAAAAAAAAAAAAAAAAAAAAAAAAAAAQAAAAAAAAABAAAAAAAAAAEAAAAAAAAAAAAAAAMAAAAAAAAAAgAAAAAAAAAAAAAAAAAAAAEAAAABAAAAAAAAAA==\",\"dtype\":\"int32\",\"order\":\"little\",\"shape\":[532]},\"CoinName\":[\"42 Coin\",\"404Coin\",\"EliteCoin\",\"Bitcoin\",\"Ethereum\",\"Litecoin\",\"Dash\",\"Monero\",\"Ethereum Classic\",\"ZCash\",\"Bitshares\",\"DigiByte\",\"BitcoinDark\",\"PayCoin\",\"ProsperCoin\",\"KoboCoin\",\"Spreadcoin\",\"Argentum\",\"Aurora Coin\",\"BlueCoin\",\"MyriadCoin\",\"MoonCoin\",\"ZetaCoin\",\"SexCoin\",\"Quatloo\",\"EnergyCoin\",\"QuarkCoin\",\"Riecoin\",\"Digitalcoin \",\"BitBar\",\"Catcoin\",\"CryptoBullion\",\"CannaCoin\",\"CryptCoin\",\"CasinoCoin\",\"Diamond\",\"Verge\",\"DevCoin\",\"EarthCoin\",\"E-Gulden\",\"Einsteinium\",\"Emerald\",\"Exclusive Coin\",\"FlutterCoin\",\"Franko\",\"FeatherCoin\",\"GrandCoin\",\"GlobalCoin\",\"GoldCoin\",\"HoboNickels\",\"HyperStake\",\"Infinite Coin\",\"IOCoin\",\"IXcoin\",\"KrugerCoin\",\"LuckyCoin\",\"Litebar \",\"MaxCoin\",\"MegaCoin\",\"MediterraneanCoin\",\"MintCoin\",\"MinCoin\",\"MazaCoin\",\"Nautilus Coin\",\"NavCoin\",\"NobleCoin\",\"Namecoin\",\"NyanCoin\",\"OpalCoin\",\"Orbitcoin\",\"PotCoin\",\"PhoenixCoin\",\"Reddcoin\",\"RonPaulCoin\",\"StableCoin\",\"SmartCoin\",\"SuperCoin\",\"SyncCoin\",\"SysCoin\",\"TeslaCoin\",\"TigerCoin\",\"TittieCoin\",\"TorCoin\",\"TerraCoin\",\"UnbreakableCoin\",\"Unobtanium\",\"UroCoin\",\"UnitaryStatus Dollar\",\"UltraCoin\",\"ViaCoin\",\"VeriCoin\",\"Vertcoin\",\"WorldCoin\",\"X11 Coin\",\"Crypti\",\"JouleCoin\",\"StealthCoin\",\"ZCC Coin\",\"ByteCoin\",\"DigitalNote \",\"BurstCoin\",\"StorjCoin\",\"MonaCoin\",\"Neutron\",\"FairCoin\",\"Gulden\",\"RubyCoin\",\"PesetaCoin\",\"Kore\",\"Wild Beast Coin\",\"Dnotes\",\"Flo\",\"8BIT Coin\",\"Sativa Coin\",\"ArtByte\",\"Folding Coin\",\"Ucoin\",\"Unitus\",\"CypherPunkCoin\",\"OmniCron\",\"Vtorrent\",\"GreenCoin\",\"Cryptonite\",\"MasterCoin\",\"SoonCoin\",\"1Credit\",\"IslaCoin\",\"Nexus\",\"MarsCoin \",\"Crypto\",\"Anarchists Prime\",\"Droidz\",\"BowsCoin\",\"Squall Coin\",\"Song Coin\",\"BitZeny\",\"Diggits\",\"Expanse\",\"Paycon\",\"Siacoin\",\"Emercoin\",\"EverGreenCoin\",\"MindCoin\",\"I0coin\",\"Decred\",\"Revolution VR\",\"HOdlcoin\",\"EDRCoin\",\"Hitcoin\",\"Gamecredits\",\"DubaiCoin\",\"CarpeDiemCoin\",\"PWR Coin\",\"BillaryCoin\",\"GPU Coin\",\"Adzcoin\",\"SoilCoin\",\"YoCoin\",\"SibCoin\",\"EuropeCoin\",\"ZeitCoin\",\"SwingCoin\",\"SafeExchangeCoin\",\"Nebuchadnezzar\",\"Francs\",\"BolivarCoin\",\"Ratecoin\",\"Revenu\",\"Clockcoin\",\"VIP Tokens\",\"BitSend\",\"Omni\",\"Let it Ride\",\"PutinCoin\",\"iBankCoin\",\"Frankywillcoin\",\"MudraCoin\",\"PizzaCoin\",\"Lutetium Coin\",\"Komodo\",\"GoldBlocks\",\"CarterCoin\",\"Karbo\",\"BitTokens\",\"ZayedCoin\",\"MustangCoin\",\"ZoneCoin\",\"Circuits of Value\",\"RootCoin\",\"DopeCoin\",\"BitCurrency\",\"DollarCoin\",\"Swiscoin\",\"Shilling\",\"BuzzCoin\",\"Opair\",\"PesoBit\",\"Halloween Coin\",\"ZCoin\",\"CoffeeCoin\",\"RoyalCoin\",\"GanjaCoin V2\",\"TeamUP\",\"LanaCoin\",\"Elementrem\",\"ZClassic\",\"ARK\",\"InsaneCoin\",\"KiloCoin\",\"ArtexCoin\",\"EmberCoin\",\"XenixCoin\",\"FreeCoin\",\"PLNCoin\",\"AquariusCoin\",\"Kurrent\",\"Creatio\",\"Eternity\",\"Eurocoin\",\"BitcoinFast\",\"Stakenet\",\"BitConnect Coin\",\"MoneyCoin\",\"Enigma\",\"Cannabis Industry Coin\",\"Russiacoin\",\"PandaCoin\",\"GameUnits\",\"GAKHcoin\",\"Allsafe\",\"LiteCreed\",\"OsmiumCoin\",\"Bikercoins\",\"HexxCoin\",\"Klingon Empire Darsek\",\"Internet of People\",\"KushCoin\",\"Printerium\",\"PacCoin\",\"Impeach\",\"Citadel\",\"Zilbercoin\",\"FirstCoin\",\"BeaverCoin\",\"FindCoin\",\"VaultCoin\",\"Zero\",\"OpenChat\",\"Canada eCoin\",\"Zoin\",\"RenosCoin\",\"DubaiCoin\",\"VirtacoinPlus\",\"TajCoin\",\"Impact\",\"EB3coin\",\"Atmos\",\"HappyCoin\",\"Coinonat\",\"MacronCoin\",\"Condensate\",\"Independent Money System\",\"ArgusCoin\",\"LomoCoin\",\"ProCurrency\",\"GoldReserve\",\"BenjiRolls\",\"GrowthCoin\",\"ILCoin\",\"Phreak\",\"Degas Coin\",\"HTML5 Coin\",\"Ultimate Secure Cash\",\"EquiTrader\",\"QTUM\",\"Quantum Resistant Ledger\",\"Espers\",\"Dynamic\",\"Nano\",\"ChanCoin\",\"Dinastycoin\",\"Denarius\",\"DigitalPrice\",\"Virta Unique Coin\",\"Bitcoin Planet\",\"Unify\",\"BritCoin\",\"SocialCoin\",\"ArcticCoin\",\"DAS\",\"Linda\",\"LeviarCoin\",\"DeepOnion\",\"Bitcore\",\"gCn Coin\",\"SmartCash\",\"Signatum\",\"Onix\",\"Cream\",\"Bitcoin Cash\",\"Monoeci\",\"Draftcoin\",\"Vechain\",\"Sojourn Coin\",\"Stakecoin\",\"NewYorkCoin\",\"FrazCoin\",\"Kronecoin\",\"AdCoin\",\"Linx\",\"CoinonatX\",\"Ethereum Dark\",\"Sumokoin\",\"Obsidian\",\"Cardano\",\"Regalcoin\",\"BitcoinZ\",\"TrezarCoin\",\"Elements\",\"TerraNovaCoin\",\"VIVO Coin\",\"Rupee\",\"Bitcoin Gold\",\"WomenCoin\",\"Theresa May Coin\",\"NamoCoin\",\"LUXCoin\",\"Pirl\",\"Xios\",\"Bitcloud 2.0\",\"eBoost\",\"KekCoin\",\"BlackholeCoin\",\"Infinity Economics\",\"Pura\",\"Innova\",\"Ellaism\",\"GoByte\",\"Magnet\",\"Lamden Tau\",\"Electra\",\"Bitcoin Diamond\",\"SHIELD\",\"Cash & Back Coin\",\"UltraNote\",\"BitCoal\",\"DaxxCoin\",\"Bulwark\",\"Kalkulus\",\"AC3\",\"Lethean\",\"GermanCoin\",\"LiteCoin Ultra\",\"PopularCoin\",\"PhantomX\",\"Photon\",\"Sucre\",\"SparksPay\",\"Digiwage\",\"GunCoin\",\"IrishCoin\",\"Trollcoin\",\"Litecoin Plus\",\"Monkey Project\",\"Pioneer Coin\",\"UnitedBitcoin\",\"Interzone\",\"TokenPay\",\"1717 Masonic Commemorative Token\",\"My Big Coin\",\"TurtleCoin\",\"MUNcoin\",\"Unified Society USDEX\",\"Niobio Cash\",\"ShareChain\",\"Travelflex\",\"KREDS\",\"Tokyo Coin\",\"BiblePay\",\"LitecoinCash\",\"BitFlip\",\"LottoCoin\",\"Crypto Improvement Fund\",\"Stipend\",\"Poa Network\",\"Pushi\",\"Ellerium\",\"Velox\",\"Ontology\",\"Callisto Network\",\"BitTube\",\"Poseidon\",\"Aidos Kuneen\",\"Bitspace\",\"Briacoin\",\"Ignition\",\"Bitrolium\",\"MedicCoin\",\"Alpenschillling\",\"Bitcoin Green\",\"Deviant Coin\",\"Abjcoin\",\"Semux\",\"FuturoCoin\",\"Carebit\",\"Zealium\",\"Monero Classic\",\"Proton\",\"iDealCash\",\"Jumpcoin\",\"Infinex\",\"Bitcoin Incognito\",\"KEYCO\",\"HollyWoodCoin\",\"GINcoin\",\"PlatinCoin\",\"Loki\",\"Newton Coin\",\"Swisscoin\",\"Xt3ch\",\"MassGrid\",\"TheVig\",\"PluraCoin\",\"EmaratCoin\",\"Dekado\",\"Lynx\",\"Poseidon Quark\",\"BitcoinWSpectrum\",\"Muse\",\"Motion\",\"PlusOneCoin\",\"Axe\",\"Trivechain\",\"Dystem\",\"Giant\",\"Peony Coin\",\"Absolute Coin\",\"Vitae\",\"HexCoin\",\"TPCash\",\"Webchain\",\"Ryo\",\"Urals Coin\",\"Qwertycoin\",\"ARENON\",\"EUNO\",\"MMOCoin\",\"Ketan\",\"Project Pai\",\"XDNA\",\"PAXEX\",\"Azart\",\"ThunderStake\",\"Kcash\",\"Xchange\",\"Acute Angle Cloud\",\"CrypticCoin\",\"Bettex coin\",\"Actinium\",\"Bitcoin SV\",\"BitMoney\",\"Junson Ming Chan Coin\",\"FREDEnergy\",\"HerbCoin\",\"Universal Molecule\",\"Lithium\",\"PirateCash\",\"Exosis\",\"Block-Logic\",\"Oduwa\",\"Beam\",\"Galilel\",\"Bithereum\",\"Crypto Sports\",\"Credit\",\"SLICE\",\"Dash Platinum\",\"Nasdacoin\",\"Beetle Coin\",\"Titan Coin\",\"Award\",\"BLAST\",\"Bitcoin Rhodium\",\"GlobalToken\",\"Insane Coin\",\"ALAX\",\"LiteDoge\",\"SolarCoin\",\"TruckCoin\",\"UFO Coin\",\"OrangeCoin\",\"BlakeCoin\",\"BitstarCoin\",\"NeosCoin\",\"HyperCoin\",\"PinkCoin\",\"Crypto Escudo\",\"AudioCoin\",\"IncaKoin\",\"Piggy Coin\",\"Crown Coin\",\"Genstake\",\"SmileyCoin\",\"XiaoMiCoin\",\"Groestlcoin\",\"CapriCoin\",\" ClubCoin\",\"Radium\",\"Bata\",\"Pakcoin\",\"Creditbit \",\"OKCash\",\"Lisk\",\"HiCoin\",\"WhiteCoin\",\"FriendshipCoin\",\"JoinCoin\",\"Triangles Coin\",\"Vollar\",\"EOS\",\"Reality Clash\",\"Oxycoin\",\"TigerCash\",\"Waves\",\"Particl\",\"BitTorrent\",\"Nxt\",\"ZEPHYR\",\"Gapcoin\",\"Beldex\",\"Horizen\",\"BitcoinPlus\"],\"PC1\":{\"__ndarray__\":\"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\",\"dtype\":\"float64\",\"order\":\"little\",\"shape\":[532]},\"PC2\":{\"__ndarray__\":\"u+79AdPx7z8DXqi77PLvP+7ftABMYvo/hO2I09b99L88XSRgUV//v/1qIAdXZvK/yCdQIcwN9D8RLBQLhawBwL5bc228X/+//seLkowaAMDC+Vae/KkAQPjdg18kYf2/SLnnq5/C6j/mAI9giHXjP8o5eulMZvK/pSNe/fo+/T/rvRiFv6Lsvy+SX75gZvK/3bOH6c/x7z8PzKQkyvPvP9jPpdCKSf2/j2nlLvly9b+Vdpb75/30v2WQ0FWTZvK/doFjZnVm8r/6VkFzNPLvPx3sPNQvBd2/1UDnxNhB879t/TYYUGbyv3+PYoXS8e8/ZbtZVkxm8r/tXSXK0vHvP62PFj5JZvK/E1ZRT8Ki7L/oVyZ99azkP881sEPYOu4/bId0ExxR/b8hffQ3fAv1vym9K11SbvK/AMnK6kZm8r9ZlYiliWbyv7oUuDNNZvK/TWaEp5CF+D8Nfaa+83HQPz42TalJZvK/oELSYId6+b/1wD+fyWfyv5m92bJOZvK/DvHvX1lm8r/VwffGnPHvP02/o7XXafA/auBOnVuS8r90OO2Kzw30P1ECC5PV/fS/AfJlc5Jm8r8Y3xsGR2byvy0iAIhEZvK/Yg9jeHWyAUCC+WIFS2byv/V1isXPxADAzf8SGobm6D9AVTEsR2byv2lrFijdveo/k9DpUKWk6D86DXce1bP8P/PUQ5gagfK/9O3sFtj99L9C+MUmb2byv9PUi/TAs/w/NJlj8APK4T/ri1UhzvDvPyV9o46n8e8/suMLsT8m8D+SjTLCTmbyvxRr9Mu8ZvK/N44AyFRm8r8dIABAU2fwP3xPQQHUDfQ/jHzzJML+9L9HwQKA5ga3P3oZzjna/fS//dzVrbKu+T93yvtdzw30P6Lp/sXf/fS/J3vJuvv99L/+RmEL0/30vysa1pKyouy/a0+Tqbfu7z+Ht7mwkvHvP/waNBJHZvK/WR4W0XiRzT/zJrDcsZ70vxiCgg6fZvK/2rLs5NMN9D9ElyxLpAq3PwoNtOXa/fS/F3eHDsiz/D/kJ+k+N+7vP1N5XdpKnALAmadkju1zAsDcEzCgkM/3PxRaUNqHdPk/mAWo+l9m8r+NzJ2+jcLqP8jgnlMEO+4/aaMEWApp8r8sbzrfvqToP6kzxWtkZvK/seKDgrWz/D8je8WPRWbyv9Ogmikro+g/wv+mQVtm8r8a94cr1PHvP2LnSo+4s/w/RXyg9xJn8r9JpxY3lC4BwO3AftQ1Z/A/fNOZe/xH/b/Pm/XYV2H5vxhpigFCZvK/ZxuwYMfx7z8pFhO4d3PyvzpWwxfzVQHAca/OV0Rm8r/oiGD92P30v2MIYZNPIfO/uISvmtQN9D8Y/WcpRIQFQLBCBF68ouy/RG0uHpRAAsCCGMsi6f30v0rlpRPFHv8/7TgD1Lyi7L9+7TtUNyPuP8JJAsykZvK/lTuLcqhm8r/BjRBvkKToPxTIB6eAX/+/xMHMDaqz/D/q7V2b6PsAwCEaYrTGvuo/wGAvtp4//T86FdOet6Lsv1W6WpzV/fS/EiHNvXMR7T9AuLZsXmbyv8kbdV3TQgLAp/mBjqHC6j/Clx7/2ujzP9DYQFZUZvK/ZvvZrq7C6j+U6P7gKwj1v83XfHnCrvg/USjcaa7x7z8nm0xL46PoP8Pl9j/nouy/Ssg5qQaTAcB/yMaim2byv08YxSgpBQLAflKrQxAN9D8FLrlGdoTnP8BvPGGPwuo/1Ff4wMvR5D8QiBfqi4X4P3/85hJMZvK/adDcvcKi7L8WHpo94g30P5i6iqfOweo/B3w0QKDA6j9cJmQfIp/4Pz8IkFCVDfQ/JfO1V0Rm8r94tAEWv+b0P2U9NvA07O8/atp+cajx7z8f7jgYuvHvP9LPegLADPk/l8ZIdsyi7L/DXbVV7WbwP80gGRBmdvW/Eg2qJMAN9D9nhHuAl/HvP8JygG4bbwLAkjnTKaDC6j/izdaW1f30v/onM7TSDfQ/EmZDMb/x7z8/c+7r+kj9v4eGN4vU8e8/kvO0GX5m8r+a8hGjL6XoP/WO5+zU/fS/GXHUUlYWuD85JVJ6T2byv7uGKrONe/4/exGFM4WF+D9LITeN7fHvP7wL+hUwC/Q/vbc5GrReAcAfyPd2tIX4P1wAHtAlDfk/HuycDEQeAEB/UWbM+IT4P1x3b/NZeP4/XZPKRX9f/7/eoDfsjBoAwAZDafckqP8/UH4gp8sN9D8RoAZDS3ryvwI1fYwvouy/YCPeLZRA/T/SD2SG0w30PwQUbS2Ihfg/WhXua7jx7z/PNlI6qfHvP5Aza0Zwo+y/EIgX6ouF+D9fKfwttw30P9RffZCqwuo/jhGmr8Dx7z+HkVLwpI/nP4Mfn6K+8e8/stXBWTbv7z9IZKK50Q30P7hWKqYfbwLAATPsvkPx7z9JSaTMCInoP+R5uTnI8e8/F2mFLtLx7z9iyaciY3f3PzQXFq1s++E/Mk4YU0Vm8r9+TQkIH28CwP4j2PKHQALA8XA/g93v7z9crCyxocLqP9bqfmDRDfQ/1ACtjMfx7z99GbyRqDfuv6FkpGu88e8/KXeja7asAcBbL8tocqToP9ZEqMnc/Ms/PSgByERm8r9ajqlQJA35Pwi4h2mspuy/NF9yn4saAMCJu0Xg2fDvP41Tz8hQZvK/ZqzrgodAAsAAdGAOoqToP/elhlux+gHAyItGK6UN9D/OgakHvf78P1igYo3GDfQ/upFAxkxu8r8J2JEAgYX4Pzx7bnqoDfQ/MNDw5SWA47+j3GIkXYX4P9RC+O//DPQ/UBSqLcHx7z94omYltvHvP9yHH3bC7e8/phtQ1eRE4j/Khf77xQ30P5hqy7lOZvK/Rf9hJ3Gd6D8lHfJ33gD1v2L0EU2Dhfg/cmD2nnbx7z8LlpvCjcf8PzX6+s3DdOM/ZaONU2Rm8r8YUInJtOb0P6jtbhuWrAHApIzv74iw/j+Th05ByvAAwIEBwa2+FQHA+18QXWmwAMDn2vyovG8CwMaUkl8sn/g/kjDkzP+i7L8EMJ5jCp/4P3bLcPQkCgBA7aqsHkdm8r9SHcPCs7P8P1DzVUFpZvK/kqiOXd2i7L9+pWMgxaLsv9vjAMR9Qu8/CcWKoCVvAsC/hb7LubP8P4gUJ2B8iAHAtGjQHrgA8796zkcniprzv2+8/u5XHfc/fsiqlsum7L9cQTT6LAoAQI3WmczW/fS/2WRuCNQN9D/vApwBpqToP0DyDLe1yvI/OyBMBZ178r/yvKjtb4X4P6A8visbifG/8+9X1Upm8r8d1ksTaWbyv1WMT2NrZvK/6Jji9mpm8r/zSnxAsPHvP9TPIPbR8e8/uPshvS9vAsDtk4YUdKsAQCI4Yh8t6PU/PGjU08gN9D/Aug/g2SsAwJiaJY31yOE/hhN1E6mh7L9XdpaIw/HvP9naOIQ3evm/syA7GPcz5D8MtPGgihoAwGCCERYHEfA/suEhWJbC6j/2EYhKnZ34P9E2j11WV/0/94Z07iGTAcArYaPZvvHvPxZXZayfHfs/D9DzuVBm8r8EkQPcuWL4P1gf8ZHQ8e8/pFmTtMls4z+sUx8flaPsv+A1owJAevm/lB2esAhg/7+t/+NaOXr5v0GOHS6YDfQ/ecwxAqmn/z+CoXAqHY74P6VvY1GWs/w/B/eDDa9I/b8kDFxIUPHvPzgNhoOZtgLAlHFrvRxvAsCy4PJ+AnP/vyy3VeqR+PQ/IUL0FGN39z9t1NtzsKTsv9DDyDM1rQHAX4Ui37Q17z+AFXSIPfHvPwb5XyxNavK/7GK53csN9D+VTcbQ3l70vzgypsrEouy/7zOo7zJ6+b8IUkQhM3f3P3pPNqi4evm/CleqkVNm8r8MH0Yj/u/vP/nivNPQ8e8/HvBR/TVn8D/fyBbCxKLsv/HcgIHV/fS/4DGyfgNm87/ejKFTvOb0PxCRE6ho3KS/O1YpcGqkyD9xN9jGjj4GwIZpp5YBpwHA0NaCdpvx7z9uK/xNV28CwFj6qewha/K/nzXNwgSTAcB4dtoJ2J/0vxifjezgC/k//k8Fr6wREkCe5JmIEkYIQL9MPihUZvK/FGGgf0d18r9gH2exFKTsv+AKBtVX8u0/Sy3j3kwI8z+Ag/fZxw30P/lU2HQNH/o/TOBLhDyk6D+S/VKU0l/1P5R1JQpRbP+/wa10xA5wAsB/J5WVTWbyv+ZOTO82UAHAFS6YXBuf+D9K9faN0PHvP4gTN73O8e8/tyQVqYwaAMC8a2aGdKPoP1QHq7D4XgHAF7dNUIC2+T9H+uxDaYX4PwXOXpq78e8/CrBCj2sPAEAcx2pxAqPsv6FElNbKHfs/v9kdJ2mF+D8hM9r+G28CwL/HZ0g/QuQ/vcbQLVfh7z8P4/jcAIDjv4sdK4yLQALAHGZ0b+0i9T81Niu2l+gBwAG0VO6spOg/Ai6NYbFeAcCUQKeAtm8CwFHem5mL/gDARYIHXTcKA8AJYTrd5efvP4dwSpaBpOg/WqQHIkOVAMDjVxNJyYX+P+DRKr6vbwLAl2jVq4zx7z/lauxb75j5P8EQ1PQlpNQ/YqsrjBV29z96JZNMUXXjP1niTD2yb/s/Y0aV5GuX9L9Z19xUBLMBwNwskG/Fouy/OJLjm1uP6z/hqAenXnf3P8ceekX7Hfs/XFACEQdg6D/trluk+oDrP0mH4uFMd/c/cFfKNU9m8r8xHyRYxu3vP222wcZMrgHAt6jEJaUuAcAhTXxs0YDgv0C6/TXzbAHArYN0LSpn8D8rK/Ipxg30P4AI1Qfwo+g/JG2pzCSF+D/JeQqV2P70v2spQzQ0le0/6p0u6Qxn8D+oLduUyaLsv2hUYVTpq+8/p6lYWI3SCUBcb0bOk5f0vyPjW+njsAlA/hcBAvweAMBe6RdagHj2PxNZOjHDXgHARp/pzNb99L8f+b/vA3r7P8L5lazcgfA/T2kjft91AsDmvc577R37P4L3cNrOsgHAttP/PLeyAcAbU/Q0mMq3v11VoSke6QHAPCrCwHRm8r8TlFnZyPHvP1qE++TFGgDAg+ar7vgd+z/hT8KgixoAwHmn7ZVgd/c/eFPWpQQh7z93ExpMiWH5v+IsYjQ1Z/A/h9Bs1ovx7z9m+DULdx76P8KlGrEoff4/b3gUg/8M9D8ThsKZ3/30v5rhScfNrda/a2cr7wj+9L/7McnNzQ30PzfpJ5++p/8/ubM5r+OS7z8cu258oC3zvyRKlAo0DvQ/6gfhyGJ8+b+sHr6eBfHvP3Jqz9XMuQHAQ1ax0qrx7z/yRkyCeXXjP5vGRaLa8e8/8rwqhnwN9D+0vvHYF2fyv2F6Easpyu8/o0bgomz56j9sa9A0jwz0PzDVxcDf/fS/KX/85vLx7z8SQIddK57yvyfU3sVy8e8/vAfkS9pB879UU9l3tw30P7MWhIF+8e8/b1v+O4uF+D+jqyveRGbyv0DjM2eHZvK/75vgCuBU6j8Lfs5hg8LqP54B1XcXqP8/AFSuBuWa6D+oqwlEYvHvP64/npHHyeE/bmU5ZhZI/b89jLPyurP8P5OtC0f9DALA3Kn9Oc+p/z815wQPf1//v9UXbYv3qf8/hvVawpJ04z9M+a6SUvUDQLYzUJaNhfg/O8FZHy4T/D+JjG7SHT39P2vsxxun5Os/cZ5DmNrw7z+c7VO6xG8CwOsw7paMGgDAwTReaKik6D8=\",\"dtype\":\"float64\",\"order\":\"little\",\"shape\":[532]},\"PC3\":{\"__ndarray__\":\"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\",\"dtype\":\"float64\",\"order\":\"little\",\"shape\":[532]},\"ProofType\":[\"PoW/PoS\",\"PoW/PoS\",\"PoW/PoS\",\"PoW\",\"PoW\",\"PoW\",\"PoW/PoS\",\"PoW\",\"PoW\",\"PoW\",\"PoS\",\"PoW\",\"PoW/PoS\",\"PoS\",\"PoW\",\"PoW/PoS\",\"PoW\",\"PoW\",\"PoW/PoS\",\"PoW/PoS\",\"PoW\",\"PoW\",\"PoW\",\"PoW\",\"PoW\",\"PoW/PoS\",\"PoW\",\"PoW\",\"PoW\",\"PoW/PoS\",\"PoW\",\"PoW/PoS\",\"PoW\",\"PoW\",\"PoC\",\"PoW/PoS\",\"PoW\",\"PoW\",\"PoW\",\"PoW\",\"PoW\",\"PoW\",\"PoS\",\"PoS/PoW/PoT\",\"PoW\",\"PoW\",\"PoW\",\"PoW\",\"PoW\",\"PoW/PoS\",\"PoS\",\"PoW\",\"PoW/PoS\",\"PoW\",\"PoW\",\"PoW\",\"PoW\",\"PoW/PoS\",\"PoW\",\"PoW\",\"PoS\",\"PoW\",\"PoW/PoS\",\"PoS\",\"PoW/PoS\",\"PoW\",\"PoW\",\"PoW\",\"PoW/PoS\",\"PoW/PoS\",\"PoW/PoS\",\"PoW/PoS\",\"PoW/PoS\",\"PoW\",\"PoW\",\"PoW\",\"PoS\",\"PoW/PoS\",\"PoW\",\"PoS\",\"PoW\",\"PoS\",\"PoW/PoS\",\"PoW\",\"PoW\",\"PoW\",\"PoW\",\"PoW/PoS\",\"PoW/PoS\",\"PoW\",\"PoST\",\"PoW\",\"PoW\",\"PoW/PoS\",\"PoS\",\"PoW\",\"PoW/PoS\",\"PoW/PoS\",\"PoW\",\"PoW\",\"PoC\",\"PoS\",\"PoW\",\"PoW/PoS\",\"PoW/PoS\",\"PoW\",\"PoS\",\"PoW\",\"PoW/PoS\",\"PoW\",\"PoS\",\"PoW\",\"PoW/PoS\",\"PoW/PoS\",\"PoW\",\"PoW\",\"PoS\",\"PoW\",\"PoW\",\"PoW\",\"PoW/PoS\",\"PoW\",\"PoW\",\"PoW\",\"PoW\",\"PoW\",\"PoW/PoS\",\"PoW/nPoS\",\"PoW\",\"PoW\",\"PoW\",\"PoW/PoS\",\"PoW\",\"PoS/PoW\",\"PoW\",\"PoW\",\"PoS\",\"PoW\",\"PoW/PoS\",\"PoW\",\"PoW/PoS\",\"PoW/PoS\",\"PoW\",\"PoW\",\"PoW/PoS\",\"PoW\",\"PoW\",\"PoW/PoS\",\"PoW/PoS\",\"PoW\",\"PoW/PoS\",\"PoW\",\"PoW/PoS\",\"PoW/PoS\",\"PoS\",\"PoW\",\"PoW\",\"PoW\",\"PoW\",\"PoW/PoS\",\"PoS\",\"PoW/PoS\",\"PoC\",\"PoS\",\"PoW\",\"PoW\",\"PoW/PoS\",\"PoW/PoS\",\"PoW/PoS\",\"PoW/PoS\",\"PoW/PoS\",\"PoW\",\"PoS\",\"PoW/PoS\",\"PoW/PoS\",\"PoW/PoS\",\"PoS\",\"PoW\",\"PoS\",\"dPoW/PoW\",\"PoW/PoS\",\"PoW/PoS\",\"PoW\",\"PoW/PoS\",\"PoW\",\"PoW/PoS\",\"PoW/PoS\",\"PoW\",\"PoW/PoS\",\"PoW\",\"PoS\",\"PoW\",\"PoW/PoW\",\"PoW\",\"PoW/PoS\",\"PoS\",\"PoW/PoS\",\"PoW/PoS\",\"PoW\",\"PoS\",\"PoS\",\"PoW/PoS\",\"PoS\",\"PoW/PoS\",\"PoW\",\"PoW\",\"DPoS\",\"PoW/PoS\",\"PoW\",\"PoW\",\"PoW/PoS\",\"PoW/PoS\",\"PoS\",\"PoW/PoS\",\"PoW/PoS\",\"PoW\",\"PoS\",\"PoW/PoS\",\"PoW/PoS\",\"PoW/PoS\",\"TPoS\",\"PoW/PoS\",\"PoW/PoS\",\"PoW/PoS\",\"PoW\",\"PoW/PoS\",\"PoS\",\"PoW/PoS\",\"PoW/PoS\",\"PoS\",\"PoW/PoS\",\"PoW\",\"PoW\",\"PoW\",\"PoW/PoS\",\"PoW/PoS\",\"PoW/PoS\",\"PoW/PoS\",\"PoW\",\"PoW/PoS\",\"PoW\",\"PoS\",\"PoW/PoS \",\"PoW\",\"PoS\",\"PoW\",\"PoW\",\"PoW/PoS\",\"PoW\",\"PoW\",\"PoS\",\"PoW\",\"PoW/PoS\",\"PoW/PoS\",\"PoW/PoS\",\"PoW\",\"PoS\",\"PoW/PoS\",\"PoW\",\"PoS\",\"PoW/PoS\",\"PoW/PoS\",\"PoW/PoS\",\"PoW/PoS\",\"PoS\",\"PoW/PoS\",\"PoW\",\"PoS\",\"PoW\",\"PoS\",\"PoW/PoS\",\"PoW/PoS\",\"PoS\",\"PoW\",\"PoS\",\"PoW\",\"PoW/PoS\",\"PoW\",\"PoW\",\"PoW\",\"PoW\",\"PoW/PoS\",\"PoW\",\"PoW/PoS\",\"PoW/PoS\",\"PoW\",\"PoW/PoS\",\"PoW\",\"PoW\",\"PoW\",\"PoW/PoS\",\"PoW\",\"PoW/PoS\",\"PoW\",\"PoW\",\"PoW\",\"PoS\",\"PoW\",\"PoW/PoS\",\"PoW\",\"PoW/PoS\",\"PoS\",\"Proof of Authority\",\"PoW\",\"PoS\",\"PoW\",\"PoW\",\"PoW\",\"PoW\",\"PoW\",\"PoW/PoS\",\"PoW/PoS\",\"PoW\",\"PoS\",\"PoS\",\"PoW/PoS\",\"PoW\",\"PoW/PoS\",\"PoW\",\"PoW/PoS\",\"PoW\",\"PoS\",\"PoW\",\"PoW/PoS\",\"PoW/PoS\",\"PoW/PoS\",\"PoW/PoS\",\"PoW\",\"PoW/PoS\",\"PoW/PoS\",\"PoW\",\"PoS\",\"PoW/PoS\",\"PoS\",\"PoW\",\"PoW\",\"PoW\",\"PoW\",\"PoW/PoS\",\"DPoS\",\"PoW/PoS\",\"PoW/PoS\",\"PoW\",\"PoW/PoS\",\"PoW\",\"PoW\",\"PoW\",\"PoS\",\"PoS\",\"PoW\",\"PoW\",\"PoW/PoS\",\"PoW/PoS\",\"PoW\",\"PoW/PoS\",\"PoW\",\"PoW\",\"PoW\",\"PoS\",\"PoW\",\"PoW\",\"PoW/PoS\",\"PoW/PoS\",\"PoS\",\"PoW\",\"PoW\",\"PoW\",\"PoS\",\"PoS\",\"PoW and PoS\",\"PoW\",\"PoW\",\"PoW/PoS\",\"PoW\",\"PoW\",\"PoW\",\"PoW\",\"PoS\",\"POBh\",\"PoW + Hive\",\"PoW\",\"PoW\",\"PoW\",\"PoW/PoS\",\"PoA\",\"PoW/PoS\",\"PoW/PoS\",\"PoS\",\"PoS\",\"PoW\",\"PoW\",\"PoW\",\"PoW\",\"PoW/PoS\",\"PoW/PoS\",\"PoW/PoS\",\"PoW\",\"PoS\",\"PoW\",\"PoS\",\"PoS\",\"PoW/PoS\",\"DPoS\",\"PoW\",\"PoW/PoS\",\"PoS\",\"PoW\",\"PoS\",\"PoW/PoS\",\"PoW\",\"PoW\",\"PoS/PoW\",\"PoW\",\"PoS\",\"PoW\",\"PoW\",\"PoW\",\"PoW\",\"PoW/PoS\",\"PoS\",\"PoW\",\"PoW/PoS\",\"PoW\",\"PoW/PoS\",\"PoS\",\"HPoW\",\"PoS\",\"PoS\",\"PoS\",\"PoW\",\"PoW\",\"PoW\",\"PoW/PoS\",\"PoS\",\"PoW/PoS\",\"PoS\",\"PoW/PoS\",\"PoS\",\"PoW\",\"PoW/PoS\",\"PoW\",\"PoW\",\"PoW\",\"PoW\",\"PoS\",\"PoW/PoS\",\"PoS\",\"PoS\",\"PoW\",\"PoW/PoS\",\"PoS\",\"PoW\",\"PoW/PoS\",\"Zero-Knowledge Proof\",\"PoW\",\"DPOS\",\"PoW\",\"PoS\",\"PoW\",\"PoW\",\"Pos\",\"PoS\",\"PoW\",\"PoW/PoS\",\"PoW\",\"PoW\",\"PoS\",\"PoW\",\"PoW\",\"PoW/PoS\",\"PoW\",\"PoW/PoS\",\"PoW\",\"PoS\",\"PoW/PoS\",\"PoW\",\"PoS\",\"PoW/PoS\",\"PoW/PoS\",\"PoW/PoS\",\"PoW/PoS\",\"PoW\",\"PoW\",\"PoW\",\"PoW/PoS\",\"DPoS\",\"PoW/PoS\",\"PoW\",\"PoW/PoS\",\"PoW\",\"PoW/PoS\",\"PoW\",\"PoW/PoS\",\"PoS\",\"PoW/PoS\",\"PoW/PoS\",\"PoW\",\"PoW/PoS\",\"PoW/PoS\",\"PoW/PoS\",\"PoW\",\"PoW/PoS\",\"PoW\",\"PoW/PoS\",\"PoW\",\"PoW/PoS\",\"PoW/PoS\",\"PoS\",\"PoW\",\"PoW\",\"Proof of Trust\",\"PoW/PoS\",\"DPoS\",\"PoS\",\"PoW/PoS\",\"PoW/PoS\",\"PoW\",\"PoW/PoS\",\"PoW\",\"DPoS\",\"PoW\",\"DPoS\",\"PoS\",\"LPoS\",\"PoS\",\"DPoS\",\"PoS/LPoS\",\"DPoS\",\"PoW/PoS\",\"PoW\",\"PoW\",\"PoS\"],\"TotalCoinSupply\":[\"42\",\"532000000\",\"314159265359\",\"21000000\",\"0\",\"84000000\",\"22000000\",\"0\",\"210000000\",\"21000000\",\"3600570502\",\"21000000000\",\"22000000\",\"12500000\",\"21000000\",\"350000000\",\"20000000\",\"64000000\",\"16768584\",\"0\",\"2000000000\",\"384000000000\",\"169795588\",\"250000000\",\"100000000\",\"0\",\"247000000\",\"84000000\",\"48166000\",\"500000\",\"21000000 \",\"1000000\",\"13140000\",\"18000000\",\"40000000000\",\"4380000\",\"16555000000\",\"21000000000\",\"13500000000\",\"21000000 \",\"299792458\",\"32000000\",\"0\",\"0\",\"11235813\",\"336000000\",\"1420609614\",\"70000000\",\"72245700\",\"120000000\",\"0\",\"90600000000\",\"22000000\",\"21000000\",\"265420800\",\"20000000\",\"1350000\",\"100000000\",\"42000000\",\"200000000\",\"0\",\"10000000\",\"2419200000\",\"16180000\",\"0\",\"15000000000\",\"21000000\",\"337000000\",\"0\",\"3770000\",\"420000000\",\"98000000\",\"0\",\"21000000\",\"250000000\",\"51200000\",\"0\",\"1000\",\"888000000\",\"100000000\",\"47011968\",\"2300000000\",\"10000000\",\"42000000\",\"80000000\",\"250000\",\"0\",\"1600000000\",\"100000000\",\"23000000\",\"0\",\"84000000\",\"265420800\",\"5500000\",\"0\",\"45000000\",\"0\",\"1000000000\",\"184467440735\",\"10000000000\",\"2158812800\",\"500000000\",\"105120000\",\"68000000\",\"0\",\"1680000000\",\"0\",\"166386000\",\"12000000\",\"2628000\",\"500000000\",\"160000000\",\"0\",\"10000000\",\"1000000000\",\"1000000000\",\"20000000\",\"0\",\"0\",\"3371337\",\"20000000\",\"10000000000\",\"1840000000\",\"619478\",\"21000000\",\"92000000000\",\"0\",\"78000000\",\"33000000\",\"65789100\",\"53760000\",\"5060000\",\"21000000\",\"0\",\"210240000\",\"250000000\",\"100000000\",\"16906397\",\"50000000\",\"0\",\"1000000000\",\"26298000\",\"16000000\",\"21000000\",\"21000000\",\"210000000\",\"81962100\",\"22000000\",\"26550000000\",\"84000000\",\"10500000\",\"21626280000 \",\"0\",\"42000000\",\"221052632\",\"84000000\",\"30000000\",\"168351300\",\"24000000\",\"384000000\",\" 99000000000\",\"40000000\",\"2147483647\",\"20000000\",\"20000000\",\"25000000\",\"75000000\",\"222725000\",\"525000000\",\"90000000\",\"139000000\",\"616448\",\"33500000\",\"2000000000\",\"44333333\",\"100000000\",\"200000000\",\"25000000\",\"657000000\",\"200000000\",\"50000000\",\"90000000\",\"10000000\",\"21000000\",\"9736000\",\"3000000\",\"21000000\",\"1200000000\",\"0\",\"200000000\",\"0\",\"10638298\",\"3100000000\",\"30000000\",\"20000000000\",\"74000000\",\"0\",\"1500000000\",\"21400000\",\"39999898\",\"2500124\",\"100000000\",\"301000000\",\"7506000000\",\"26205539\",\"21000000\",\"125000000\",\"30000000\",\"10000000000\",\"500000000\",\"850000000\",\"3853326.77707314\",\"50000000\",\"38540000 \",\"42000000\",\"228000000\",\"20000000\",\"60000000\",\"20000000\",\"33000000\",\"76500000\",\"28000000\",\"650659833\",\"5000000\",\"21000000\",\"144000000\",\"32514916898\",\"13000000\",\"3315789\",\"15000000\",\"78835200\",\"2714286\",\"25000000\",\"9999999\",\"500000000\",\"21000000\",\"9354000\",\"20000000\",\"100000000000\",\"21933333\",\"185000000\",\"55000000\",\"110000000\",\"3360000\",\"14524851.4827\",\"1000000000\",\"17000000\",\"1000000000\",\"100000000 \",\"21000000\",\"34426423\",\"2232901\",\"100000000\",\"36900000\",\"110000000\",\"4000000000\",\"110290030\",\"100000000\",\"48252000\",\"400000000\",\"500000000\",\"21212121\",\"28600000\",\"1000000000\",\"75000000000\",\"40000000\",\"35520400\",\"2000000000\",\"2500000000\",\"30000000\",\"105000000\",\"90000000000\",\"200084200\",\"72000000\",\"100000000\",\"105000000\",\"50000000000\",\"0\",\"340282367\",\"30000000\",\"2000000000\",\"10000000\",\"100000000\",\"120000000\",\"100000000\",\"19276800\",\"30000000\",\" 75000000\",\"60000000\",\"18900000\",\"50000000000\",\"54000000\",\"18898187.6216583\",\"21000000\",\"200000000000\",\"5000000000\",\"137500000\",\"1100000000\",\"100000000\",\"21000000\",\"9507271\",\"17405891.19707116\",\"86712634466\",\"10500000000\",\"61599965\",\"0\",\"20000000\",\"84000000\",\"100000000\",\"100000000\",\"48252000\",\"4200000\",\"88888888\",\"91388946\",\"45000000000\",\"27000000\",\"21000000000\",\"400000000\",\"1800000000\",\"15733333\",\"27000000\",\"24000000\",\"21000000\",\"25000000000\",\"100000000\",\"1200000000\",\"60000000\",\"156306732.71\",\"21000000\",\"200000000\",\"100000000\",\"21000000\",\"14788275.991\",\"9000000000\",\"350000000\",\"45000000\",\"280000000\",\"31800000\",\"144000000\",\"500000000\",\"30000000000\",\"210000000\",\"660000000\",\"210000000\",\"85000000000\",\"12500000\",\"10000000000\",\"27716121\",\"20000000\",\"550000000\",\"999481516\",\"50000000000\",\"150000000\",\"4999999999\",\"50000000\",\" 90000000000\",\"19800000\",\"21000000\",\"120000000\",\"500000000\",\"64000000\",\"900000000\",\"4000000\",\"21000000\",\"23000000\",\"20166000\",\"23000000\",\"25000000\",\"1618033\",\"30000000\",\"1000000000000\",\"16600000\",\"232000000\",\"336000000\",\"10000000000\",\"100000000\",\"1100000000\",\"800000000\",\"5200000000\",\"840000000\",\"40000000\",\"18406979840\",\"500000000\",\"19340594\",\"252460800\",\"25000000\",\"60000000\",\"124000000\",\"1000000000\",\"6500000000\",\"1000000000\",\"21000000\",\"25000000\",\"50000000\",\"3000000\",\"5000000\",\"70000000\",\"500000000\",\"300000000\",\"21000000\",\"88000000\",\"30000000\",\"100000000\",\"100000000\",\"200000000\",\"80000000\",\"18400000\",\"45000000\",\"5121951220\",\"21000000\",\"26280000\",\"21000000\",\"18000000\",\"26000000\",\"10500000\",\"600000518\",\"150000000\",\"184000000000\",\"10200000000\",\"44000000\",\"168000000\",\"100000000\",\"1000000000\",\"84000000\",\"90000000\",\"92000000000\",\"650000000 \",\"100262205\",\"18081806 \",\"22075700\",\"21000000\",\"21000000\",\"82546564\",\"21000000\",\"5151000\",\"16880000000\",\"52500000\",\"100000000\",\"22105263\",\"1000000000\",\"1750000000\",\"88188888\",\"210000000\",\"184470000000\",\"55000000\",\"50000000\",\"260000000\",\"210000000\",\"2100000000\",\"366000000\",\"100000000\",\"25000000\",\"18000000000\",\"1000000000\",\"100000000\",\"1000000000\",\"7600000000\",\"50000000\",\"84000000\",\"21000000\",\"70000000000\",\"0\",\"8080000000\",\"54000000\",\"105120001.44\",\"25228800\",\"105000000\",\"21000000\",\"120000000\",\"21000000\",\"262800000\",\"19035999\",\"30886000\",\"13370000\",\"74800000000\",\"100000000\",\"19700000\",\"84000000\",\"500000000\",\"5000000000\",\"420000000\",\"64000000\",\"2100000\",\"168000000\",\"30000000\",\"1000000000\",\"35000000000\",\"98100000000\",\"0\",\"4000000000\",\"200000000\",\"7000000000\",\"54256119\",\"21000000\",\"0\",\"500000000\",\"1000000000\",\"10500000000\",\"190000000\",\"1000000000\",\"42000000\",\"15000000\",\"50000000000\",\"400000000\",\"105000000\",\"208000000\",\"160000000\",\"9000000\",\"5000000\",\"182000000\",\"16504333\",\"105000000\",\"159918400\",\"10008835635\",\"300000000\",\"60168145\",\"2800000\",\"120000\",\"2100000000\",\"0\",\"24487944\",\"0\",\"1000000000\",\"100000000\",\"8634140\",\"990000000000\",\"1000000000\",\"2000000000\",\"250000000\",\"1400222610\",\"21000000\",\"1000000\"],\"TotalCoinsMined\":{\"__ndarray__\":\"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\",\"dtype\":\"float64\",\"order\":\"little\",\"shape\":[532]}},\"selected\":{\"id\":\"1507\"},\"selection_policy\":{\"id\":\"1556\"}},\"id\":\"1506\",\"type\":\"ColumnDataSource\"},{\"attributes\":{\"editor\":{\"id\":\"1529\"},\"field\":\"PC1\",\"formatter\":{\"id\":\"1528\"},\"title\":\"PC1\"},\"id\":\"1530\",\"type\":\"TableColumn\"}],\"root_ids\":[\"1504\"]},\"title\":\"Bokeh Application\",\"version\":\"2.4.3\"}};\n",
       "    var render_items = [{\"docid\":\"81aeed7d-e0b9-4f07-83b1-6ed1e6dbf75f\",\"root_ids\":[\"1504\"],\"roots\":{\"1504\":\"1b4bf347-4844-42a4-8a40-40ca6e838be6\"}}];\n",
       "    root.Bokeh.embed.embed_items_notebook(docs_json, render_items);\n",
       "  }\n",
       "  if (root.Bokeh !== undefined && root.Bokeh.Panel !== undefined) {\n",
       "    embed_document(root);\n",
       "  } else {\n",
       "    var attempts = 0;\n",
       "    var timer = setInterval(function(root) {\n",
       "      if (root.Bokeh !== undefined && root.Bokeh.Panel !== undefined) {\n",
       "        clearInterval(timer);\n",
       "        embed_document(root);\n",
       "      } else if (document.readyState == \"complete\") {\n",
       "        attempts++;\n",
       "        if (attempts > 200) {\n",
       "          clearInterval(timer);\n",
       "          console.log(\"Bokeh: ERROR: Unable to run BokehJS code because BokehJS library is missing\");\n",
       "        }\n",
       "      }\n",
       "    }, 25, root)\n",
       "  }\n",
       "})(window);</script>"
      ],
      "text/plain": [
       ":Table   [Algorithm,ProofType,TotalCoinsMined,TotalCoinSupply,PC1,PC2,PC3,CoinName,Class]"
      ]
     },
     "execution_count": 125,
     "metadata": {
      "application/vnd.holoviews_exec.v0+json": {
       "id": "1504"
      }
     },
     "output_type": "execute_result"
    }
   ],
   "source": [
    "# Create a table with tradable cryptocurrencies.\n",
    "clustered_df.hvplot.table()"
   ]
  },
  {
   "cell_type": "code",
   "execution_count": 126,
   "metadata": {},
   "outputs": [
    {
     "name": "stdout",
     "output_type": "stream",
     "text": [
      "There are 532 tradable cryptocurrencies.\n"
     ]
    }
   ],
   "source": [
    "# Print the total number of tradable cryptocurrencies.\n",
    "trade_count = clustered_df['CoinName'].count()\n",
    "print (f\"There are {trade_count} tradable cryptocurrencies.\")"
   ]
  },
  {
   "cell_type": "code",
   "execution_count": 127,
   "metadata": {},
   "outputs": [
    {
     "data": {
      "text/plain": [
       "array([[4.20000000e-11, 0.00000000e+00],\n",
       "       [5.32000000e-04, 1.06585544e-03],\n",
       "       [3.14159265e-01, 2.95755135e-02],\n",
       "       ...,\n",
       "       [1.40022261e-03, 9.90135079e-04],\n",
       "       [2.10000000e-05, 7.37028150e-06],\n",
       "       [1.00000000e-06, 1.29582282e-07]])"
      ]
     },
     "execution_count": 127,
     "metadata": {},
     "output_type": "execute_result"
    }
   ],
   "source": [
    "# Scaling data to create the scatter plot with tradable cryptocurrencies.\n",
    "X_scaled = clustered_df[['TotalCoinSupply', 'TotalCoinsMined']]\n",
    "X_scaled = MinMaxScaler().fit_transform(X_scaled)\n",
    "X_scaled"
   ]
  },
  {
   "cell_type": "code",
   "execution_count": 132,
   "metadata": {},
   "outputs": [
    {
     "data": {
      "text/html": [
       "<div>\n",
       "<style scoped>\n",
       "    .dataframe tbody tr th:only-of-type {\n",
       "        vertical-align: middle;\n",
       "    }\n",
       "\n",
       "    .dataframe tbody tr th {\n",
       "        vertical-align: top;\n",
       "    }\n",
       "\n",
       "    .dataframe thead th {\n",
       "        text-align: right;\n",
       "    }\n",
       "</style>\n",
       "<table border=\"1\" class=\"dataframe\">\n",
       "  <thead>\n",
       "    <tr style=\"text-align: right;\">\n",
       "      <th></th>\n",
       "      <th>TotalCoinSupply</th>\n",
       "      <th>TotalCoinsMined</th>\n",
       "      <th>CoinName</th>\n",
       "      <th>Class</th>\n",
       "    </tr>\n",
       "  </thead>\n",
       "  <tbody>\n",
       "    <tr>\n",
       "      <th>42</th>\n",
       "      <td>4.200000e-11</td>\n",
       "      <td>0.000000e+00</td>\n",
       "      <td>42 Coin</td>\n",
       "      <td>0</td>\n",
       "    </tr>\n",
       "    <tr>\n",
       "      <th>404</th>\n",
       "      <td>5.320000e-04</td>\n",
       "      <td>1.065855e-03</td>\n",
       "      <td>404Coin</td>\n",
       "      <td>0</td>\n",
       "    </tr>\n",
       "    <tr>\n",
       "      <th>1337</th>\n",
       "      <td>3.141593e-01</td>\n",
       "      <td>2.957551e-02</td>\n",
       "      <td>EliteCoin</td>\n",
       "      <td>0</td>\n",
       "    </tr>\n",
       "    <tr>\n",
       "      <th>BTC</th>\n",
       "      <td>2.100000e-05</td>\n",
       "      <td>1.810842e-05</td>\n",
       "      <td>Bitcoin</td>\n",
       "      <td>1</td>\n",
       "    </tr>\n",
       "    <tr>\n",
       "      <th>ETH</th>\n",
       "      <td>0.000000e+00</td>\n",
       "      <td>1.087731e-04</td>\n",
       "      <td>Ethereum</td>\n",
       "      <td>1</td>\n",
       "    </tr>\n",
       "    <tr>\n",
       "      <th>LTC</th>\n",
       "      <td>8.400000e-05</td>\n",
       "      <td>6.367669e-05</td>\n",
       "      <td>Litecoin</td>\n",
       "      <td>1</td>\n",
       "    </tr>\n",
       "    <tr>\n",
       "      <th>DASH</th>\n",
       "      <td>2.200000e-05</td>\n",
       "      <td>9.122581e-06</td>\n",
       "      <td>Dash</td>\n",
       "      <td>0</td>\n",
       "    </tr>\n",
       "    <tr>\n",
       "      <th>XMR</th>\n",
       "      <td>0.000000e+00</td>\n",
       "      <td>1.737505e-05</td>\n",
       "      <td>Monero</td>\n",
       "      <td>1</td>\n",
       "    </tr>\n",
       "    <tr>\n",
       "      <th>ETC</th>\n",
       "      <td>2.100000e-04</td>\n",
       "      <td>1.145060e-04</td>\n",
       "      <td>Ethereum Classic</td>\n",
       "      <td>1</td>\n",
       "    </tr>\n",
       "    <tr>\n",
       "      <th>ZEC</th>\n",
       "      <td>2.100000e-05</td>\n",
       "      <td>7.457675e-06</td>\n",
       "      <td>ZCash</td>\n",
       "      <td>1</td>\n",
       "    </tr>\n",
       "    <tr>\n",
       "      <th>BTS</th>\n",
       "      <td>3.600571e-03</td>\n",
       "      <td>2.769294e-03</td>\n",
       "      <td>Bitshares</td>\n",
       "      <td>0</td>\n",
       "    </tr>\n",
       "    <tr>\n",
       "      <th>DGB</th>\n",
       "      <td>2.100000e-02</td>\n",
       "      <td>1.152156e-02</td>\n",
       "      <td>DigiByte</td>\n",
       "      <td>1</td>\n",
       "    </tr>\n",
       "    <tr>\n",
       "      <th>BTCD</th>\n",
       "      <td>2.200000e-05</td>\n",
       "      <td>1.301853e-06</td>\n",
       "      <td>BitcoinDark</td>\n",
       "      <td>0</td>\n",
       "    </tr>\n",
       "    <tr>\n",
       "      <th>XPY</th>\n",
       "      <td>1.250000e-05</td>\n",
       "      <td>1.211660e-05</td>\n",
       "      <td>PayCoin</td>\n",
       "      <td>0</td>\n",
       "    </tr>\n",
       "    <tr>\n",
       "      <th>PRC</th>\n",
       "      <td>2.100000e-05</td>\n",
       "      <td>5.826600e-06</td>\n",
       "      <td>ProsperCoin</td>\n",
       "      <td>1</td>\n",
       "    </tr>\n",
       "    <tr>\n",
       "      <th>KOBO</th>\n",
       "      <td>3.500000e-04</td>\n",
       "      <td>2.580079e-05</td>\n",
       "      <td>KoboCoin</td>\n",
       "      <td>0</td>\n",
       "    </tr>\n",
       "    <tr>\n",
       "      <th>SPR</th>\n",
       "      <td>2.000000e-05</td>\n",
       "      <td>1.126244e-05</td>\n",
       "      <td>Spreadcoin</td>\n",
       "      <td>1</td>\n",
       "    </tr>\n",
       "    <tr>\n",
       "      <th>ARG</th>\n",
       "      <td>6.400000e-05</td>\n",
       "      <td>1.232918e-05</td>\n",
       "      <td>Argentum</td>\n",
       "      <td>1</td>\n",
       "    </tr>\n",
       "    <tr>\n",
       "      <th>AUR</th>\n",
       "      <td>1.676858e-05</td>\n",
       "      <td>1.831845e-05</td>\n",
       "      <td>Aurora Coin</td>\n",
       "      <td>0</td>\n",
       "    </tr>\n",
       "    <tr>\n",
       "      <th>BLU</th>\n",
       "      <td>0.000000e+00</td>\n",
       "      <td>6.418496e-04</td>\n",
       "      <td>BlueCoin</td>\n",
       "      <td>0</td>\n",
       "    </tr>\n",
       "    <tr>\n",
       "      <th>XMY</th>\n",
       "      <td>2.000000e-03</td>\n",
       "      <td>1.705327e-03</td>\n",
       "      <td>MyriadCoin</td>\n",
       "      <td>1</td>\n",
       "    </tr>\n",
       "    <tr>\n",
       "      <th>MOON</th>\n",
       "      <td>3.840000e-01</td>\n",
       "      <td>4.646522e-11</td>\n",
       "      <td>MoonCoin</td>\n",
       "      <td>1</td>\n",
       "    </tr>\n",
       "    <tr>\n",
       "      <th>ZET</th>\n",
       "      <td>1.697956e-04</td>\n",
       "      <td>1.719255e-04</td>\n",
       "      <td>ZetaCoin</td>\n",
       "      <td>1</td>\n",
       "    </tr>\n",
       "    <tr>\n",
       "      <th>SXC</th>\n",
       "      <td>2.500000e-04</td>\n",
       "      <td>1.302448e-04</td>\n",
       "      <td>SexCoin</td>\n",
       "      <td>1</td>\n",
       "    </tr>\n",
       "    <tr>\n",
       "      <th>QTL</th>\n",
       "      <td>1.000000e-04</td>\n",
       "      <td>7.432158e-06</td>\n",
       "      <td>Quatloo</td>\n",
       "      <td>1</td>\n",
       "    </tr>\n",
       "    <tr>\n",
       "      <th>ENRG</th>\n",
       "      <td>0.000000e+00</td>\n",
       "      <td>1.243072e-04</td>\n",
       "      <td>EnergyCoin</td>\n",
       "      <td>0</td>\n",
       "    </tr>\n",
       "    <tr>\n",
       "      <th>QRK</th>\n",
       "      <td>2.470000e-04</td>\n",
       "      <td>2.621819e-04</td>\n",
       "      <td>QuarkCoin</td>\n",
       "      <td>1</td>\n",
       "    </tr>\n",
       "    <tr>\n",
       "      <th>RIC</th>\n",
       "      <td>8.400000e-05</td>\n",
       "      <td>5.004960e-05</td>\n",
       "      <td>Riecoin</td>\n",
       "      <td>1</td>\n",
       "    </tr>\n",
       "    <tr>\n",
       "      <th>DGC</th>\n",
       "      <td>4.816600e-05</td>\n",
       "      <td>3.378114e-05</td>\n",
       "      <td>Digitalcoin</td>\n",
       "      <td>1</td>\n",
       "    </tr>\n",
       "    <tr>\n",
       "      <th>BTB</th>\n",
       "      <td>5.000000e-07</td>\n",
       "      <td>4.296764e-08</td>\n",
       "      <td>BitBar</td>\n",
       "      <td>0</td>\n",
       "    </tr>\n",
       "    <tr>\n",
       "      <th>CAT</th>\n",
       "      <td>2.100000e-05</td>\n",
       "      <td>7.292926e-06</td>\n",
       "      <td>Catcoin</td>\n",
       "      <td>1</td>\n",
       "    </tr>\n",
       "    <tr>\n",
       "      <th>CBX</th>\n",
       "      <td>1.000000e-06</td>\n",
       "      <td>1.049582e-06</td>\n",
       "      <td>CryptoBullion</td>\n",
       "      <td>0</td>\n",
       "    </tr>\n",
       "    <tr>\n",
       "      <th>CCN</th>\n",
       "      <td>1.314000e-05</td>\n",
       "      <td>4.751405e-06</td>\n",
       "      <td>CannaCoin</td>\n",
       "      <td>1</td>\n",
       "    </tr>\n",
       "    <tr>\n",
       "      <th>CRYPT</th>\n",
       "      <td>1.800000e-05</td>\n",
       "      <td>5.047476e-06</td>\n",
       "      <td>CryptCoin</td>\n",
       "      <td>1</td>\n",
       "    </tr>\n",
       "    <tr>\n",
       "      <th>CSC</th>\n",
       "      <td>4.000000e-02</td>\n",
       "      <td>4.040450e-02</td>\n",
       "      <td>CasinoCoin</td>\n",
       "      <td>0</td>\n",
       "    </tr>\n",
       "    <tr>\n",
       "      <th>DMD</th>\n",
       "      <td>4.380000e-06</td>\n",
       "      <td>3.337862e-06</td>\n",
       "      <td>Diamond</td>\n",
       "      <td>0</td>\n",
       "    </tr>\n",
       "    <tr>\n",
       "      <th>XVG</th>\n",
       "      <td>1.655500e-02</td>\n",
       "      <td>1.609062e-02</td>\n",
       "      <td>Verge</td>\n",
       "      <td>1</td>\n",
       "    </tr>\n",
       "    <tr>\n",
       "      <th>DVC</th>\n",
       "      <td>2.100000e-02</td>\n",
       "      <td>1.896371e-02</td>\n",
       "      <td>DevCoin</td>\n",
       "      <td>1</td>\n",
       "    </tr>\n",
       "    <tr>\n",
       "      <th>EAC</th>\n",
       "      <td>1.350000e-02</td>\n",
       "      <td>1.266582e-02</td>\n",
       "      <td>EarthCoin</td>\n",
       "      <td>1</td>\n",
       "    </tr>\n",
       "    <tr>\n",
       "      <th>EFL</th>\n",
       "      <td>2.100000e-05</td>\n",
       "      <td>2.112189e-05</td>\n",
       "      <td>E-Gulden</td>\n",
       "      <td>1</td>\n",
       "    </tr>\n",
       "  </tbody>\n",
       "</table>\n",
       "</div>"
      ],
      "text/plain": [
       "       TotalCoinSupply  TotalCoinsMined          CoinName  Class\n",
       "42        4.200000e-11     0.000000e+00           42 Coin      0\n",
       "404       5.320000e-04     1.065855e-03           404Coin      0\n",
       "1337      3.141593e-01     2.957551e-02         EliteCoin      0\n",
       "BTC       2.100000e-05     1.810842e-05           Bitcoin      1\n",
       "ETH       0.000000e+00     1.087731e-04          Ethereum      1\n",
       "LTC       8.400000e-05     6.367669e-05          Litecoin      1\n",
       "DASH      2.200000e-05     9.122581e-06              Dash      0\n",
       "XMR       0.000000e+00     1.737505e-05            Monero      1\n",
       "ETC       2.100000e-04     1.145060e-04  Ethereum Classic      1\n",
       "ZEC       2.100000e-05     7.457675e-06             ZCash      1\n",
       "BTS       3.600571e-03     2.769294e-03         Bitshares      0\n",
       "DGB       2.100000e-02     1.152156e-02          DigiByte      1\n",
       "BTCD      2.200000e-05     1.301853e-06       BitcoinDark      0\n",
       "XPY       1.250000e-05     1.211660e-05           PayCoin      0\n",
       "PRC       2.100000e-05     5.826600e-06       ProsperCoin      1\n",
       "KOBO      3.500000e-04     2.580079e-05          KoboCoin      0\n",
       "SPR       2.000000e-05     1.126244e-05        Spreadcoin      1\n",
       "ARG       6.400000e-05     1.232918e-05          Argentum      1\n",
       "AUR       1.676858e-05     1.831845e-05       Aurora Coin      0\n",
       "BLU       0.000000e+00     6.418496e-04          BlueCoin      0\n",
       "XMY       2.000000e-03     1.705327e-03        MyriadCoin      1\n",
       "MOON      3.840000e-01     4.646522e-11          MoonCoin      1\n",
       "ZET       1.697956e-04     1.719255e-04          ZetaCoin      1\n",
       "SXC       2.500000e-04     1.302448e-04           SexCoin      1\n",
       "QTL       1.000000e-04     7.432158e-06           Quatloo      1\n",
       "ENRG      0.000000e+00     1.243072e-04        EnergyCoin      0\n",
       "QRK       2.470000e-04     2.621819e-04         QuarkCoin      1\n",
       "RIC       8.400000e-05     5.004960e-05           Riecoin      1\n",
       "DGC       4.816600e-05     3.378114e-05      Digitalcoin       1\n",
       "BTB       5.000000e-07     4.296764e-08            BitBar      0\n",
       "CAT       2.100000e-05     7.292926e-06           Catcoin      1\n",
       "CBX       1.000000e-06     1.049582e-06     CryptoBullion      0\n",
       "CCN       1.314000e-05     4.751405e-06         CannaCoin      1\n",
       "CRYPT     1.800000e-05     5.047476e-06         CryptCoin      1\n",
       "CSC       4.000000e-02     4.040450e-02        CasinoCoin      0\n",
       "DMD       4.380000e-06     3.337862e-06           Diamond      0\n",
       "XVG       1.655500e-02     1.609062e-02             Verge      1\n",
       "DVC       2.100000e-02     1.896371e-02           DevCoin      1\n",
       "EAC       1.350000e-02     1.266582e-02         EarthCoin      1\n",
       "EFL       2.100000e-05     2.112189e-05          E-Gulden      1"
      ]
     },
     "execution_count": 132,
     "metadata": {},
     "output_type": "execute_result"
    }
   ],
   "source": [
    "# Create a new DataFrame that has the scaled data with the clustered_df DataFrame index.\n",
    "plot_df = pd.DataFrame(X_scaled, columns=['TotalCoinSupply', 'TotalCoinsMined'], index=clustered_df.index)\n",
    "# Add the \"CoinName\" column from the clustered_df DataFrame to the new DataFrame.\n",
    "plot_df['CoinName'] = clustered_df['CoinName']\n",
    "# Add the \"Class\" column from the clustered_df DataFrame to the new DataFrame. \n",
    "plot_df['Class'] = clustered_df['Class']\n",
    "plot_df.head(40)"
   ]
  },
  {
   "cell_type": "code",
   "execution_count": 138,
   "metadata": {},
   "outputs": [
    {
     "data": {},
     "metadata": {},
     "output_type": "display_data"
    },
    {
     "data": {
      "application/vnd.holoviews_exec.v0+json": "",
      "text/html": [
       "<div id='2087'>\n",
       "  <div class=\"bk-root\" id=\"75d4c3d6-5a02-40bf-91af-829d85940e66\" data-root-id=\"2087\"></div>\n",
       "</div>\n",
       "<script type=\"application/javascript\">(function(root) {\n",
       "  function embed_document(root) {\n",
       "    var docs_json = {\"b2da79d2-102a-405e-9aeb-131abcb36aad\":{\"defs\":[{\"extends\":null,\"module\":null,\"name\":\"ReactiveHTML1\",\"overrides\":[],\"properties\":[]},{\"extends\":null,\"module\":null,\"name\":\"FlexBox1\",\"overrides\":[],\"properties\":[{\"default\":\"flex-start\",\"kind\":null,\"name\":\"align_content\"},{\"default\":\"flex-start\",\"kind\":null,\"name\":\"align_items\"},{\"default\":\"row\",\"kind\":null,\"name\":\"flex_direction\"},{\"default\":\"wrap\",\"kind\":null,\"name\":\"flex_wrap\"},{\"default\":\"flex-start\",\"kind\":null,\"name\":\"justify_content\"}]},{\"extends\":null,\"module\":null,\"name\":\"GridStack1\",\"overrides\":[],\"properties\":[{\"default\":\"warn\",\"kind\":null,\"name\":\"mode\"},{\"default\":null,\"kind\":null,\"name\":\"ncols\"},{\"default\":null,\"kind\":null,\"name\":\"nrows\"},{\"default\":true,\"kind\":null,\"name\":\"allow_resize\"},{\"default\":true,\"kind\":null,\"name\":\"allow_drag\"},{\"default\":[],\"kind\":null,\"name\":\"state\"}]},{\"extends\":null,\"module\":null,\"name\":\"click1\",\"overrides\":[],\"properties\":[{\"default\":\"\",\"kind\":null,\"name\":\"terminal_output\"},{\"default\":\"\",\"kind\":null,\"name\":\"debug_name\"},{\"default\":0,\"kind\":null,\"name\":\"clears\"}]},{\"extends\":null,\"module\":null,\"name\":\"NotificationAreaBase1\",\"overrides\":[],\"properties\":[{\"default\":\"bottom-right\",\"kind\":null,\"name\":\"position\"},{\"default\":0,\"kind\":null,\"name\":\"_clear\"}]},{\"extends\":null,\"module\":null,\"name\":\"NotificationArea1\",\"overrides\":[],\"properties\":[{\"default\":[],\"kind\":null,\"name\":\"notifications\"},{\"default\":\"bottom-right\",\"kind\":null,\"name\":\"position\"},{\"default\":0,\"kind\":null,\"name\":\"_clear\"},{\"default\":[{\"background\":\"#ffc107\",\"icon\":{\"className\":\"fas fa-exclamation-triangle\",\"color\":\"white\",\"tagName\":\"i\"},\"type\":\"warning\"},{\"background\":\"#007bff\",\"icon\":{\"className\":\"fas fa-info-circle\",\"color\":\"white\",\"tagName\":\"i\"},\"type\":\"info\"}],\"kind\":null,\"name\":\"types\"}]},{\"extends\":null,\"module\":null,\"name\":\"Notification\",\"overrides\":[],\"properties\":[{\"default\":null,\"kind\":null,\"name\":\"background\"},{\"default\":3000,\"kind\":null,\"name\":\"duration\"},{\"default\":null,\"kind\":null,\"name\":\"icon\"},{\"default\":\"\",\"kind\":null,\"name\":\"message\"},{\"default\":null,\"kind\":null,\"name\":\"notification_type\"},{\"default\":false,\"kind\":null,\"name\":\"_destroyed\"}]},{\"extends\":null,\"module\":null,\"name\":\"TemplateActions1\",\"overrides\":[],\"properties\":[{\"default\":0,\"kind\":null,\"name\":\"open_modal\"},{\"default\":0,\"kind\":null,\"name\":\"close_modal\"}]},{\"extends\":null,\"module\":null,\"name\":\"MaterialTemplateActions1\",\"overrides\":[],\"properties\":[{\"default\":0,\"kind\":null,\"name\":\"open_modal\"},{\"default\":0,\"kind\":null,\"name\":\"close_modal\"}]}],\"roots\":{\"references\":[{\"attributes\":{},\"id\":\"2113\",\"type\":\"PanTool\"},{\"attributes\":{},\"id\":\"2116\",\"type\":\"ResetTool\"},{\"attributes\":{\"click_policy\":\"mute\",\"coordinates\":null,\"group\":null,\"items\":[{\"id\":\"2150\"},{\"id\":\"2172\"},{\"id\":\"2196\"},{\"id\":\"2222\"}],\"location\":[0,0],\"title\":\"Class\"},\"id\":\"2149\",\"type\":\"Legend\"},{\"attributes\":{},\"id\":\"2114\",\"type\":\"WheelZoomTool\"},{\"attributes\":{\"coordinates\":null,\"data_source\":{\"id\":\"2174\"},\"glyph\":{\"id\":\"2177\"},\"group\":null,\"hover_glyph\":null,\"muted_glyph\":{\"id\":\"2179\"},\"nonselection_glyph\":{\"id\":\"2178\"},\"selection_glyph\":{\"id\":\"2197\"},\"view\":{\"id\":\"2181\"}},\"id\":\"2180\",\"type\":\"GlyphRenderer\"},{\"attributes\":{\"overlay\":{\"id\":\"2117\"}},\"id\":\"2115\",\"type\":\"BoxZoomTool\"},{\"attributes\":{\"coordinates\":null,\"data_source\":{\"id\":\"2131\"},\"glyph\":{\"id\":\"2134\"},\"group\":null,\"hover_glyph\":null,\"muted_glyph\":{\"id\":\"2136\"},\"nonselection_glyph\":{\"id\":\"2135\"},\"selection_glyph\":{\"id\":\"2151\"},\"view\":{\"id\":\"2138\"}},\"id\":\"2137\",\"type\":\"GlyphRenderer\"},{\"attributes\":{\"fill_alpha\":{\"value\":0.2},\"fill_color\":{\"value\":\"#6d904f\"},\"hatch_alpha\":{\"value\":0.2},\"hatch_color\":{\"value\":\"#6d904f\"},\"line_alpha\":{\"value\":0.2},\"line_color\":{\"value\":\"#6d904f\"},\"size\":{\"value\":5.477225575051661},\"x\":{\"field\":\"TotalCoinsMined\"},\"y\":{\"field\":\"TotalCoinSupply\"}},\"id\":\"2203\",\"type\":\"Scatter\"},{\"attributes\":{},\"id\":\"2193\",\"type\":\"UnionRenderers\"},{\"attributes\":{\"fill_color\":{\"value\":\"#fc4f30\"},\"hatch_color\":{\"value\":\"#fc4f30\"},\"line_color\":{\"value\":\"#fc4f30\"},\"size\":{\"value\":5.477225575051661},\"x\":{\"field\":\"TotalCoinsMined\"},\"y\":{\"field\":\"TotalCoinSupply\"}},\"id\":\"2155\",\"type\":\"Scatter\"},{\"attributes\":{\"below\":[{\"id\":\"2104\"}],\"center\":[{\"id\":\"2107\"},{\"id\":\"2111\"}],\"height\":300,\"left\":[{\"id\":\"2108\"}],\"margin\":[5,5,5,5],\"min_border_bottom\":10,\"min_border_left\":10,\"min_border_right\":10,\"min_border_top\":10,\"renderers\":[{\"id\":\"2137\"},{\"id\":\"2158\"},{\"id\":\"2180\"},{\"id\":\"2204\"}],\"right\":[{\"id\":\"2149\"}],\"sizing_mode\":\"fixed\",\"title\":{\"id\":\"2096\"},\"toolbar\":{\"id\":\"2118\"},\"width\":700,\"x_range\":{\"id\":\"2089\"},\"x_scale\":{\"id\":\"2100\"},\"y_range\":{\"id\":\"2090\"},\"y_scale\":{\"id\":\"2102\"}},\"id\":\"2095\",\"subtype\":\"Figure\",\"type\":\"Plot\"},{\"attributes\":{},\"id\":\"2132\",\"type\":\"Selection\"},{\"attributes\":{\"tools\":[{\"id\":\"2091\"},{\"id\":\"2112\"},{\"id\":\"2113\"},{\"id\":\"2114\"},{\"id\":\"2115\"},{\"id\":\"2116\"}]},\"id\":\"2118\",\"type\":\"Toolbar\"},{\"attributes\":{},\"id\":\"2105\",\"type\":\"BasicTicker\"},{\"attributes\":{\"fill_alpha\":{\"value\":0.1},\"fill_color\":{\"value\":\"#fc4f30\"},\"hatch_alpha\":{\"value\":0.1},\"hatch_color\":{\"value\":\"#fc4f30\"},\"line_alpha\":{\"value\":0.1},\"line_color\":{\"value\":\"#fc4f30\"},\"size\":{\"value\":5.477225575051661},\"x\":{\"field\":\"TotalCoinsMined\"},\"y\":{\"field\":\"TotalCoinSupply\"}},\"id\":\"2156\",\"type\":\"Scatter\"},{\"attributes\":{\"label\":{\"value\":\"0\"},\"renderers\":[{\"id\":\"2137\"}]},\"id\":\"2150\",\"type\":\"LegendItem\"},{\"attributes\":{\"bottom_units\":\"screen\",\"coordinates\":null,\"fill_alpha\":0.5,\"fill_color\":\"lightgrey\",\"group\":null,\"left_units\":\"screen\",\"level\":\"overlay\",\"line_alpha\":1.0,\"line_color\":\"black\",\"line_dash\":[4,4],\"line_width\":2,\"right_units\":\"screen\",\"syncable\":false,\"top_units\":\"screen\"},\"id\":\"2117\",\"type\":\"BoxAnnotation\"},{\"attributes\":{},\"id\":\"2169\",\"type\":\"UnionRenderers\"},{\"attributes\":{\"margin\":[5,5,5,5],\"name\":\"HSpacer02165\",\"sizing_mode\":\"stretch_width\"},\"id\":\"2088\",\"type\":\"Spacer\"},{\"attributes\":{},\"id\":\"2109\",\"type\":\"BasicTicker\"},{\"attributes\":{\"label\":{\"value\":\"1\"},\"renderers\":[{\"id\":\"2158\"}]},\"id\":\"2172\",\"type\":\"LegendItem\"},{\"attributes\":{},\"id\":\"2127\",\"type\":\"AllLabels\"},{\"attributes\":{\"angle\":{\"value\":0.0},\"fill_alpha\":{\"value\":1.0},\"fill_color\":{\"value\":\"#fc4f30\"},\"hatch_alpha\":{\"value\":1.0},\"hatch_color\":{\"value\":\"#fc4f30\"},\"hatch_scale\":{\"value\":12.0},\"hatch_weight\":{\"value\":1.0},\"line_alpha\":{\"value\":1.0},\"line_cap\":{\"value\":\"butt\"},\"line_color\":{\"value\":\"#fc4f30\"},\"line_dash\":{\"value\":[]},\"line_dash_offset\":{\"value\":0},\"line_join\":{\"value\":\"bevel\"},\"line_width\":{\"value\":1},\"marker\":{\"value\":\"circle\"},\"size\":{\"value\":5.477225575051661},\"x\":{\"field\":\"TotalCoinsMined\"},\"y\":{\"field\":\"TotalCoinSupply\"}},\"id\":\"2173\",\"type\":\"Scatter\"},{\"attributes\":{\"fill_alpha\":{\"value\":0.1},\"fill_color\":{\"value\":\"#6d904f\"},\"hatch_alpha\":{\"value\":0.1},\"hatch_color\":{\"value\":\"#6d904f\"},\"line_alpha\":{\"value\":0.1},\"line_color\":{\"value\":\"#6d904f\"},\"size\":{\"value\":5.477225575051661},\"x\":{\"field\":\"TotalCoinsMined\"},\"y\":{\"field\":\"TotalCoinSupply\"}},\"id\":\"2202\",\"type\":\"Scatter\"},{\"attributes\":{\"source\":{\"id\":\"2174\"}},\"id\":\"2181\",\"type\":\"CDSView\"},{\"attributes\":{\"children\":[{\"id\":\"2088\"},{\"id\":\"2095\"},{\"id\":\"2240\"}],\"margin\":[0,0,0,0],\"name\":\"Row02161\",\"tags\":[\"embedded\"]},\"id\":\"2087\",\"type\":\"Row\"},{\"attributes\":{\"data\":{\"Class\":[3,3,3,3,3],\"CoinName\":[\"BiblePay\",\"LitecoinCash\",\"Poa Network\",\"Acute Angle Cloud\",\"Waves\"],\"TotalCoinSupply\":{\"__ndarray__\":\"lPYGX5hMdT+8eapDboZLP4RaKOGWizA//Knx0k1iUD8sQxzr4jYaPw==\",\"dtype\":\"float64\",\"order\":\"little\",\"shape\":[5]},\"TotalCoinsMined\":{\"__ndarray__\":\"j1gNkdpTXT+QpMXySiFFP5wZJXiPEis/ekNDBbiMUD/7RX5gv3oaPw==\",\"dtype\":\"float64\",\"order\":\"little\",\"shape\":[5]}},\"selected\":{\"id\":\"2199\"},\"selection_policy\":{\"id\":\"2219\"}},\"id\":\"2198\",\"type\":\"ColumnDataSource\"},{\"attributes\":{\"coordinates\":null,\"data_source\":{\"id\":\"2152\"},\"glyph\":{\"id\":\"2155\"},\"group\":null,\"hover_glyph\":null,\"muted_glyph\":{\"id\":\"2157\"},\"nonselection_glyph\":{\"id\":\"2156\"},\"selection_glyph\":{\"id\":\"2173\"},\"view\":{\"id\":\"2159\"}},\"id\":\"2158\",\"type\":\"GlyphRenderer\"},{\"attributes\":{},\"id\":\"2126\",\"type\":\"BasicTickFormatter\"},{\"attributes\":{},\"id\":\"2100\",\"type\":\"LinearScale\"},{\"attributes\":{\"source\":{\"id\":\"2131\"}},\"id\":\"2138\",\"type\":\"CDSView\"},{\"attributes\":{\"label\":{\"value\":\"2\"},\"renderers\":[{\"id\":\"2180\"}]},\"id\":\"2196\",\"type\":\"LegendItem\"},{\"attributes\":{\"fill_color\":{\"value\":\"#e5ae38\"},\"hatch_color\":{\"value\":\"#e5ae38\"},\"line_color\":{\"value\":\"#e5ae38\"},\"size\":{\"value\":5.477225575051661},\"x\":{\"field\":\"TotalCoinsMined\"},\"y\":{\"field\":\"TotalCoinSupply\"}},\"id\":\"2177\",\"type\":\"Scatter\"},{\"attributes\":{\"angle\":{\"value\":0.0},\"fill_alpha\":{\"value\":1.0},\"fill_color\":{\"value\":\"#30a2da\"},\"hatch_alpha\":{\"value\":1.0},\"hatch_color\":{\"value\":\"#30a2da\"},\"hatch_scale\":{\"value\":12.0},\"hatch_weight\":{\"value\":1.0},\"line_alpha\":{\"value\":1.0},\"line_cap\":{\"value\":\"butt\"},\"line_color\":{\"value\":\"#30a2da\"},\"line_dash\":{\"value\":[]},\"line_dash_offset\":{\"value\":0},\"line_join\":{\"value\":\"bevel\"},\"line_width\":{\"value\":1},\"marker\":{\"value\":\"circle\"},\"size\":{\"value\":5.477225575051661},\"x\":{\"field\":\"TotalCoinsMined\"},\"y\":{\"field\":\"TotalCoinSupply\"}},\"id\":\"2151\",\"type\":\"Scatter\"},{\"attributes\":{},\"id\":\"2153\",\"type\":\"Selection\"},{\"attributes\":{\"source\":{\"id\":\"2198\"}},\"id\":\"2205\",\"type\":\"CDSView\"},{\"attributes\":{\"fill_alpha\":{\"value\":0.2},\"fill_color\":{\"value\":\"#30a2da\"},\"hatch_alpha\":{\"value\":0.2},\"hatch_color\":{\"value\":\"#30a2da\"},\"line_alpha\":{\"value\":0.2},\"line_color\":{\"value\":\"#30a2da\"},\"size\":{\"value\":5.477225575051661},\"x\":{\"field\":\"TotalCoinsMined\"},\"y\":{\"field\":\"TotalCoinSupply\"}},\"id\":\"2136\",\"type\":\"Scatter\"},{\"attributes\":{\"fill_color\":{\"value\":\"#30a2da\"},\"hatch_color\":{\"value\":\"#30a2da\"},\"line_color\":{\"value\":\"#30a2da\"},\"size\":{\"value\":5.477225575051661},\"x\":{\"field\":\"TotalCoinsMined\"},\"y\":{\"field\":\"TotalCoinSupply\"}},\"id\":\"2134\",\"type\":\"Scatter\"},{\"attributes\":{\"angle\":{\"value\":0.0},\"fill_alpha\":{\"value\":1.0},\"fill_color\":{\"value\":\"#e5ae38\"},\"hatch_alpha\":{\"value\":1.0},\"hatch_color\":{\"value\":\"#e5ae38\"},\"hatch_scale\":{\"value\":12.0},\"hatch_weight\":{\"value\":1.0},\"line_alpha\":{\"value\":1.0},\"line_cap\":{\"value\":\"butt\"},\"line_color\":{\"value\":\"#e5ae38\"},\"line_dash\":{\"value\":[]},\"line_dash_offset\":{\"value\":0},\"line_join\":{\"value\":\"bevel\"},\"line_width\":{\"value\":1},\"marker\":{\"value\":\"circle\"},\"size\":{\"value\":5.477225575051661},\"x\":{\"field\":\"TotalCoinsMined\"},\"y\":{\"field\":\"TotalCoinSupply\"}},\"id\":\"2197\",\"type\":\"Scatter\"},{\"attributes\":{\"fill_color\":{\"value\":\"#6d904f\"},\"hatch_color\":{\"value\":\"#6d904f\"},\"line_color\":{\"value\":\"#6d904f\"},\"size\":{\"value\":5.477225575051661},\"x\":{\"field\":\"TotalCoinsMined\"},\"y\":{\"field\":\"TotalCoinSupply\"}},\"id\":\"2201\",\"type\":\"Scatter\"},{\"attributes\":{\"margin\":[5,5,5,5],\"name\":\"HSpacer02166\",\"sizing_mode\":\"stretch_width\"},\"id\":\"2240\",\"type\":\"Spacer\"},{\"attributes\":{\"data\":{\"Class\":[1,1,1,1,1,1,1,1,1,1,1,1,1,1,1,1,1,1,1,1,1,1,1,1,1,1,1,1,1,1,1,1,1,1,1,1,1,1,1,1,1,1,1,1,1,1,1,1,1,1,1,1,1,1,1,1,1,1,1,1,1,1,1,1,1,1,1,1,1,1,1,1,1,1,1,1,1,1,1,1,1,1,1,1,1,1,1,1,1,1,1,1,1,1,1,1,1,1,1,1,1,1,1,1,1,1,1,1,1,1,1,1,1,1,1,1,1,1,1,1,1,1,1,1,1,1,1,1,1,1,1,1,1,1,1,1,1,1,1,1,1,1,1,1,1,1,1,1,1,1,1,1,1,1,1,1,1,1,1,1,1,1,1,1,1,1,1,1,1,1,1,1,1,1,1,1,1,1,1,1,1,1,1,1,1,1,1,1,1,1,1,1,1,1,1,1,1,1,1,1,1,1,1,1,1,1,1,1,1,1,1,1,1,1,1,1,1,1,1,1,1,1,1,1,1,1,1,1,1,1,1,1,1,1,1,1,1,1],\"CoinName\":[\"Bitcoin\",\"Ethereum\",\"Litecoin\",\"Monero\",\"Ethereum Classic\",\"ZCash\",\"DigiByte\",\"ProsperCoin\",\"Spreadcoin\",\"Argentum\",\"MyriadCoin\",\"MoonCoin\",\"ZetaCoin\",\"SexCoin\",\"Quatloo\",\"QuarkCoin\",\"Riecoin\",\"Digitalcoin \",\"Catcoin\",\"CannaCoin\",\"CryptCoin\",\"Verge\",\"DevCoin\",\"EarthCoin\",\"E-Gulden\",\"Einsteinium\",\"Emerald\",\"Franko\",\"FeatherCoin\",\"GrandCoin\",\"GlobalCoin\",\"GoldCoin\",\"Infinite Coin\",\"IXcoin\",\"KrugerCoin\",\"LuckyCoin\",\"Litebar \",\"MegaCoin\",\"MediterraneanCoin\",\"MinCoin\",\"NobleCoin\",\"Namecoin\",\"NyanCoin\",\"RonPaulCoin\",\"StableCoin\",\"SmartCoin\",\"SysCoin\",\"TigerCoin\",\"TerraCoin\",\"UnbreakableCoin\",\"Unobtanium\",\"UroCoin\",\"ViaCoin\",\"Vertcoin\",\"WorldCoin\",\"JouleCoin\",\"ByteCoin\",\"DigitalNote \",\"MonaCoin\",\"Gulden\",\"PesetaCoin\",\"Wild Beast Coin\",\"Flo\",\"ArtByte\",\"Folding Coin\",\"Unitus\",\"CypherPunkCoin\",\"OmniCron\",\"GreenCoin\",\"Cryptonite\",\"MasterCoin\",\"SoonCoin\",\"1Credit\",\"MarsCoin \",\"Crypto\",\"Anarchists Prime\",\"BowsCoin\",\"Song Coin\",\"BitZeny\",\"Expanse\",\"Siacoin\",\"MindCoin\",\"I0coin\",\"Revolution VR\",\"HOdlcoin\",\"Gamecredits\",\"CarpeDiemCoin\",\"Adzcoin\",\"SoilCoin\",\"YoCoin\",\"SibCoin\",\"Francs\",\"BolivarCoin\",\"Omni\",\"PizzaCoin\",\"Komodo\",\"Karbo\",\"ZayedCoin\",\"Circuits of Value\",\"DopeCoin\",\"DollarCoin\",\"Shilling\",\"ZCoin\",\"Elementrem\",\"ZClassic\",\"KiloCoin\",\"ArtexCoin\",\"Kurrent\",\"Cannabis Industry Coin\",\"OsmiumCoin\",\"Bikercoins\",\"HexxCoin\",\"PacCoin\",\"Citadel\",\"BeaverCoin\",\"VaultCoin\",\"Zero\",\"Canada eCoin\",\"Zoin\",\"DubaiCoin\",\"EB3coin\",\"Coinonat\",\"BenjiRolls\",\"ILCoin\",\"EquiTrader\",\"Quantum Resistant Ledger\",\"Dynamic\",\"Nano\",\"ChanCoin\",\"Dinastycoin\",\"DigitalPrice\",\"Unify\",\"SocialCoin\",\"ArcticCoin\",\"DAS\",\"LeviarCoin\",\"Bitcore\",\"gCn Coin\",\"SmartCash\",\"Onix\",\"Bitcoin Cash\",\"Sojourn Coin\",\"NewYorkCoin\",\"FrazCoin\",\"Kronecoin\",\"AdCoin\",\"Linx\",\"Sumokoin\",\"BitcoinZ\",\"Elements\",\"VIVO Coin\",\"Bitcoin Gold\",\"Pirl\",\"eBoost\",\"Pura\",\"Innova\",\"Ellaism\",\"GoByte\",\"SHIELD\",\"UltraNote\",\"BitCoal\",\"DaxxCoin\",\"AC3\",\"Lethean\",\"PopularCoin\",\"Photon\",\"Sucre\",\"SparksPay\",\"GunCoin\",\"IrishCoin\",\"Pioneer Coin\",\"UnitedBitcoin\",\"Interzone\",\"TurtleCoin\",\"MUNcoin\",\"Niobio Cash\",\"ShareChain\",\"Travelflex\",\"KREDS\",\"BitFlip\",\"LottoCoin\",\"Crypto Improvement Fund\",\"Callisto Network\",\"BitTube\",\"Poseidon\",\"Aidos Kuneen\",\"Bitrolium\",\"Alpenschillling\",\"FuturoCoin\",\"Monero Classic\",\"Jumpcoin\",\"Infinex\",\"KEYCO\",\"GINcoin\",\"PlatinCoin\",\"Loki\",\"Newton Coin\",\"MassGrid\",\"PluraCoin\",\"Motion\",\"PlusOneCoin\",\"Axe\",\"HexCoin\",\"Webchain\",\"Ryo\",\"Urals Coin\",\"Qwertycoin\",\"Project Pai\",\"Azart\",\"Xchange\",\"CrypticCoin\",\"Actinium\",\"Bitcoin SV\",\"FREDEnergy\",\"Universal Molecule\",\"Lithium\",\"Exosis\",\"Block-Logic\",\"Beam\",\"Bithereum\",\"SLICE\",\"BLAST\",\"Bitcoin Rhodium\",\"GlobalToken\",\"SolarCoin\",\"UFO Coin\",\"BlakeCoin\",\"Crypto Escudo\",\"Crown Coin\",\"SmileyCoin\",\"Groestlcoin\",\"Bata\",\"Pakcoin\",\"JoinCoin\",\"Vollar\",\"Reality Clash\",\"Beldex\",\"Horizen\"],\"TotalCoinSupply\":{\"__ndarray__\":\"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\",\"dtype\":\"float64\",\"order\":\"little\",\"shape\":[238]},\"TotalCoinsMined\":{\"__ndarray__\":\"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\",\"dtype\":\"float64\",\"order\":\"little\",\"shape\":[238]}},\"selected\":{\"id\":\"2153\"},\"selection_policy\":{\"id\":\"2169\"}},\"id\":\"2152\",\"type\":\"ColumnDataSource\"},{\"attributes\":{\"source\":{\"id\":\"2152\"}},\"id\":\"2159\",\"type\":\"CDSView\"},{\"attributes\":{\"fill_alpha\":{\"value\":0.1},\"fill_color\":{\"value\":\"#e5ae38\"},\"hatch_alpha\":{\"value\":0.1},\"hatch_color\":{\"value\":\"#e5ae38\"},\"line_alpha\":{\"value\":0.1},\"line_color\":{\"value\":\"#e5ae38\"},\"size\":{\"value\":5.477225575051661},\"x\":{\"field\":\"TotalCoinsMined\"},\"y\":{\"field\":\"TotalCoinSupply\"}},\"id\":\"2178\",\"type\":\"Scatter\"},{\"attributes\":{},\"id\":\"2199\",\"type\":\"Selection\"},{\"attributes\":{\"end\":1.042857142857143,\"reset_end\":1.042857142857143,\"reset_start\":-0.04285714285714286,\"start\":-0.04285714285714286,\"tags\":[[[\"TotalCoinsMined\",\"TotalCoinsMined\",null]]]},\"id\":\"2089\",\"type\":\"Range1d\"},{\"attributes\":{\"axis\":{\"id\":\"2104\"},\"coordinates\":null,\"grid_line_color\":null,\"group\":null,\"ticker\":null},\"id\":\"2107\",\"type\":\"Grid\"},{\"attributes\":{\"fill_alpha\":{\"value\":0.2},\"fill_color\":{\"value\":\"#fc4f30\"},\"hatch_alpha\":{\"value\":0.2},\"hatch_color\":{\"value\":\"#fc4f30\"},\"line_alpha\":{\"value\":0.2},\"line_color\":{\"value\":\"#fc4f30\"},\"size\":{\"value\":5.477225575051661},\"x\":{\"field\":\"TotalCoinsMined\"},\"y\":{\"field\":\"TotalCoinSupply\"}},\"id\":\"2157\",\"type\":\"Scatter\"},{\"attributes\":{},\"id\":\"2219\",\"type\":\"UnionRenderers\"},{\"attributes\":{\"coordinates\":null,\"group\":null,\"text_color\":\"black\",\"text_font_size\":\"12pt\"},\"id\":\"2096\",\"type\":\"Title\"},{\"attributes\":{\"fill_alpha\":{\"value\":0.2},\"fill_color\":{\"value\":\"#e5ae38\"},\"hatch_alpha\":{\"value\":0.2},\"hatch_color\":{\"value\":\"#e5ae38\"},\"line_alpha\":{\"value\":0.2},\"line_color\":{\"value\":\"#e5ae38\"},\"size\":{\"value\":5.477225575051661},\"x\":{\"field\":\"TotalCoinsMined\"},\"y\":{\"field\":\"TotalCoinSupply\"}},\"id\":\"2179\",\"type\":\"Scatter\"},{\"attributes\":{\"callback\":null,\"renderers\":[{\"id\":\"2137\"},{\"id\":\"2158\"},{\"id\":\"2180\"},{\"id\":\"2204\"}],\"tags\":[\"hv_created\"],\"tooltips\":[[\"Class\",\"@{Class}\"],[\"TotalCoinsMined\",\"@{TotalCoinsMined}\"],[\"TotalCoinSupply\",\"@{TotalCoinSupply}\"],[\"CoinName\",\"@{CoinName}\"]]},\"id\":\"2091\",\"type\":\"HoverTool\"},{\"attributes\":{},\"id\":\"2102\",\"type\":\"LinearScale\"},{\"attributes\":{\"end\":1.1,\"reset_end\":1.1,\"reset_start\":-0.1,\"start\":-0.1,\"tags\":[[[\"TotalCoinSupply\",\"TotalCoinSupply\",null]]]},\"id\":\"2090\",\"type\":\"Range1d\"},{\"attributes\":{\"axis_label\":\"TotalCoinSupply\",\"coordinates\":null,\"formatter\":{\"id\":\"2129\"},\"group\":null,\"major_label_policy\":{\"id\":\"2130\"},\"ticker\":{\"id\":\"2109\"}},\"id\":\"2108\",\"type\":\"LinearAxis\"},{\"attributes\":{\"label\":{\"value\":\"3\"},\"renderers\":[{\"id\":\"2204\"}]},\"id\":\"2222\",\"type\":\"LegendItem\"},{\"attributes\":{\"axis_label\":\"TotalCoinsMined\",\"coordinates\":null,\"formatter\":{\"id\":\"2126\"},\"group\":null,\"major_label_policy\":{\"id\":\"2127\"},\"ticker\":{\"id\":\"2105\"}},\"id\":\"2104\",\"type\":\"LinearAxis\"},{\"attributes\":{},\"id\":\"2129\",\"type\":\"BasicTickFormatter\"},{\"attributes\":{\"coordinates\":null,\"data_source\":{\"id\":\"2198\"},\"glyph\":{\"id\":\"2201\"},\"group\":null,\"hover_glyph\":null,\"muted_glyph\":{\"id\":\"2203\"},\"nonselection_glyph\":{\"id\":\"2202\"},\"selection_glyph\":{\"id\":\"2223\"},\"view\":{\"id\":\"2205\"}},\"id\":\"2204\",\"type\":\"GlyphRenderer\"},{\"attributes\":{\"angle\":{\"value\":0.0},\"fill_alpha\":{\"value\":1.0},\"fill_color\":{\"value\":\"#6d904f\"},\"hatch_alpha\":{\"value\":1.0},\"hatch_color\":{\"value\":\"#6d904f\"},\"hatch_scale\":{\"value\":12.0},\"hatch_weight\":{\"value\":1.0},\"line_alpha\":{\"value\":1.0},\"line_cap\":{\"value\":\"butt\"},\"line_color\":{\"value\":\"#6d904f\"},\"line_dash\":{\"value\":[]},\"line_dash_offset\":{\"value\":0},\"line_join\":{\"value\":\"bevel\"},\"line_width\":{\"value\":1},\"marker\":{\"value\":\"circle\"},\"size\":{\"value\":5.477225575051661},\"x\":{\"field\":\"TotalCoinsMined\"},\"y\":{\"field\":\"TotalCoinSupply\"}},\"id\":\"2223\",\"type\":\"Scatter\"},{\"attributes\":{\"axis\":{\"id\":\"2108\"},\"coordinates\":null,\"dimension\":1,\"grid_line_color\":null,\"group\":null,\"ticker\":null},\"id\":\"2111\",\"type\":\"Grid\"},{\"attributes\":{\"fill_alpha\":{\"value\":0.1},\"fill_color\":{\"value\":\"#30a2da\"},\"hatch_alpha\":{\"value\":0.1},\"hatch_color\":{\"value\":\"#30a2da\"},\"line_alpha\":{\"value\":0.1},\"line_color\":{\"value\":\"#30a2da\"},\"size\":{\"value\":5.477225575051661},\"x\":{\"field\":\"TotalCoinsMined\"},\"y\":{\"field\":\"TotalCoinSupply\"}},\"id\":\"2135\",\"type\":\"Scatter\"},{\"attributes\":{\"data\":{\"Class\":[0,0,0,0,0,0,0,0,0,0,0,0,0,0,0,0,0,0,0,0,0,0,0,0,0,0,0,0,0,0,0,0,0,0,0,0,0,0,0,0,0,0,0,0,0,0,0,0,0,0,0,0,0,0,0,0,0,0,0,0,0,0,0,0,0,0,0,0,0,0,0,0,0,0,0,0,0,0,0,0,0,0,0,0,0,0,0,0,0,0,0,0,0,0,0,0,0,0,0,0,0,0,0,0,0,0,0,0,0,0,0,0,0,0,0,0,0,0,0,0,0,0,0,0,0,0,0,0,0,0,0,0,0,0,0,0,0,0,0,0,0,0,0,0,0,0,0,0,0,0,0,0,0,0,0,0,0,0,0,0,0,0,0,0,0,0,0,0,0,0,0,0,0,0,0,0,0,0,0,0,0,0,0,0,0,0,0,0,0,0,0,0,0,0,0,0,0,0,0,0,0,0,0,0,0,0,0,0,0,0,0,0,0,0,0,0,0,0,0,0,0,0,0,0,0,0,0,0,0,0,0,0,0,0,0,0,0,0,0,0,0,0,0,0,0,0,0,0,0,0,0,0,0,0,0,0,0,0,0,0,0,0,0,0,0,0,0,0,0,0,0,0,0,0,0,0,0,0,0,0,0,0,0,0,0,0,0,0],\"CoinName\":[\"42 Coin\",\"404Coin\",\"EliteCoin\",\"Dash\",\"Bitshares\",\"BitcoinDark\",\"PayCoin\",\"KoboCoin\",\"Aurora Coin\",\"BlueCoin\",\"EnergyCoin\",\"BitBar\",\"CryptoBullion\",\"CasinoCoin\",\"Diamond\",\"Exclusive Coin\",\"FlutterCoin\",\"HoboNickels\",\"HyperStake\",\"IOCoin\",\"MaxCoin\",\"MintCoin\",\"MazaCoin\",\"Nautilus Coin\",\"NavCoin\",\"OpalCoin\",\"Orbitcoin\",\"PotCoin\",\"PhoenixCoin\",\"Reddcoin\",\"SuperCoin\",\"SyncCoin\",\"TeslaCoin\",\"TittieCoin\",\"TorCoin\",\"UnitaryStatus Dollar\",\"UltraCoin\",\"VeriCoin\",\"X11 Coin\",\"Crypti\",\"StealthCoin\",\"ZCC Coin\",\"BurstCoin\",\"StorjCoin\",\"Neutron\",\"FairCoin\",\"RubyCoin\",\"Kore\",\"Dnotes\",\"8BIT Coin\",\"Sativa Coin\",\"Ucoin\",\"Vtorrent\",\"IslaCoin\",\"Nexus\",\"Droidz\",\"Squall Coin\",\"Diggits\",\"Paycon\",\"Emercoin\",\"EverGreenCoin\",\"Decred\",\"EDRCoin\",\"Hitcoin\",\"DubaiCoin\",\"PWR Coin\",\"BillaryCoin\",\"GPU Coin\",\"EuropeCoin\",\"ZeitCoin\",\"SwingCoin\",\"SafeExchangeCoin\",\"Nebuchadnezzar\",\"Ratecoin\",\"Revenu\",\"Clockcoin\",\"VIP Tokens\",\"BitSend\",\"Let it Ride\",\"PutinCoin\",\"iBankCoin\",\"Frankywillcoin\",\"MudraCoin\",\"Lutetium Coin\",\"GoldBlocks\",\"CarterCoin\",\"BitTokens\",\"MustangCoin\",\"ZoneCoin\",\"RootCoin\",\"BitCurrency\",\"Swiscoin\",\"BuzzCoin\",\"Opair\",\"PesoBit\",\"Halloween Coin\",\"CoffeeCoin\",\"RoyalCoin\",\"GanjaCoin V2\",\"TeamUP\",\"LanaCoin\",\"ARK\",\"InsaneCoin\",\"EmberCoin\",\"XenixCoin\",\"FreeCoin\",\"PLNCoin\",\"AquariusCoin\",\"Creatio\",\"Eternity\",\"Eurocoin\",\"BitcoinFast\",\"Stakenet\",\"BitConnect Coin\",\"MoneyCoin\",\"Enigma\",\"Russiacoin\",\"PandaCoin\",\"GameUnits\",\"GAKHcoin\",\"Allsafe\",\"LiteCreed\",\"Klingon Empire Darsek\",\"Internet of People\",\"KushCoin\",\"Printerium\",\"Impeach\",\"Zilbercoin\",\"FirstCoin\",\"FindCoin\",\"OpenChat\",\"RenosCoin\",\"VirtacoinPlus\",\"TajCoin\",\"Impact\",\"Atmos\",\"HappyCoin\",\"MacronCoin\",\"Condensate\",\"Independent Money System\",\"ArgusCoin\",\"LomoCoin\",\"ProCurrency\",\"GoldReserve\",\"GrowthCoin\",\"Phreak\",\"Degas Coin\",\"HTML5 Coin\",\"Ultimate Secure Cash\",\"QTUM\",\"Espers\",\"Denarius\",\"Virta Unique Coin\",\"Bitcoin Planet\",\"BritCoin\",\"Linda\",\"DeepOnion\",\"Signatum\",\"Cream\",\"Monoeci\",\"Draftcoin\",\"Vechain\",\"Stakecoin\",\"CoinonatX\",\"Ethereum Dark\",\"Obsidian\",\"Cardano\",\"Regalcoin\",\"TrezarCoin\",\"TerraNovaCoin\",\"Rupee\",\"WomenCoin\",\"Theresa May Coin\",\"NamoCoin\",\"LUXCoin\",\"Xios\",\"Bitcloud 2.0\",\"KekCoin\",\"BlackholeCoin\",\"Infinity Economics\",\"Magnet\",\"Lamden Tau\",\"Electra\",\"Bitcoin Diamond\",\"Cash & Back Coin\",\"Bulwark\",\"Kalkulus\",\"GermanCoin\",\"LiteCoin Ultra\",\"PhantomX\",\"Digiwage\",\"Trollcoin\",\"Litecoin Plus\",\"Monkey Project\",\"TokenPay\",\"1717 Masonic Commemorative Token\",\"My Big Coin\",\"Unified Society USDEX\",\"Tokyo Coin\",\"Stipend\",\"Pushi\",\"Ellerium\",\"Velox\",\"Ontology\",\"Bitspace\",\"Briacoin\",\"Ignition\",\"MedicCoin\",\"Bitcoin Green\",\"Deviant Coin\",\"Abjcoin\",\"Semux\",\"Carebit\",\"Zealium\",\"Proton\",\"iDealCash\",\"Bitcoin Incognito\",\"HollyWoodCoin\",\"Swisscoin\",\"Xt3ch\",\"TheVig\",\"EmaratCoin\",\"Dekado\",\"Lynx\",\"Poseidon Quark\",\"BitcoinWSpectrum\",\"Muse\",\"Trivechain\",\"Dystem\",\"Giant\",\"Peony Coin\",\"Absolute Coin\",\"Vitae\",\"TPCash\",\"ARENON\",\"EUNO\",\"MMOCoin\",\"Ketan\",\"XDNA\",\"PAXEX\",\"ThunderStake\",\"Kcash\",\"Bettex coin\",\"BitMoney\",\"Junson Ming Chan Coin\",\"HerbCoin\",\"PirateCash\",\"Oduwa\",\"Galilel\",\"Crypto Sports\",\"Credit\",\"Dash Platinum\",\"Nasdacoin\",\"Beetle Coin\",\"Titan Coin\",\"Award\",\"Insane Coin\",\"ALAX\",\"LiteDoge\",\"TruckCoin\",\"OrangeCoin\",\"BitstarCoin\",\"NeosCoin\",\"HyperCoin\",\"PinkCoin\",\"AudioCoin\",\"IncaKoin\",\"Piggy Coin\",\"Genstake\",\"XiaoMiCoin\",\"CapriCoin\",\" ClubCoin\",\"Radium\",\"Creditbit \",\"OKCash\",\"Lisk\",\"HiCoin\",\"WhiteCoin\",\"FriendshipCoin\",\"Triangles Coin\",\"EOS\",\"Oxycoin\",\"TigerCash\",\"Particl\",\"Nxt\",\"ZEPHYR\",\"Gapcoin\",\"BitcoinPlus\"],\"TotalCoinSupply\":{\"__ndarray__\":\"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\",\"dtype\":\"float64\",\"order\":\"little\",\"shape\":[288]},\"TotalCoinsMined\":{\"__ndarray__\":\"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\",\"dtype\":\"float64\",\"order\":\"little\",\"shape\":[288]}},\"selected\":{\"id\":\"2132\"},\"selection_policy\":{\"id\":\"2146\"}},\"id\":\"2131\",\"type\":\"ColumnDataSource\"},{\"attributes\":{},\"id\":\"2175\",\"type\":\"Selection\"},{\"attributes\":{\"data\":{\"Class\":[2],\"CoinName\":[\"BitTorrent\"],\"TotalCoinSupply\":{\"__ndarray__\":\"rkfhehSu7z8=\",\"dtype\":\"float64\",\"order\":\"little\",\"shape\":[1]},\"TotalCoinsMined\":{\"__ndarray__\":\"AAAAAAAA8D8=\",\"dtype\":\"float64\",\"order\":\"little\",\"shape\":[1]}},\"selected\":{\"id\":\"2175\"},\"selection_policy\":{\"id\":\"2193\"}},\"id\":\"2174\",\"type\":\"ColumnDataSource\"},{\"attributes\":{},\"id\":\"2130\",\"type\":\"AllLabels\"},{\"attributes\":{},\"id\":\"2146\",\"type\":\"UnionRenderers\"},{\"attributes\":{},\"id\":\"2112\",\"type\":\"SaveTool\"}],\"root_ids\":[\"2087\"]},\"title\":\"Bokeh Application\",\"version\":\"2.4.3\"}};\n",
       "    var render_items = [{\"docid\":\"b2da79d2-102a-405e-9aeb-131abcb36aad\",\"root_ids\":[\"2087\"],\"roots\":{\"2087\":\"75d4c3d6-5a02-40bf-91af-829d85940e66\"}}];\n",
       "    root.Bokeh.embed.embed_items_notebook(docs_json, render_items);\n",
       "  }\n",
       "  if (root.Bokeh !== undefined && root.Bokeh.Panel !== undefined) {\n",
       "    embed_document(root);\n",
       "  } else {\n",
       "    var attempts = 0;\n",
       "    var timer = setInterval(function(root) {\n",
       "      if (root.Bokeh !== undefined && root.Bokeh.Panel !== undefined) {\n",
       "        clearInterval(timer);\n",
       "        embed_document(root);\n",
       "      } else if (document.readyState == \"complete\") {\n",
       "        attempts++;\n",
       "        if (attempts > 200) {\n",
       "          clearInterval(timer);\n",
       "          console.log(\"Bokeh: ERROR: Unable to run BokehJS code because BokehJS library is missing\");\n",
       "        }\n",
       "      }\n",
       "    }, 25, root)\n",
       "  }\n",
       "})(window);</script>"
      ],
      "text/plain": [
       ":NdOverlay   [Class]\n",
       "   :Scatter   [TotalCoinsMined]   (TotalCoinSupply,CoinName)"
      ]
     },
     "execution_count": 138,
     "metadata": {
      "application/vnd.holoviews_exec.v0+json": {
       "id": "2087"
      }
     },
     "output_type": "execute_result"
    }
   ],
   "source": [
    "# Create a hvplot.scatter plot using x=\"TotalCoinsMined\" and y=\"TotalCoinSupply\".\n",
    "plot_df.hvplot.scatter(x='TotalCoinsMined', y='TotalCoinSupply', by='Class', hover_cols='CoinName')"
   ]
  },
  {
   "cell_type": "code",
   "execution_count": null,
   "metadata": {},
   "outputs": [],
   "source": []
  }
 ],
 "metadata": {
  "file_extension": ".py",
  "kernelspec": {
   "display_name": "Python 3 (ipykernel)",
   "language": "python",
   "name": "python3"
  },
  "language_info": {
   "codemirror_mode": {
    "name": "ipython",
    "version": 3
   },
   "file_extension": ".py",
   "mimetype": "text/x-python",
   "name": "python",
   "nbconvert_exporter": "python",
   "pygments_lexer": "ipython3",
   "version": "3.7.13"
  },
  "latex_envs": {
   "LaTeX_envs_menu_present": true,
   "autoclose": false,
   "autocomplete": true,
   "bibliofile": "biblio.bib",
   "cite_by": "apalike",
   "current_citInitial": 1,
   "eqLabelWithNumbers": true,
   "eqNumInitial": 1,
   "hotkeys": {
    "equation": "Ctrl-E",
    "itemize": "Ctrl-I"
   },
   "labels_anchors": false,
   "latex_user_defs": false,
   "report_style_numbering": false,
   "user_envs_cfg": false
  },
  "mimetype": "text/x-python",
  "name": "python",
  "npconvert_exporter": "python",
  "pygments_lexer": "ipython3",
  "version": 3
 },
 "nbformat": 4,
 "nbformat_minor": 2
}
